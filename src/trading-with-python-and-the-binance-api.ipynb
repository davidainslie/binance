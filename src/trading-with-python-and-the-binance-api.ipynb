{
 "cells": [
  {
   "cell_type": "markdown",
   "source": [
    "# Trading with Python and the Binance API"
   ],
   "metadata": {
    "collapsed": false
   }
  },
  {
   "cell_type": "markdown",
   "source": [
    "## API Preparation - Acquire API Key\n",
    "\n",
    "Navigate to [Binance paper trading](https://testnet.binance.vision/) and login with `github`.\n",
    "[Generate HMAC_SHA256 Key](https://testnet.binance.vision/key/generate) and save to [binance.properties](../.config/test/binance.properties)."
   ],
   "metadata": {
    "collapsed": false
   }
  },
  {
   "cell_type": "markdown",
   "source": [
    "In order to load your Binance credentials:\n",
    "```\n",
    "pip install jproperties\n",
    "```"
   ],
   "metadata": {
    "collapsed": false
   }
  },
  {
   "cell_type": "code",
   "execution_count": 1,
   "outputs": [
    {
     "name": "stdout",
     "output_type": "stream",
     "text": [
      "PropertyTuple(data='T676iQh9CncaNbbkPysmYVXAgJCVXHyZvoInM6dQdhZ85jHhlM1Yb7lI6vEkQDKH', meta={})\n",
      "PropertyTuple(data='TzYhaKDc8w3WASWn7mGn3XFTVhhOb0lAXpJH8iwLaQAUq4noTeF8XHOsobn0aVfZ', meta={})\n"
     ]
    }
   ],
   "source": [
    "from jproperties import Properties\n",
    "\n",
    "properties = Properties()\n",
    "\n",
    "with open(\"../.config/test/binance.properties\", \"rb\") as binanceProperties:\n",
    "  properties.load(binanceProperties)\n",
    "\n",
    "print(properties.get(\"api-key\"))\n",
    "print(properties.get(\"secret-key\"))"
   ],
   "metadata": {
    "collapsed": false,
    "ExecuteTime": {
     "start_time": "2023-04-22T17:43:40.067118Z",
     "end_time": "2023-04-22T17:43:40.076724Z"
    }
   }
  },
  {
   "cell_type": "markdown",
   "source": [
    "## Required packages\n",
    "\n",
    "Use the unofficial Python wrapper for the Binance exchange REST API version 3.\n",
    "```\n",
    "pip install python-binance\n",
    "```"
   ],
   "metadata": {
    "collapsed": false
   }
  },
  {
   "cell_type": "markdown",
   "source": [
    "## Connecting to the API Server"
   ],
   "metadata": {
    "collapsed": false
   }
  },
  {
   "cell_type": "code",
   "execution_count": 10,
   "outputs": [],
   "source": [
    "from binance.client import Client\n",
    "from dataclasses import dataclass\n",
    "from jproperties import Properties\n",
    "import os\n",
    "import pandas as pd"
   ],
   "metadata": {
    "collapsed": false,
    "ExecuteTime": {
     "start_time": "2023-04-22T17:46:47.982921Z",
     "end_time": "2023-04-22T17:46:50.762760Z"
    }
   }
  },
  {
   "cell_type": "code",
   "execution_count": 3,
   "outputs": [],
   "source": [
    "@dataclass(frozen = True)\n",
    "class BinanceCredentials:\n",
    "  apiKey: str\n",
    "  secretKey: str"
   ],
   "metadata": {
    "collapsed": false,
    "ExecuteTime": {
     "start_time": "2023-04-22T17:43:41.476750Z",
     "end_time": "2023-04-22T17:43:41.481514Z"
    }
   }
  },
  {
   "cell_type": "code",
   "execution_count": 4,
   "outputs": [],
   "source": [
    "def binanceCredentials(path):\n",
    "  with open(path, \"rb\") as binanceProperties:\n",
    "    properties = Properties()\n",
    "    properties.load(binanceProperties)\n",
    "    return BinanceCredentials(properties.get(\"api-key\").data, properties.get(\"secret-key\").data)"
   ],
   "metadata": {
    "collapsed": false,
    "ExecuteTime": {
     "start_time": "2023-04-22T17:43:41.485253Z",
     "end_time": "2023-04-22T17:43:41.488949Z"
    }
   }
  },
  {
   "cell_type": "code",
   "execution_count": 5,
   "outputs": [],
   "source": [
    "creds = binanceCredentials(os.path.abspath(\"../.config/test/binance.properties\"))"
   ],
   "metadata": {
    "collapsed": false,
    "ExecuteTime": {
     "start_time": "2023-04-22T17:43:41.490288Z",
     "end_time": "2023-04-22T17:43:41.494659Z"
    }
   }
  },
  {
   "cell_type": "code",
   "execution_count": 6,
   "outputs": [
    {
     "data": {
      "text/plain": "BinanceCredentials(apiKey='T676iQh9CncaNbbkPysmYVXAgJCVXHyZvoInM6dQdhZ85jHhlM1Yb7lI6vEkQDKH', secretKey='TzYhaKDc8w3WASWn7mGn3XFTVhhOb0lAXpJH8iwLaQAUq4noTeF8XHOsobn0aVfZ')"
     },
     "execution_count": 6,
     "metadata": {},
     "output_type": "execute_result"
    }
   ],
   "source": [
    "creds"
   ],
   "metadata": {
    "collapsed": false,
    "ExecuteTime": {
     "start_time": "2023-04-22T17:43:41.496061Z",
     "end_time": "2023-04-22T17:43:41.511585Z"
    }
   }
  },
  {
   "cell_type": "code",
   "execution_count": 7,
   "outputs": [],
   "source": [
    "# Paper trading at: https://testnet.binance.vision/\n",
    "# Is it enough to set testnet = True? Because when we check the URL we get https://api.binance.com/api\n",
    "client = Client(creds.apiKey, creds.secretKey, tld = \"com\", testnet = True)"
   ],
   "metadata": {
    "collapsed": false,
    "ExecuteTime": {
     "start_time": "2023-04-22T17:43:41.508226Z",
     "end_time": "2023-04-22T17:43:41.898122Z"
    }
   }
  },
  {
   "cell_type": "code",
   "execution_count": 8,
   "outputs": [
    {
     "data": {
      "text/plain": "'https://api.binance.com/api'"
     },
     "execution_count": 8,
     "metadata": {},
     "output_type": "execute_result"
    }
   ],
   "source": [
    "client.API_URL"
   ],
   "metadata": {
    "collapsed": false,
    "ExecuteTime": {
     "start_time": "2023-04-22T17:43:41.899736Z",
     "end_time": "2023-04-22T17:43:41.905047Z"
    }
   }
  },
  {
   "cell_type": "code",
   "execution_count": 13,
   "outputs": [
    {
     "data": {
      "text/plain": "{'makerCommission': 0,\n 'takerCommission': 0,\n 'buyerCommission': 0,\n 'sellerCommission': 0,\n 'commissionRates': {'maker': '0.00000000',\n  'taker': '0.00000000',\n  'buyer': '0.00000000',\n  'seller': '0.00000000'},\n 'canTrade': True,\n 'canWithdraw': False,\n 'canDeposit': False,\n 'brokered': False,\n 'requireSelfTradePrevention': False,\n 'updateTime': 1680671854117,\n 'accountType': 'SPOT',\n 'balances': [{'asset': 'BNB',\n   'free': '1000.00000000',\n   'locked': '0.00000000'},\n  {'asset': 'BTC', 'free': '1.00000000', 'locked': '0.00000000'},\n  {'asset': 'BUSD', 'free': '10000.00000000', 'locked': '0.00000000'},\n  {'asset': 'ETH', 'free': '100.00000000', 'locked': '0.00000000'},\n  {'asset': 'LTC', 'free': '500.00000000', 'locked': '0.00000000'},\n  {'asset': 'TRX', 'free': '500000.00000000', 'locked': '0.00000000'},\n  {'asset': 'USDT', 'free': '10000.00000000', 'locked': '0.00000000'},\n  {'asset': 'XRP', 'free': '50000.00000000', 'locked': '0.00000000'}],\n 'permissions': ['SPOT']}"
     },
     "execution_count": 13,
     "metadata": {},
     "output_type": "execute_result"
    }
   ],
   "source": [
    "account = client.get_account()\n",
    "account"
   ],
   "metadata": {
    "collapsed": false,
    "ExecuteTime": {
     "start_time": "2023-04-22T17:50:36.418063Z",
     "end_time": "2023-04-22T17:50:36.673815Z"
    }
   }
  },
  {
   "cell_type": "code",
   "execution_count": 11,
   "outputs": [
    {
     "data": {
      "text/plain": "{}"
     },
     "execution_count": 11,
     "metadata": {},
     "output_type": "execute_result"
    }
   ],
   "source": [
    "# Test connectivity:\n",
    "client.ping()"
   ],
   "metadata": {
    "collapsed": false,
    "ExecuteTime": {
     "start_time": "2023-04-22T17:48:10.289819Z",
     "end_time": "2023-04-22T17:48:10.989830Z"
    }
   }
  },
  {
   "cell_type": "code",
   "execution_count": 12,
   "outputs": [
    {
     "data": {
      "text/plain": "{'status': 0, 'msg': 'normal'}"
     },
     "execution_count": 12,
     "metadata": {},
     "output_type": "execute_result"
    }
   ],
   "source": [
    "client.get_system_status()"
   ],
   "metadata": {
    "collapsed": false,
    "ExecuteTime": {
     "start_time": "2023-04-22T17:48:43.480509Z",
     "end_time": "2023-04-22T17:48:43.796501Z"
    }
   }
  },
  {
   "cell_type": "code",
   "execution_count": 14,
   "outputs": [
    {
     "data": {
      "text/plain": "'SPOT'"
     },
     "execution_count": 14,
     "metadata": {},
     "output_type": "execute_result"
    }
   ],
   "source": [
    "account[\"accountType\"]"
   ],
   "metadata": {
    "collapsed": false,
    "ExecuteTime": {
     "start_time": "2023-04-22T17:50:50.224358Z",
     "end_time": "2023-04-22T17:50:50.260589Z"
    }
   }
  },
  {
   "cell_type": "code",
   "execution_count": 15,
   "outputs": [
    {
     "data": {
      "text/plain": "Timestamp('2023-04-05 05:17:34.117000')"
     },
     "execution_count": 15,
     "metadata": {},
     "output_type": "execute_result"
    }
   ],
   "source": [
    "pd.to_datetime(account[\"updateTime\"], unit = \"ms\")"
   ],
   "metadata": {
    "collapsed": false,
    "ExecuteTime": {
     "start_time": "2023-04-22T17:52:33.526280Z",
     "end_time": "2023-04-22T17:52:33.553349Z"
    }
   }
  },
  {
   "cell_type": "code",
   "execution_count": 16,
   "outputs": [
    {
     "data": {
      "text/plain": "[{'asset': 'BNB', 'free': '1000.00000000', 'locked': '0.00000000'},\n {'asset': 'BTC', 'free': '1.00000000', 'locked': '0.00000000'},\n {'asset': 'BUSD', 'free': '10000.00000000', 'locked': '0.00000000'},\n {'asset': 'ETH', 'free': '100.00000000', 'locked': '0.00000000'},\n {'asset': 'LTC', 'free': '500.00000000', 'locked': '0.00000000'},\n {'asset': 'TRX', 'free': '500000.00000000', 'locked': '0.00000000'},\n {'asset': 'USDT', 'free': '10000.00000000', 'locked': '0.00000000'},\n {'asset': 'XRP', 'free': '50000.00000000', 'locked': '0.00000000'}]"
     },
     "execution_count": 16,
     "metadata": {},
     "output_type": "execute_result"
    }
   ],
   "source": [
    "account[\"balances\"]"
   ],
   "metadata": {
    "collapsed": false,
    "ExecuteTime": {
     "start_time": "2023-04-22T17:53:25.113600Z",
     "end_time": "2023-04-22T17:53:25.144493Z"
    }
   }
  },
  {
   "cell_type": "code",
   "execution_count": 17,
   "outputs": [
    {
     "data": {
      "text/plain": "  asset             free      locked\n0   BNB    1000.00000000  0.00000000\n1   BTC       1.00000000  0.00000000\n2  BUSD   10000.00000000  0.00000000\n3   ETH     100.00000000  0.00000000\n4   LTC     500.00000000  0.00000000\n5   TRX  500000.00000000  0.00000000\n6  USDT   10000.00000000  0.00000000\n7   XRP   50000.00000000  0.00000000",
      "text/html": "<div>\n<style scoped>\n    .dataframe tbody tr th:only-of-type {\n        vertical-align: middle;\n    }\n\n    .dataframe tbody tr th {\n        vertical-align: top;\n    }\n\n    .dataframe thead th {\n        text-align: right;\n    }\n</style>\n<table border=\"1\" class=\"dataframe\">\n  <thead>\n    <tr style=\"text-align: right;\">\n      <th></th>\n      <th>asset</th>\n      <th>free</th>\n      <th>locked</th>\n    </tr>\n  </thead>\n  <tbody>\n    <tr>\n      <th>0</th>\n      <td>BNB</td>\n      <td>1000.00000000</td>\n      <td>0.00000000</td>\n    </tr>\n    <tr>\n      <th>1</th>\n      <td>BTC</td>\n      <td>1.00000000</td>\n      <td>0.00000000</td>\n    </tr>\n    <tr>\n      <th>2</th>\n      <td>BUSD</td>\n      <td>10000.00000000</td>\n      <td>0.00000000</td>\n    </tr>\n    <tr>\n      <th>3</th>\n      <td>ETH</td>\n      <td>100.00000000</td>\n      <td>0.00000000</td>\n    </tr>\n    <tr>\n      <th>4</th>\n      <td>LTC</td>\n      <td>500.00000000</td>\n      <td>0.00000000</td>\n    </tr>\n    <tr>\n      <th>5</th>\n      <td>TRX</td>\n      <td>500000.00000000</td>\n      <td>0.00000000</td>\n    </tr>\n    <tr>\n      <th>6</th>\n      <td>USDT</td>\n      <td>10000.00000000</td>\n      <td>0.00000000</td>\n    </tr>\n    <tr>\n      <th>7</th>\n      <td>XRP</td>\n      <td>50000.00000000</td>\n      <td>0.00000000</td>\n    </tr>\n  </tbody>\n</table>\n</div>"
     },
     "execution_count": 17,
     "metadata": {},
     "output_type": "execute_result"
    }
   ],
   "source": [
    "df = pd.DataFrame(account[\"balances\"])\n",
    "df"
   ],
   "metadata": {
    "collapsed": false,
    "ExecuteTime": {
     "start_time": "2023-04-22T17:54:41.394400Z",
     "end_time": "2023-04-22T17:54:41.417750Z"
    }
   }
  },
  {
   "cell_type": "code",
   "execution_count": 18,
   "outputs": [
    {
     "name": "stdout",
     "output_type": "stream",
     "text": [
      "<class 'pandas.core.frame.DataFrame'>\n",
      "RangeIndex: 8 entries, 0 to 7\n",
      "Data columns (total 3 columns):\n",
      " #   Column  Non-Null Count  Dtype \n",
      "---  ------  --------------  ----- \n",
      " 0   asset   8 non-null      object\n",
      " 1   free    8 non-null      object\n",
      " 2   locked  8 non-null      object\n",
      "dtypes: object(3)\n",
      "memory usage: 320.0+ bytes\n"
     ]
    }
   ],
   "source": [
    "df.info()"
   ],
   "metadata": {
    "collapsed": false,
    "ExecuteTime": {
     "start_time": "2023-04-22T17:55:35.269451Z",
     "end_time": "2023-04-22T17:55:35.360696Z"
    }
   }
  },
  {
   "cell_type": "code",
   "execution_count": 21,
   "outputs": [
    {
     "data": {
      "text/plain": "  asset      free  locked\n0   BNB    1000.0     0.0\n1   BTC       1.0     0.0\n2  BUSD   10000.0     0.0\n3   ETH     100.0     0.0\n4   LTC     500.0     0.0\n5   TRX  500000.0     0.0\n6  USDT   10000.0     0.0\n7   XRP   50000.0     0.0",
      "text/html": "<div>\n<style scoped>\n    .dataframe tbody tr th:only-of-type {\n        vertical-align: middle;\n    }\n\n    .dataframe tbody tr th {\n        vertical-align: top;\n    }\n\n    .dataframe thead th {\n        text-align: right;\n    }\n</style>\n<table border=\"1\" class=\"dataframe\">\n  <thead>\n    <tr style=\"text-align: right;\">\n      <th></th>\n      <th>asset</th>\n      <th>free</th>\n      <th>locked</th>\n    </tr>\n  </thead>\n  <tbody>\n    <tr>\n      <th>0</th>\n      <td>BNB</td>\n      <td>1000.0</td>\n      <td>0.0</td>\n    </tr>\n    <tr>\n      <th>1</th>\n      <td>BTC</td>\n      <td>1.0</td>\n      <td>0.0</td>\n    </tr>\n    <tr>\n      <th>2</th>\n      <td>BUSD</td>\n      <td>10000.0</td>\n      <td>0.0</td>\n    </tr>\n    <tr>\n      <th>3</th>\n      <td>ETH</td>\n      <td>100.0</td>\n      <td>0.0</td>\n    </tr>\n    <tr>\n      <th>4</th>\n      <td>LTC</td>\n      <td>500.0</td>\n      <td>0.0</td>\n    </tr>\n    <tr>\n      <th>5</th>\n      <td>TRX</td>\n      <td>500000.0</td>\n      <td>0.0</td>\n    </tr>\n    <tr>\n      <th>6</th>\n      <td>USDT</td>\n      <td>10000.0</td>\n      <td>0.0</td>\n    </tr>\n    <tr>\n      <th>7</th>\n      <td>XRP</td>\n      <td>50000.0</td>\n      <td>0.0</td>\n    </tr>\n  </tbody>\n</table>\n</div>"
     },
     "execution_count": 21,
     "metadata": {},
     "output_type": "execute_result"
    }
   ],
   "source": [
    "df.free = pd.to_numeric(df.free, errors = \"coerce\")\n",
    "df.locked = pd.to_numeric(df.locked, errors = \"coerce\")\n",
    "df"
   ],
   "metadata": {
    "collapsed": false,
    "ExecuteTime": {
     "start_time": "2023-04-22T17:58:13.163928Z",
     "end_time": "2023-04-22T17:58:13.170139Z"
    }
   }
  },
  {
   "cell_type": "code",
   "execution_count": 22,
   "outputs": [
    {
     "name": "stdout",
     "output_type": "stream",
     "text": [
      "<class 'pandas.core.frame.DataFrame'>\n",
      "RangeIndex: 8 entries, 0 to 7\n",
      "Data columns (total 3 columns):\n",
      " #   Column  Non-Null Count  Dtype  \n",
      "---  ------  --------------  -----  \n",
      " 0   asset   8 non-null      object \n",
      " 1   free    8 non-null      float64\n",
      " 2   locked  8 non-null      float64\n",
      "dtypes: float64(2), object(1)\n",
      "memory usage: 320.0+ bytes\n"
     ]
    }
   ],
   "source": [
    "df.info()0"
   ],
   "metadata": {
    "collapsed": false,
    "ExecuteTime": {
     "start_time": "2023-04-22T17:58:18.213505Z",
     "end_time": "2023-04-22T17:58:18.216202Z"
    }
   }
  },
  {
   "cell_type": "code",
   "execution_count": 25,
   "outputs": [
    {
     "data": {
      "text/plain": "  asset      free  locked\n2  BUSD   10000.0     0.0\n5   TRX  500000.0     0.0\n6  USDT   10000.0     0.0\n7   XRP   50000.0     0.0",
      "text/html": "<div>\n<style scoped>\n    .dataframe tbody tr th:only-of-type {\n        vertical-align: middle;\n    }\n\n    .dataframe tbody tr th {\n        vertical-align: top;\n    }\n\n    .dataframe thead th {\n        text-align: right;\n    }\n</style>\n<table border=\"1\" class=\"dataframe\">\n  <thead>\n    <tr style=\"text-align: right;\">\n      <th></th>\n      <th>asset</th>\n      <th>free</th>\n      <th>locked</th>\n    </tr>\n  </thead>\n  <tbody>\n    <tr>\n      <th>2</th>\n      <td>BUSD</td>\n      <td>10000.0</td>\n      <td>0.0</td>\n    </tr>\n    <tr>\n      <th>5</th>\n      <td>TRX</td>\n      <td>500000.0</td>\n      <td>0.0</td>\n    </tr>\n    <tr>\n      <th>6</th>\n      <td>USDT</td>\n      <td>10000.0</td>\n      <td>0.0</td>\n    </tr>\n    <tr>\n      <th>7</th>\n      <td>XRP</td>\n      <td>50000.0</td>\n      <td>0.0</td>\n    </tr>\n  </tbody>\n</table>\n</div>"
     },
     "execution_count": 25,
     "metadata": {},
     "output_type": "execute_result"
    }
   ],
   "source": [
    "df.loc[df.free > 1000]"
   ],
   "metadata": {
    "collapsed": false,
    "ExecuteTime": {
     "start_time": "2023-04-22T17:59:43.409266Z",
     "end_time": "2023-04-22T17:59:43.416473Z"
    }
   }
  },
  {
   "cell_type": "code",
   "execution_count": 26,
   "outputs": [
    {
     "data": {
      "text/plain": "{'asset': 'BTC', 'free': '1.00000000', 'locked': '0.00000000'}"
     },
     "execution_count": 26,
     "metadata": {},
     "output_type": "execute_result"
    }
   ],
   "source": [
    "client.get_asset_balance(\"BTC\")"
   ],
   "metadata": {
    "collapsed": false,
    "ExecuteTime": {
     "start_time": "2023-04-22T18:00:50.972362Z",
     "end_time": "2023-04-22T18:00:51.232986Z"
    }
   }
  },
  {
   "cell_type": "code",
   "execution_count": 28,
   "outputs": [
    {
     "data": {
      "text/plain": "1.0"
     },
     "execution_count": 28,
     "metadata": {},
     "output_type": "execute_result"
    }
   ],
   "source": [
    "float(client.get_asset_balance(\"BTC\")[\"free\"])"
   ],
   "metadata": {
    "collapsed": false,
    "ExecuteTime": {
     "start_time": "2023-04-22T18:02:42.254062Z",
     "end_time": "2023-04-22T18:02:42.903164Z"
    }
   }
  },
  {
   "cell_type": "code",
   "execution_count": 27,
   "outputs": [
    {
     "data": {
      "text/plain": "{'asset': 'ETH', 'free': '100.00000000', 'locked': '0.00000000'}"
     },
     "execution_count": 27,
     "metadata": {},
     "output_type": "execute_result"
    }
   ],
   "source": [
    "client.get_asset_balance(\"ETH\")"
   ],
   "metadata": {
    "collapsed": false,
    "ExecuteTime": {
     "start_time": "2023-04-22T18:01:08.539751Z",
     "end_time": "2023-04-22T18:01:08.782532Z"
    }
   }
  },
  {
   "cell_type": "code",
   "execution_count": null,
   "outputs": [],
   "source": [],
   "metadata": {
    "collapsed": false
   }
  }
 ],
 "metadata": {
  "kernelspec": {
   "display_name": "Python 3",
   "language": "python",
   "name": "python3"
  },
  "language_info": {
   "codemirror_mode": {
    "name": "ipython",
    "version": 2
   },
   "file_extension": ".py",
   "mimetype": "text/x-python",
   "name": "python",
   "nbconvert_exporter": "python",
   "pygments_lexer": "ipython2",
   "version": "2.7.6"
  }
 },
 "nbformat": 4,
 "nbformat_minor": 0
}

{
 "cells": [
  {
   "cell_type": "markdown",
   "source": [
    "# Trading with Python and the Binance API"
   ],
   "metadata": {
    "collapsed": false
   }
  },
  {
   "cell_type": "markdown",
   "source": [
    "## API Preparation - Acquire API Key\n",
    "\n",
    "Navigate to [Binance paper trading](https://testnet.binance.vision/) and login with `github`.\n",
    "[Generate HMAC_SHA256 Key](https://testnet.binance.vision/key/generate) and save to [binance.properties](../.credentials/binance.properties)."
   ],
   "metadata": {
    "collapsed": false
   }
  },
  {
   "cell_type": "markdown",
   "source": [
    "In order to load your Binance credentials:\n",
    "```\n",
    "pip install jproperties\n",
    "```"
   ],
   "metadata": {
    "collapsed": false
   }
  },
  {
   "cell_type": "code",
   "execution_count": 1,
   "outputs": [
    {
     "name": "stdout",
     "output_type": "stream",
     "text": [
      "PropertyTuple(data='T676iQh9CncaNbbkPysmYVXAgJCVXHyZvoInM6dQdhZ85jHhlM1Yb7lI6vEkQDKH', meta={})\n",
      "PropertyTuple(data='TzYhaKDc8w3WASWn7mGn3XFTVhhOb0lAXpJH8iwLaQAUq4noTeF8XHOsobn0aVfZ', meta={})\n"
     ]
    }
   ],
   "source": [
    "from jproperties import Properties\n",
    "\n",
    "properties = Properties()\n",
    "\n",
    "with open(\"../.credentials/binance.properties\", \"rb\") as binanceProperties:\n",
    "  properties.load(binanceProperties)\n",
    "\n",
    "print(properties.get(\"api-key\"))\n",
    "print(properties.get(\"secret-key\"))"
   ],
   "metadata": {
    "collapsed": false
   }
  },
  {
   "cell_type": "markdown",
   "source": [
    "## Required packages\n",
    "\n",
    "Use the unofficial Python wrapper for the Binance exchange REST API version 3.\n",
    "```\n",
    "pip install python-binance\n",
    "```"
   ],
   "metadata": {
    "collapsed": false
   }
  },
  {
   "cell_type": "markdown",
   "source": [
    "## Connecting to the API Server"
   ],
   "metadata": {
    "collapsed": false
   }
  }
 ],
 "metadata": {
  "kernelspec": {
   "display_name": "Python 3",
   "language": "python",
   "name": "python3"
  },
  "language_info": {
   "codemirror_mode": {
    "name": "ipython",
    "version": 2
   },
   "file_extension": ".py",
   "mimetype": "text/x-python",
   "name": "python",
   "nbconvert_exporter": "python",
   "pygments_lexer": "ipython2",
   "version": "2.7.6"
  }
 },
 "nbformat": 4,
 "nbformat_minor": 0
}

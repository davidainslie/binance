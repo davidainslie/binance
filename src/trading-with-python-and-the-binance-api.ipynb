{
 "cells": [
  {
   "cell_type": "markdown",
   "source": [
    "# Trading with Python and the Binance API"
   ],
   "metadata": {
    "collapsed": false
   }
  },
  {
   "cell_type": "markdown",
   "source": [
    "## API Preparation - Acquire API Key\n",
    "\n",
    "Navigate to [Binance paper trading](https://testnet.binance.vision/) and login with `github`.\n",
    "[Generate HMAC_SHA256 Key](https://testnet.binance.vision/key/generate) and save to [binance.properties](../.config/test/binance.properties).\n",
    "\n",
    "Note that a VPN can cause certain API calls to\n",
    "Check your IP with VPN on and off: wget -qO- http://ipecho.net/plain | xargs echo\n",
    "\n",
    "Some URLs:\n",
    "- Spot testnet base url: https://testnet.binance.vision\n",
    "- Spot production base url: https://api.binance.com\n",
    "- Futures Testnet base url: https://testnet.binancefuture.com\n",
    "- Futures production base url: https://fapi.binance.com\n",
    "- Delivery futures testnet base url: https://testnet.binancefuture.com\n",
    "- Delivery futures production base url: https://dapi.binance.com"
   ],
   "metadata": {
    "collapsed": false
   }
  },
  {
   "cell_type": "markdown",
   "source": [
    "In order to load your Binance credentials:\n",
    "```\n",
    "pip install jproperties\n",
    "```"
   ],
   "metadata": {
    "collapsed": false
   }
  },
  {
   "cell_type": "code",
   "execution_count": 1,
   "outputs": [
    {
     "name": "stdout",
     "output_type": "stream",
     "text": [
      "PropertyTuple(data='T676iQh9CncaNbbkPysmYVXAgJCVXHyZvoInM6dQdhZ85jHhlM1Yb7lI6vEkQDKH', meta={})\n",
      "PropertyTuple(data='TzYhaKDc8w3WASWn7mGn3XFTVhhOb0lAXpJH8iwLaQAUq4noTeF8XHOsobn0aVfZ', meta={})\n"
     ]
    }
   ],
   "source": [
    "from jproperties import Properties\n",
    "\n",
    "properties = Properties()\n",
    "\n",
    "with open(\"../.config/test/binance.properties\", \"rb\") as binanceProperties:\n",
    "  properties.load(binanceProperties)\n",
    "\n",
    "print(properties.get(\"api-key\"))\n",
    "print(properties.get(\"secret-key\"))"
   ],
   "metadata": {
    "collapsed": false,
    "ExecuteTime": {
     "start_time": "2023-04-23T20:45:10.413364Z",
     "end_time": "2023-04-23T20:45:10.416342Z"
    }
   }
  },
  {
   "cell_type": "markdown",
   "source": [
    "## Required packages\n",
    "\n",
    "Use the unofficial Python wrapper for the Binance exchange REST API version 3.\n",
    "```\n",
    "pip install python-binance\n",
    "```"
   ],
   "metadata": {
    "collapsed": false
   }
  },
  {
   "cell_type": "markdown",
   "source": [
    "## Connecting to the API Server"
   ],
   "metadata": {
    "collapsed": false
   }
  },
  {
   "cell_type": "code",
   "execution_count": 2,
   "outputs": [],
   "source": [
    "from binance.client import Client\n",
    "from dataclasses import dataclass\n",
    "from jproperties import Properties\n",
    "import os\n",
    "import pandas as pd"
   ],
   "metadata": {
    "collapsed": false,
    "ExecuteTime": {
     "start_time": "2023-04-23T20:45:10.417500Z",
     "end_time": "2023-04-23T20:45:11.573089Z"
    }
   }
  },
  {
   "cell_type": "code",
   "execution_count": 3,
   "outputs": [],
   "source": [
    "@dataclass(frozen = True)\n",
    "class BinanceCredentials:\n",
    "  apiKey: str\n",
    "  secretKey: str"
   ],
   "metadata": {
    "collapsed": false,
    "ExecuteTime": {
     "start_time": "2023-04-23T20:45:11.576146Z",
     "end_time": "2023-04-23T20:45:11.578242Z"
    }
   }
  },
  {
   "cell_type": "code",
   "execution_count": 4,
   "outputs": [],
   "source": [
    "def binanceCredentials(path):\n",
    "  with open(path, \"rb\") as binanceProperties:\n",
    "    properties = Properties()\n",
    "    properties.load(binanceProperties)\n",
    "    return BinanceCredentials(properties.get(\"api-key\").data, properties.get(\"secret-key\").data)"
   ],
   "metadata": {
    "collapsed": false,
    "ExecuteTime": {
     "start_time": "2023-04-23T20:45:11.584036Z",
     "end_time": "2023-04-23T20:45:11.585982Z"
    }
   }
  },
  {
   "cell_type": "code",
   "execution_count": 5,
   "outputs": [],
   "source": [
    "creds = binanceCredentials(os.path.abspath(\"../.config/test/binance.properties\"))"
   ],
   "metadata": {
    "collapsed": false,
    "ExecuteTime": {
     "start_time": "2023-04-23T20:45:11.591066Z",
     "end_time": "2023-04-23T20:45:11.593965Z"
    }
   }
  },
  {
   "cell_type": "code",
   "execution_count": 6,
   "outputs": [
    {
     "data": {
      "text/plain": "BinanceCredentials(apiKey='T676iQh9CncaNbbkPysmYVXAgJCVXHyZvoInM6dQdhZ85jHhlM1Yb7lI6vEkQDKH', secretKey='TzYhaKDc8w3WASWn7mGn3XFTVhhOb0lAXpJH8iwLaQAUq4noTeF8XHOsobn0aVfZ')"
     },
     "execution_count": 6,
     "metadata": {},
     "output_type": "execute_result"
    }
   ],
   "source": [
    "creds"
   ],
   "metadata": {
    "collapsed": false,
    "ExecuteTime": {
     "start_time": "2023-04-23T20:45:11.599782Z",
     "end_time": "2023-04-23T20:45:11.638452Z"
    }
   }
  },
  {
   "cell_type": "code",
   "execution_count": 7,
   "outputs": [],
   "source": [
    "# Paper trading at: https://testnet.binance.vision/\n",
    "# Is it enough to set testnet = True? Because when we check the URL we get https://api.binance.com/api\n",
    "client = Client(creds.apiKey, creds.secretKey, tld = \"com\", testnet = True)"
   ],
   "metadata": {
    "collapsed": false,
    "ExecuteTime": {
     "start_time": "2023-04-23T20:45:11.606745Z",
     "end_time": "2023-04-23T20:45:11.892380Z"
    }
   }
  },
  {
   "cell_type": "code",
   "execution_count": 8,
   "outputs": [
    {
     "data": {
      "text/plain": "'https://api.binance.com/api'"
     },
     "execution_count": 8,
     "metadata": {},
     "output_type": "execute_result"
    }
   ],
   "source": [
    "client.API_URL"
   ],
   "metadata": {
    "collapsed": false,
    "ExecuteTime": {
     "start_time": "2023-04-23T20:45:11.892767Z",
     "end_time": "2023-04-23T20:45:11.904236Z"
    }
   }
  },
  {
   "cell_type": "code",
   "execution_count": 9,
   "outputs": [
    {
     "data": {
      "text/plain": "{'makerCommission': 0,\n 'takerCommission': 0,\n 'buyerCommission': 0,\n 'sellerCommission': 0,\n 'commissionRates': {'maker': '0.00000000',\n  'taker': '0.00000000',\n  'buyer': '0.00000000',\n  'seller': '0.00000000'},\n 'canTrade': True,\n 'canWithdraw': False,\n 'canDeposit': False,\n 'brokered': False,\n 'requireSelfTradePrevention': False,\n 'updateTime': 1680671854117,\n 'accountType': 'SPOT',\n 'balances': [{'asset': 'BNB',\n   'free': '1000.00000000',\n   'locked': '0.00000000'},\n  {'asset': 'BTC', 'free': '1.00000000', 'locked': '0.00000000'},\n  {'asset': 'BUSD', 'free': '10000.00000000', 'locked': '0.00000000'},\n  {'asset': 'ETH', 'free': '100.00000000', 'locked': '0.00000000'},\n  {'asset': 'LTC', 'free': '500.00000000', 'locked': '0.00000000'},\n  {'asset': 'TRX', 'free': '500000.00000000', 'locked': '0.00000000'},\n  {'asset': 'USDT', 'free': '10000.00000000', 'locked': '0.00000000'},\n  {'asset': 'XRP', 'free': '50000.00000000', 'locked': '0.00000000'}],\n 'permissions': ['SPOT']}"
     },
     "execution_count": 9,
     "metadata": {},
     "output_type": "execute_result"
    }
   ],
   "source": [
    "account = client.get_account()\n",
    "account"
   ],
   "metadata": {
    "collapsed": false,
    "ExecuteTime": {
     "start_time": "2023-04-23T20:45:11.901818Z",
     "end_time": "2023-04-23T20:45:12.147245Z"
    }
   }
  },
  {
   "cell_type": "code",
   "execution_count": 10,
   "outputs": [
    {
     "data": {
      "text/plain": "{}"
     },
     "execution_count": 10,
     "metadata": {},
     "output_type": "execute_result"
    }
   ],
   "source": [
    "# Test connectivity:\n",
    "client.ping()"
   ],
   "metadata": {
    "collapsed": false,
    "ExecuteTime": {
     "start_time": "2023-04-23T20:45:12.152715Z",
     "end_time": "2023-04-23T20:45:12.394816Z"
    }
   }
  },
  {
   "cell_type": "code",
   "execution_count": 11,
   "outputs": [
    {
     "data": {
      "text/plain": "{'status': 0, 'msg': 'normal'}"
     },
     "execution_count": 11,
     "metadata": {},
     "output_type": "execute_result"
    }
   ],
   "source": [
    "client.get_system_status()"
   ],
   "metadata": {
    "collapsed": false,
    "ExecuteTime": {
     "start_time": "2023-04-23T20:45:12.397691Z",
     "end_time": "2023-04-23T20:45:12.677152Z"
    }
   }
  },
  {
   "cell_type": "code",
   "execution_count": 12,
   "outputs": [
    {
     "data": {
      "text/plain": "'SPOT'"
     },
     "execution_count": 12,
     "metadata": {},
     "output_type": "execute_result"
    }
   ],
   "source": [
    "account[\"accountType\"]"
   ],
   "metadata": {
    "collapsed": false,
    "ExecuteTime": {
     "start_time": "2023-04-23T20:45:12.678342Z",
     "end_time": "2023-04-23T20:45:12.681933Z"
    }
   }
  },
  {
   "cell_type": "code",
   "execution_count": 13,
   "outputs": [
    {
     "data": {
      "text/plain": "Timestamp('2023-04-05 05:17:34.117000')"
     },
     "execution_count": 13,
     "metadata": {},
     "output_type": "execute_result"
    }
   ],
   "source": [
    "pd.to_datetime(account[\"updateTime\"], unit = \"ms\")"
   ],
   "metadata": {
    "collapsed": false,
    "ExecuteTime": {
     "start_time": "2023-04-23T20:45:12.686975Z",
     "end_time": "2023-04-23T20:45:12.705167Z"
    }
   }
  },
  {
   "cell_type": "code",
   "execution_count": 14,
   "outputs": [
    {
     "data": {
      "text/plain": "[{'asset': 'BNB', 'free': '1000.00000000', 'locked': '0.00000000'},\n {'asset': 'BTC', 'free': '1.00000000', 'locked': '0.00000000'},\n {'asset': 'BUSD', 'free': '10000.00000000', 'locked': '0.00000000'},\n {'asset': 'ETH', 'free': '100.00000000', 'locked': '0.00000000'},\n {'asset': 'LTC', 'free': '500.00000000', 'locked': '0.00000000'},\n {'asset': 'TRX', 'free': '500000.00000000', 'locked': '0.00000000'},\n {'asset': 'USDT', 'free': '10000.00000000', 'locked': '0.00000000'},\n {'asset': 'XRP', 'free': '50000.00000000', 'locked': '0.00000000'}]"
     },
     "execution_count": 14,
     "metadata": {},
     "output_type": "execute_result"
    }
   ],
   "source": [
    "account[\"balances\"]"
   ],
   "metadata": {
    "collapsed": false,
    "ExecuteTime": {
     "start_time": "2023-04-23T20:45:12.694778Z",
     "end_time": "2023-04-23T20:45:12.768700Z"
    }
   }
  },
  {
   "cell_type": "code",
   "execution_count": 15,
   "outputs": [
    {
     "data": {
      "text/plain": "  asset             free      locked\n0   BNB    1000.00000000  0.00000000\n1   BTC       1.00000000  0.00000000\n2  BUSD   10000.00000000  0.00000000\n3   ETH     100.00000000  0.00000000\n4   LTC     500.00000000  0.00000000\n5   TRX  500000.00000000  0.00000000\n6  USDT   10000.00000000  0.00000000\n7   XRP   50000.00000000  0.00000000",
      "text/html": "<div>\n<style scoped>\n    .dataframe tbody tr th:only-of-type {\n        vertical-align: middle;\n    }\n\n    .dataframe tbody tr th {\n        vertical-align: top;\n    }\n\n    .dataframe thead th {\n        text-align: right;\n    }\n</style>\n<table border=\"1\" class=\"dataframe\">\n  <thead>\n    <tr style=\"text-align: right;\">\n      <th></th>\n      <th>asset</th>\n      <th>free</th>\n      <th>locked</th>\n    </tr>\n  </thead>\n  <tbody>\n    <tr>\n      <th>0</th>\n      <td>BNB</td>\n      <td>1000.00000000</td>\n      <td>0.00000000</td>\n    </tr>\n    <tr>\n      <th>1</th>\n      <td>BTC</td>\n      <td>1.00000000</td>\n      <td>0.00000000</td>\n    </tr>\n    <tr>\n      <th>2</th>\n      <td>BUSD</td>\n      <td>10000.00000000</td>\n      <td>0.00000000</td>\n    </tr>\n    <tr>\n      <th>3</th>\n      <td>ETH</td>\n      <td>100.00000000</td>\n      <td>0.00000000</td>\n    </tr>\n    <tr>\n      <th>4</th>\n      <td>LTC</td>\n      <td>500.00000000</td>\n      <td>0.00000000</td>\n    </tr>\n    <tr>\n      <th>5</th>\n      <td>TRX</td>\n      <td>500000.00000000</td>\n      <td>0.00000000</td>\n    </tr>\n    <tr>\n      <th>6</th>\n      <td>USDT</td>\n      <td>10000.00000000</td>\n      <td>0.00000000</td>\n    </tr>\n    <tr>\n      <th>7</th>\n      <td>XRP</td>\n      <td>50000.00000000</td>\n      <td>0.00000000</td>\n    </tr>\n  </tbody>\n</table>\n</div>"
     },
     "execution_count": 15,
     "metadata": {},
     "output_type": "execute_result"
    }
   ],
   "source": [
    "df = pd.DataFrame(account[\"balances\"])\n",
    "df"
   ],
   "metadata": {
    "collapsed": false,
    "ExecuteTime": {
     "start_time": "2023-04-23T20:45:12.702752Z",
     "end_time": "2023-04-23T20:45:12.770420Z"
    }
   }
  },
  {
   "cell_type": "code",
   "execution_count": 16,
   "outputs": [
    {
     "name": "stdout",
     "output_type": "stream",
     "text": [
      "<class 'pandas.core.frame.DataFrame'>\n",
      "RangeIndex: 8 entries, 0 to 7\n",
      "Data columns (total 3 columns):\n",
      " #   Column  Non-Null Count  Dtype \n",
      "---  ------  --------------  ----- \n",
      " 0   asset   8 non-null      object\n",
      " 1   free    8 non-null      object\n",
      " 2   locked  8 non-null      object\n",
      "dtypes: object(3)\n",
      "memory usage: 320.0+ bytes\n"
     ]
    }
   ],
   "source": [
    "df.info()"
   ],
   "metadata": {
    "collapsed": false,
    "ExecuteTime": {
     "start_time": "2023-04-23T20:45:12.722408Z",
     "end_time": "2023-04-23T20:45:12.771572Z"
    }
   }
  },
  {
   "cell_type": "code",
   "execution_count": 17,
   "outputs": [
    {
     "data": {
      "text/plain": "  asset      free  locked\n0   BNB    1000.0     0.0\n1   BTC       1.0     0.0\n2  BUSD   10000.0     0.0\n3   ETH     100.0     0.0\n4   LTC     500.0     0.0\n5   TRX  500000.0     0.0\n6  USDT   10000.0     0.0\n7   XRP   50000.0     0.0",
      "text/html": "<div>\n<style scoped>\n    .dataframe tbody tr th:only-of-type {\n        vertical-align: middle;\n    }\n\n    .dataframe tbody tr th {\n        vertical-align: top;\n    }\n\n    .dataframe thead th {\n        text-align: right;\n    }\n</style>\n<table border=\"1\" class=\"dataframe\">\n  <thead>\n    <tr style=\"text-align: right;\">\n      <th></th>\n      <th>asset</th>\n      <th>free</th>\n      <th>locked</th>\n    </tr>\n  </thead>\n  <tbody>\n    <tr>\n      <th>0</th>\n      <td>BNB</td>\n      <td>1000.0</td>\n      <td>0.0</td>\n    </tr>\n    <tr>\n      <th>1</th>\n      <td>BTC</td>\n      <td>1.0</td>\n      <td>0.0</td>\n    </tr>\n    <tr>\n      <th>2</th>\n      <td>BUSD</td>\n      <td>10000.0</td>\n      <td>0.0</td>\n    </tr>\n    <tr>\n      <th>3</th>\n      <td>ETH</td>\n      <td>100.0</td>\n      <td>0.0</td>\n    </tr>\n    <tr>\n      <th>4</th>\n      <td>LTC</td>\n      <td>500.0</td>\n      <td>0.0</td>\n    </tr>\n    <tr>\n      <th>5</th>\n      <td>TRX</td>\n      <td>500000.0</td>\n      <td>0.0</td>\n    </tr>\n    <tr>\n      <th>6</th>\n      <td>USDT</td>\n      <td>10000.0</td>\n      <td>0.0</td>\n    </tr>\n    <tr>\n      <th>7</th>\n      <td>XRP</td>\n      <td>50000.0</td>\n      <td>0.0</td>\n    </tr>\n  </tbody>\n</table>\n</div>"
     },
     "execution_count": 17,
     "metadata": {},
     "output_type": "execute_result"
    }
   ],
   "source": [
    "df.free = pd.to_numeric(df.free, errors = \"coerce\")\n",
    "df.locked = pd.to_numeric(df.locked, errors = \"coerce\")\n",
    "df"
   ],
   "metadata": {
    "collapsed": false,
    "ExecuteTime": {
     "start_time": "2023-04-23T20:45:12.726268Z",
     "end_time": "2023-04-23T20:45:12.772444Z"
    }
   }
  },
  {
   "cell_type": "code",
   "execution_count": 18,
   "outputs": [
    {
     "name": "stdout",
     "output_type": "stream",
     "text": [
      "<class 'pandas.core.frame.DataFrame'>\n",
      "RangeIndex: 8 entries, 0 to 7\n",
      "Data columns (total 3 columns):\n",
      " #   Column  Non-Null Count  Dtype  \n",
      "---  ------  --------------  -----  \n",
      " 0   asset   8 non-null      object \n",
      " 1   free    8 non-null      float64\n",
      " 2   locked  8 non-null      float64\n",
      "dtypes: float64(2), object(1)\n",
      "memory usage: 320.0+ bytes\n"
     ]
    }
   ],
   "source": [
    "df.info()"
   ],
   "metadata": {
    "collapsed": false,
    "ExecuteTime": {
     "start_time": "2023-04-23T20:45:12.744601Z",
     "end_time": "2023-04-23T20:45:12.772969Z"
    }
   }
  },
  {
   "cell_type": "code",
   "execution_count": 19,
   "outputs": [
    {
     "data": {
      "text/plain": "  asset      free  locked\n2  BUSD   10000.0     0.0\n5   TRX  500000.0     0.0\n6  USDT   10000.0     0.0\n7   XRP   50000.0     0.0",
      "text/html": "<div>\n<style scoped>\n    .dataframe tbody tr th:only-of-type {\n        vertical-align: middle;\n    }\n\n    .dataframe tbody tr th {\n        vertical-align: top;\n    }\n\n    .dataframe thead th {\n        text-align: right;\n    }\n</style>\n<table border=\"1\" class=\"dataframe\">\n  <thead>\n    <tr style=\"text-align: right;\">\n      <th></th>\n      <th>asset</th>\n      <th>free</th>\n      <th>locked</th>\n    </tr>\n  </thead>\n  <tbody>\n    <tr>\n      <th>2</th>\n      <td>BUSD</td>\n      <td>10000.0</td>\n      <td>0.0</td>\n    </tr>\n    <tr>\n      <th>5</th>\n      <td>TRX</td>\n      <td>500000.0</td>\n      <td>0.0</td>\n    </tr>\n    <tr>\n      <th>6</th>\n      <td>USDT</td>\n      <td>10000.0</td>\n      <td>0.0</td>\n    </tr>\n    <tr>\n      <th>7</th>\n      <td>XRP</td>\n      <td>50000.0</td>\n      <td>0.0</td>\n    </tr>\n  </tbody>\n</table>\n</div>"
     },
     "execution_count": 19,
     "metadata": {},
     "output_type": "execute_result"
    }
   ],
   "source": [
    "df.loc[df.free > 1000]"
   ],
   "metadata": {
    "collapsed": false,
    "ExecuteTime": {
     "start_time": "2023-04-23T20:45:12.760832Z",
     "end_time": "2023-04-23T20:45:12.773442Z"
    }
   }
  },
  {
   "cell_type": "code",
   "execution_count": 20,
   "outputs": [
    {
     "data": {
      "text/plain": "{'asset': 'BTC', 'free': '1.00000000', 'locked': '0.00000000'}"
     },
     "execution_count": 20,
     "metadata": {},
     "output_type": "execute_result"
    }
   ],
   "source": [
    "client.get_asset_balance(\"BTC\")"
   ],
   "metadata": {
    "collapsed": false,
    "ExecuteTime": {
     "start_time": "2023-04-23T20:45:12.769214Z",
     "end_time": "2023-04-23T20:45:13.551251Z"
    }
   }
  },
  {
   "cell_type": "code",
   "execution_count": 21,
   "outputs": [
    {
     "data": {
      "text/plain": "1.0"
     },
     "execution_count": 21,
     "metadata": {},
     "output_type": "execute_result"
    }
   ],
   "source": [
    "float(client.get_asset_balance(\"BTC\")[\"free\"])"
   ],
   "metadata": {
    "collapsed": false,
    "ExecuteTime": {
     "start_time": "2023-04-23T20:45:13.459064Z",
     "end_time": "2023-04-23T20:45:13.711534Z"
    }
   }
  },
  {
   "cell_type": "code",
   "execution_count": 22,
   "outputs": [
    {
     "data": {
      "text/plain": "{'asset': 'ETH', 'free': '100.00000000', 'locked': '0.00000000'}"
     },
     "execution_count": 22,
     "metadata": {},
     "output_type": "execute_result"
    }
   ],
   "source": [
    "client.get_asset_balance(\"ETH\")"
   ],
   "metadata": {
    "collapsed": false,
    "ExecuteTime": {
     "start_time": "2023-04-23T20:45:13.696113Z",
     "end_time": "2023-04-23T20:45:13.925125Z"
    }
   }
  },
  {
   "cell_type": "code",
   "execution_count": 23,
   "outputs": [
    {
     "ename": "BinanceAPIException",
     "evalue": "APIError(code=-2008): Invalid Api-Key ID.",
     "output_type": "error",
     "traceback": [
      "\u001B[0;31m---------------------------------------------------------------------------\u001B[0m",
      "\u001B[0;31mBinanceAPIException\u001B[0m                       Traceback (most recent call last)",
      "Cell \u001B[0;32mIn[23], line 1\u001B[0m\n\u001B[0;32m----> 1\u001B[0m dailyAccountSnapshot \u001B[38;5;241m=\u001B[39m \u001B[43mclient\u001B[49m\u001B[38;5;241;43m.\u001B[39;49m\u001B[43mget_account_snapshot\u001B[49m\u001B[43m(\u001B[49m\u001B[38;5;28;43mtype\u001B[39;49m\u001B[43m \u001B[49m\u001B[38;5;241;43m=\u001B[39;49m\u001B[43m \u001B[49m\u001B[38;5;124;43m\"\u001B[39;49m\u001B[38;5;124;43mSPOT\u001B[39;49m\u001B[38;5;124;43m\"\u001B[39;49m\u001B[43m)\u001B[49m\n\u001B[1;32m      2\u001B[0m dailyAccountSnapshot\n",
      "File \u001B[0;32m~/.local/share/virtualenvs/binance/lib/python3.9/site-packages/binance/client.py:6965\u001B[0m, in \u001B[0;36mClient.get_account_snapshot\u001B[0;34m(self, **params)\u001B[0m\n\u001B[1;32m   6852\u001B[0m \u001B[38;5;28;01mdef\u001B[39;00m \u001B[38;5;21mget_account_snapshot\u001B[39m(\u001B[38;5;28mself\u001B[39m, \u001B[38;5;241m*\u001B[39m\u001B[38;5;241m*\u001B[39mparams):\n\u001B[1;32m   6853\u001B[0m \u001B[38;5;250m    \u001B[39m\u001B[38;5;124;03m\"\"\"Get daily account snapshot of specific type.\u001B[39;00m\n\u001B[1;32m   6854\u001B[0m \n\u001B[1;32m   6855\u001B[0m \u001B[38;5;124;03m    https://binance-docs.github.io/apidocs/spot/en/#daily-account-snapshot-user_data\u001B[39;00m\n\u001B[0;32m   (...)\u001B[0m\n\u001B[1;32m   6963\u001B[0m \n\u001B[1;32m   6964\u001B[0m \u001B[38;5;124;03m    \"\"\"\u001B[39;00m\n\u001B[0;32m-> 6965\u001B[0m     \u001B[38;5;28;01mreturn\u001B[39;00m \u001B[38;5;28;43mself\u001B[39;49m\u001B[38;5;241;43m.\u001B[39;49m\u001B[43m_request_margin_api\u001B[49m\u001B[43m(\u001B[49m\u001B[38;5;124;43m'\u001B[39;49m\u001B[38;5;124;43mget\u001B[39;49m\u001B[38;5;124;43m'\u001B[39;49m\u001B[43m,\u001B[49m\u001B[43m \u001B[49m\u001B[38;5;124;43m'\u001B[39;49m\u001B[38;5;124;43maccountSnapshot\u001B[39;49m\u001B[38;5;124;43m'\u001B[39;49m\u001B[43m,\u001B[49m\u001B[43m \u001B[49m\u001B[38;5;28;43;01mTrue\u001B[39;49;00m\u001B[43m,\u001B[49m\u001B[43m \u001B[49m\u001B[43mdata\u001B[49m\u001B[38;5;241;43m=\u001B[39;49m\u001B[43mparams\u001B[49m\u001B[43m)\u001B[49m\n",
      "File \u001B[0;32m~/.local/share/virtualenvs/binance/lib/python3.9/site-packages/binance/client.py:407\u001B[0m, in \u001B[0;36mClient._request_margin_api\u001B[0;34m(self, method, path, signed, version, **kwargs)\u001B[0m\n\u001B[1;32m    404\u001B[0m \u001B[38;5;28;01mdef\u001B[39;00m \u001B[38;5;21m_request_margin_api\u001B[39m(\u001B[38;5;28mself\u001B[39m, method, path, signed\u001B[38;5;241m=\u001B[39m\u001B[38;5;28;01mFalse\u001B[39;00m, version\u001B[38;5;241m=\u001B[39m\u001B[38;5;241m1\u001B[39m, \u001B[38;5;241m*\u001B[39m\u001B[38;5;241m*\u001B[39mkwargs) \u001B[38;5;241m-\u001B[39m\u001B[38;5;241m>\u001B[39m Dict:\n\u001B[1;32m    405\u001B[0m     uri \u001B[38;5;241m=\u001B[39m \u001B[38;5;28mself\u001B[39m\u001B[38;5;241m.\u001B[39m_create_margin_api_uri(path, version)\n\u001B[0;32m--> 407\u001B[0m     \u001B[38;5;28;01mreturn\u001B[39;00m \u001B[38;5;28;43mself\u001B[39;49m\u001B[38;5;241;43m.\u001B[39;49m\u001B[43m_request\u001B[49m\u001B[43m(\u001B[49m\u001B[43mmethod\u001B[49m\u001B[43m,\u001B[49m\u001B[43m \u001B[49m\u001B[43muri\u001B[49m\u001B[43m,\u001B[49m\u001B[43m \u001B[49m\u001B[43msigned\u001B[49m\u001B[43m,\u001B[49m\u001B[43m \u001B[49m\u001B[38;5;241;43m*\u001B[39;49m\u001B[38;5;241;43m*\u001B[39;49m\u001B[43mkwargs\u001B[49m\u001B[43m)\u001B[49m\n",
      "File \u001B[0;32m~/.local/share/virtualenvs/binance/lib/python3.9/site-packages/binance/client.py:358\u001B[0m, in \u001B[0;36mClient._request\u001B[0;34m(self, method, uri, signed, force_params, **kwargs)\u001B[0m\n\u001B[1;32m    355\u001B[0m kwargs \u001B[38;5;241m=\u001B[39m \u001B[38;5;28mself\u001B[39m\u001B[38;5;241m.\u001B[39m_get_request_kwargs(method, signed, force_params, \u001B[38;5;241m*\u001B[39m\u001B[38;5;241m*\u001B[39mkwargs)\n\u001B[1;32m    357\u001B[0m \u001B[38;5;28mself\u001B[39m\u001B[38;5;241m.\u001B[39mresponse \u001B[38;5;241m=\u001B[39m \u001B[38;5;28mgetattr\u001B[39m(\u001B[38;5;28mself\u001B[39m\u001B[38;5;241m.\u001B[39msession, method)(uri, \u001B[38;5;241m*\u001B[39m\u001B[38;5;241m*\u001B[39mkwargs)\n\u001B[0;32m--> 358\u001B[0m \u001B[38;5;28;01mreturn\u001B[39;00m \u001B[38;5;28;43mself\u001B[39;49m\u001B[38;5;241;43m.\u001B[39;49m\u001B[43m_handle_response\u001B[49m\u001B[43m(\u001B[49m\u001B[38;5;28;43mself\u001B[39;49m\u001B[38;5;241;43m.\u001B[39;49m\u001B[43mresponse\u001B[49m\u001B[43m)\u001B[49m\n",
      "File \u001B[0;32m~/.local/share/virtualenvs/binance/lib/python3.9/site-packages/binance/client.py:367\u001B[0m, in \u001B[0;36mClient._handle_response\u001B[0;34m(response)\u001B[0m\n\u001B[1;32m    362\u001B[0m \u001B[38;5;250m\u001B[39m\u001B[38;5;124;03m\"\"\"Internal helper for handling API responses from the Binance server.\u001B[39;00m\n\u001B[1;32m    363\u001B[0m \u001B[38;5;124;03mRaises the appropriate exceptions when necessary; otherwise, returns the\u001B[39;00m\n\u001B[1;32m    364\u001B[0m \u001B[38;5;124;03mresponse.\u001B[39;00m\n\u001B[1;32m    365\u001B[0m \u001B[38;5;124;03m\"\"\"\u001B[39;00m\n\u001B[1;32m    366\u001B[0m \u001B[38;5;28;01mif\u001B[39;00m \u001B[38;5;129;01mnot\u001B[39;00m (\u001B[38;5;241m200\u001B[39m \u001B[38;5;241m<\u001B[39m\u001B[38;5;241m=\u001B[39m response\u001B[38;5;241m.\u001B[39mstatus_code \u001B[38;5;241m<\u001B[39m \u001B[38;5;241m300\u001B[39m):\n\u001B[0;32m--> 367\u001B[0m     \u001B[38;5;28;01mraise\u001B[39;00m BinanceAPIException(response, response\u001B[38;5;241m.\u001B[39mstatus_code, response\u001B[38;5;241m.\u001B[39mtext)\n\u001B[1;32m    368\u001B[0m \u001B[38;5;28;01mtry\u001B[39;00m:\n\u001B[1;32m    369\u001B[0m     \u001B[38;5;28;01mreturn\u001B[39;00m response\u001B[38;5;241m.\u001B[39mjson()\n",
      "\u001B[0;31mBinanceAPIException\u001B[0m: APIError(code=-2008): Invalid Api-Key ID."
     ]
    }
   ],
   "source": [
    "dailyAccountSnapshot = client.get_account_snapshot(type = \"SPOT\")\n",
    "dailyAccountSnapshot"
   ],
   "metadata": {
    "collapsed": false
   }
  },
  {
   "cell_type": "code",
   "execution_count": null,
   "outputs": [],
   "source": [
    "client.get_exchange_info()"
   ],
   "metadata": {
    "collapsed": false,
    "ExecuteTime": {
     "start_time": "2023-04-22T22:02:48.084184Z",
     "end_time": "2023-04-22T22:02:48.406133Z"
    }
   }
  },
  {
   "cell_type": "code",
   "execution_count": null,
   "outputs": [],
   "source": [
    "# API limits\n",
    "client.get_exchange_info()[\"rateLimits\"]"
   ],
   "metadata": {
    "collapsed": false,
    "ExecuteTime": {
     "start_time": "2023-04-22T22:03:27.238303Z",
     "end_time": "2023-04-22T22:03:27.494064Z"
    }
   }
  },
  {
   "cell_type": "code",
   "execution_count": null,
   "outputs": [],
   "source": [
    "# Asset/coin info\n",
    "client.get_all_coins_info()"
   ],
   "metadata": {
    "collapsed": false
   }
  },
  {
   "cell_type": "code",
   "execution_count": null,
   "outputs": [],
   "source": [
    "client.get_trade_fee(symbol = \"BTCUSDT\")"
   ],
   "metadata": {
    "collapsed": false
   }
  },
  {
   "cell_type": "code",
   "execution_count": null,
   "outputs": [],
   "source": [
    "client.get_symbol_info(symbol = \"BTCUSDT\")"
   ],
   "metadata": {
    "collapsed": false,
    "ExecuteTime": {
     "start_time": "2023-04-22T22:37:12.200873Z",
     "end_time": "2023-04-22T22:37:12.439907Z"
    }
   }
  },
  {
   "cell_type": "markdown",
   "source": [
    "##  Getting (Current) Market Data"
   ],
   "metadata": {
    "collapsed": false
   }
  },
  {
   "cell_type": "code",
   "execution_count": null,
   "outputs": [],
   "source": [
    "client.get_symbol_ticker(symbol = \"BTCUSDT\")"
   ],
   "metadata": {
    "collapsed": false,
    "ExecuteTime": {
     "start_time": "2023-04-23T20:30:29.485399Z",
     "end_time": "2023-04-23T20:30:29.727772Z"
    }
   }
  },
  {
   "cell_type": "code",
   "execution_count": null,
   "outputs": [],
   "source": [
    "prices = client.get_all_tickers()\n",
    "prices"
   ],
   "metadata": {
    "collapsed": false,
    "ExecuteTime": {
     "start_time": "2023-04-23T20:36:07.238779Z",
     "end_time": "2023-04-23T20:36:07.898005Z"
    }
   }
  },
  {
   "cell_type": "code",
   "execution_count": null,
   "outputs": [],
   "source": [
    "float(client.get_symbol_ticker(symbol = \"BTCBUSD\")[\"price\"])"
   ],
   "metadata": {
    "collapsed": false,
    "ExecuteTime": {
     "start_time": "2023-04-23T20:32:34.195624Z",
     "end_time": "2023-04-23T20:32:34.442122Z"
    }
   }
  },
  {
   "cell_type": "code",
   "execution_count": null,
   "outputs": [],
   "source": [
    "client.get_avg_price(symbol = \"BNBUSDT\") # Gives average price in last 1 minute"
   ],
   "metadata": {
    "collapsed": false,
    "ExecuteTime": {
     "start_time": "2023-04-23T20:34:03.341051Z",
     "end_time": "2023-04-23T20:34:03.587297Z"
    }
   }
  },
  {
   "cell_type": "code",
   "execution_count": null,
   "outputs": [],
   "source": [
    "df = pd.DataFrame(prices)\n",
    "df"
   ],
   "metadata": {
    "collapsed": false,
    "ExecuteTime": {
     "start_time": "2023-04-23T20:37:22.789897Z",
     "end_time": "2023-04-23T20:37:22.814423Z"
    }
   }
  },
  {
   "cell_type": "code",
   "execution_count": null,
   "outputs": [],
   "source": [
    "df[df.symbol.str.contains(\"ETH\")]"
   ],
   "metadata": {
    "collapsed": false,
    "ExecuteTime": {
     "start_time": "2023-04-23T20:37:44.213129Z",
     "end_time": "2023-04-23T20:37:44.262694Z"
    }
   }
  },
  {
   "cell_type": "code",
   "execution_count": null,
   "outputs": [],
   "source": [
    "df[df.symbol.str.contains(\"BTC\") & df.symbol.str.contains(\"USD\")]"
   ],
   "metadata": {
    "collapsed": false,
    "ExecuteTime": {
     "start_time": "2023-04-23T20:39:03.170207Z",
     "end_time": "2023-04-23T20:39:03.227646Z"
    }
   }
  },
  {
   "cell_type": "code",
   "execution_count": 26,
   "outputs": [
    {
     "data": {
      "text/plain": "{'symbol': 'BTCBUSD',\n 'priceChange': '-142.13000000',\n 'priceChangePercent': '-0.514',\n 'weightedAvgPrice': '27601.80697736',\n 'prevClosePrice': '27648.50000000',\n 'lastPrice': '27505.94000000',\n 'lastQty': '0.00180600',\n 'bidPrice': '27509.56000000',\n 'bidQty': '0.03635100',\n 'askPrice': '27509.61000000',\n 'askQty': '0.02435600',\n 'openPrice': '27648.07000000',\n 'highPrice': '70000.00000000',\n 'lowPrice': '9884.92000000',\n 'volume': '732.82961400',\n 'quoteVolume': '20227421.55291866',\n 'openTime': 1682192719396,\n 'closeTime': 1682279119396,\n 'firstId': 1231689,\n 'lastId': 1284227,\n 'count': 52539}"
     },
     "execution_count": 26,
     "metadata": {},
     "output_type": "execute_result"
    }
   ],
   "source": [
    "# 24H price change statistic\n",
    "last24 = client.get_ticker(symbol = \"BTCBUSD\")\n",
    "last24"
   ],
   "metadata": {
    "collapsed": false,
    "ExecuteTime": {
     "start_time": "2023-04-23T20:45:33.108236Z",
     "end_time": "2023-04-23T20:45:33.761163Z"
    }
   }
  },
  {
   "cell_type": "code",
   "execution_count": 27,
   "outputs": [
    {
     "data": {
      "text/plain": "1682192719396"
     },
     "execution_count": 27,
     "metadata": {},
     "output_type": "execute_result"
    }
   ],
   "source": [
    "last24[\"openTime\"] # Is in Unix time format"
   ],
   "metadata": {
    "collapsed": false,
    "ExecuteTime": {
     "start_time": "2023-04-23T20:45:52.791653Z",
     "end_time": "2023-04-23T20:45:52.897205Z"
    }
   }
  },
  {
   "cell_type": "code",
   "execution_count": 28,
   "outputs": [
    {
     "data": {
      "text/plain": "Timestamp('2023-04-22 19:45:19.396000')"
     },
     "execution_count": 28,
     "metadata": {},
     "output_type": "execute_result"
    }
   ],
   "source": [
    "pd.to_datetime(last24[\"openTime\"], unit = \"ms\")"
   ],
   "metadata": {
    "collapsed": false,
    "ExecuteTime": {
     "start_time": "2023-04-23T20:46:56.679178Z",
     "end_time": "2023-04-23T20:46:56.746007Z"
    }
   }
  },
  {
   "cell_type": "code",
   "execution_count": 29,
   "outputs": [
    {
     "data": {
      "text/plain": "27505.94"
     },
     "execution_count": 29,
     "metadata": {},
     "output_type": "execute_result"
    }
   ],
   "source": [
    "float(last24[\"lastPrice\"])"
   ],
   "metadata": {
    "collapsed": false,
    "ExecuteTime": {
     "start_time": "2023-04-23T20:48:44.672804Z",
     "end_time": "2023-04-23T20:48:44.716743Z"
    }
   }
  },
  {
   "cell_type": "code",
   "execution_count": null,
   "outputs": [],
   "source": [],
   "metadata": {
    "collapsed": false
   }
  }
 ],
 "metadata": {
  "kernelspec": {
   "display_name": "Python 3",
   "language": "python",
   "name": "python3"
  },
  "language_info": {
   "codemirror_mode": {
    "name": "ipython",
    "version": 2
   },
   "file_extension": ".py",
   "mimetype": "text/x-python",
   "name": "python",
   "nbconvert_exporter": "python",
   "pygments_lexer": "ipython2",
   "version": "2.7.6"
  }
 },
 "nbformat": 4,
 "nbformat_minor": 0
}

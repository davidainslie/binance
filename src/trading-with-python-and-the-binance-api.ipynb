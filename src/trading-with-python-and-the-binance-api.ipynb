{
 "cells": [
  {
   "cell_type": "markdown",
   "source": [
    "# Trading with Python and the Binance API"
   ],
   "metadata": {
    "collapsed": false
   }
  },
  {
   "cell_type": "markdown",
   "source": [
    "## API Preparation - Acquire API Key\n",
    "\n",
    "Navigate to [Binance paper trading](https://testnet.binance.vision/) and login with `github`.\n",
    "[Generate HMAC_SHA256 Key](https://testnet.binance.vision/key/generate) and save to [binance.properties](../.config/test/binance.properties).\n",
    "\n",
    "Note that a VPN can cause certain API calls to\n",
    "Check your IP with VPN on and off: wget -qO- http://ipecho.net/plain | xargs echo\n",
    "\n",
    "Some URLs:\n",
    "- Spot testnet base url: https://testnet.binance.vision\n",
    "- Spot production base url: https://api.binance.com\n",
    "- Futures Testnet base url: https://testnet.binancefuture.com\n",
    "- Futures production base url: https://fapi.binance.com\n",
    "- Delivery futures testnet base url: https://testnet.binancefuture.com\n",
    "- Delivery futures production base url: https://dapi.binance.com"
   ],
   "metadata": {
    "collapsed": false
   }
  },
  {
   "cell_type": "markdown",
   "source": [
    "In order to load your Binance credentials:\n",
    "```\n",
    "pip install jproperties\n",
    "```"
   ],
   "metadata": {
    "collapsed": false
   }
  },
  {
   "cell_type": "code",
   "execution_count": 1,
   "outputs": [
    {
     "name": "stdout",
     "output_type": "stream",
     "text": [
      "PropertyTuple(data='T676iQh9CncaNbbkPysmYVXAgJCVXHyZvoInM6dQdhZ85jHhlM1Yb7lI6vEkQDKH', meta={})\n",
      "PropertyTuple(data='TzYhaKDc8w3WASWn7mGn3XFTVhhOb0lAXpJH8iwLaQAUq4noTeF8XHOsobn0aVfZ', meta={})\n"
     ]
    }
   ],
   "source": [
    "from jproperties import Properties\n",
    "\n",
    "properties = Properties()\n",
    "\n",
    "with open(\"../.config/test/binance.properties\", \"rb\") as binanceProperties:\n",
    "  properties.load(binanceProperties)\n",
    "\n",
    "print(properties.get(\"api-key\"))\n",
    "print(properties.get(\"secret-key\"))"
   ],
   "metadata": {
    "collapsed": false,
    "ExecuteTime": {
     "start_time": "2023-04-22T21:57:05.077857Z",
     "end_time": "2023-04-22T21:57:05.087643Z"
    }
   }
  },
  {
   "cell_type": "markdown",
   "source": [
    "## Required packages\n",
    "\n",
    "Use the unofficial Python wrapper for the Binance exchange REST API version 3.\n",
    "```\n",
    "pip install python-binance\n",
    "```"
   ],
   "metadata": {
    "collapsed": false
   }
  },
  {
   "cell_type": "markdown",
   "source": [
    "## Connecting to the API Server"
   ],
   "metadata": {
    "collapsed": false
   }
  },
  {
   "cell_type": "code",
   "execution_count": 2,
   "outputs": [],
   "source": [
    "from binance.client import Client\n",
    "from dataclasses import dataclass\n",
    "from jproperties import Properties\n",
    "import os\n",
    "import pandas as pd"
   ],
   "metadata": {
    "collapsed": false,
    "ExecuteTime": {
     "start_time": "2023-04-22T21:57:05.089682Z",
     "end_time": "2023-04-22T21:57:09.074022Z"
    }
   }
  },
  {
   "cell_type": "code",
   "execution_count": 3,
   "outputs": [],
   "source": [
    "@dataclass(frozen = True)\n",
    "class BinanceCredentials:\n",
    "  apiKey: str\n",
    "  secretKey: str"
   ],
   "metadata": {
    "collapsed": false,
    "ExecuteTime": {
     "start_time": "2023-04-22T21:57:09.077465Z",
     "end_time": "2023-04-22T21:57:09.080104Z"
    }
   }
  },
  {
   "cell_type": "code",
   "execution_count": 4,
   "outputs": [],
   "source": [
    "def binanceCredentials(path):\n",
    "  with open(path, \"rb\") as binanceProperties:\n",
    "    properties = Properties()\n",
    "    properties.load(binanceProperties)\n",
    "    return BinanceCredentials(properties.get(\"api-key\").data, properties.get(\"secret-key\").data)"
   ],
   "metadata": {
    "collapsed": false,
    "ExecuteTime": {
     "start_time": "2023-04-22T21:57:09.084757Z",
     "end_time": "2023-04-22T21:57:09.088604Z"
    }
   }
  },
  {
   "cell_type": "code",
   "execution_count": 5,
   "outputs": [],
   "source": [
    "creds = binanceCredentials(os.path.abspath(\"../.config/test/binance.properties\"))"
   ],
   "metadata": {
    "collapsed": false,
    "ExecuteTime": {
     "start_time": "2023-04-22T21:57:09.089741Z",
     "end_time": "2023-04-22T21:57:09.102497Z"
    }
   }
  },
  {
   "cell_type": "code",
   "execution_count": 6,
   "outputs": [
    {
     "data": {
      "text/plain": "BinanceCredentials(apiKey='T676iQh9CncaNbbkPysmYVXAgJCVXHyZvoInM6dQdhZ85jHhlM1Yb7lI6vEkQDKH', secretKey='TzYhaKDc8w3WASWn7mGn3XFTVhhOb0lAXpJH8iwLaQAUq4noTeF8XHOsobn0aVfZ')"
     },
     "execution_count": 6,
     "metadata": {},
     "output_type": "execute_result"
    }
   ],
   "source": [
    "creds"
   ],
   "metadata": {
    "collapsed": false,
    "ExecuteTime": {
     "start_time": "2023-04-22T21:57:09.100229Z",
     "end_time": "2023-04-22T21:57:09.111359Z"
    }
   }
  },
  {
   "cell_type": "code",
   "execution_count": 7,
   "outputs": [],
   "source": [
    "# Paper trading at: https://testnet.binance.vision/\n",
    "# Is it enough to set testnet = True? Because when we check the URL we get https://api.binance.com/api\n",
    "client = Client(creds.apiKey, creds.secretKey, tld = \"com\", testnet = True)"
   ],
   "metadata": {
    "collapsed": false,
    "ExecuteTime": {
     "start_time": "2023-04-22T21:57:09.106846Z",
     "end_time": "2023-04-22T21:57:09.680678Z"
    }
   }
  },
  {
   "cell_type": "code",
   "execution_count": 8,
   "outputs": [
    {
     "data": {
      "text/plain": "'https://api.binance.com/api'"
     },
     "execution_count": 8,
     "metadata": {},
     "output_type": "execute_result"
    }
   ],
   "source": [
    "client.API_URL"
   ],
   "metadata": {
    "collapsed": false,
    "ExecuteTime": {
     "start_time": "2023-04-22T21:57:09.680519Z",
     "end_time": "2023-04-22T21:57:09.686356Z"
    }
   }
  },
  {
   "cell_type": "code",
   "execution_count": 9,
   "outputs": [
    {
     "data": {
      "text/plain": "{'makerCommission': 0,\n 'takerCommission': 0,\n 'buyerCommission': 0,\n 'sellerCommission': 0,\n 'commissionRates': {'maker': '0.00000000',\n  'taker': '0.00000000',\n  'buyer': '0.00000000',\n  'seller': '0.00000000'},\n 'canTrade': True,\n 'canWithdraw': False,\n 'canDeposit': False,\n 'brokered': False,\n 'requireSelfTradePrevention': False,\n 'updateTime': 1680671854117,\n 'accountType': 'SPOT',\n 'balances': [{'asset': 'BNB',\n   'free': '1000.00000000',\n   'locked': '0.00000000'},\n  {'asset': 'BTC', 'free': '1.00000000', 'locked': '0.00000000'},\n  {'asset': 'BUSD', 'free': '10000.00000000', 'locked': '0.00000000'},\n  {'asset': 'ETH', 'free': '100.00000000', 'locked': '0.00000000'},\n  {'asset': 'LTC', 'free': '500.00000000', 'locked': '0.00000000'},\n  {'asset': 'TRX', 'free': '500000.00000000', 'locked': '0.00000000'},\n  {'asset': 'USDT', 'free': '10000.00000000', 'locked': '0.00000000'},\n  {'asset': 'XRP', 'free': '50000.00000000', 'locked': '0.00000000'}],\n 'permissions': ['SPOT']}"
     },
     "execution_count": 9,
     "metadata": {},
     "output_type": "execute_result"
    }
   ],
   "source": [
    "account = client.get_account()\n",
    "account"
   ],
   "metadata": {
    "collapsed": false,
    "ExecuteTime": {
     "start_time": "2023-04-22T21:57:09.686861Z",
     "end_time": "2023-04-22T21:57:09.931992Z"
    }
   }
  },
  {
   "cell_type": "code",
   "execution_count": 10,
   "outputs": [
    {
     "data": {
      "text/plain": "{}"
     },
     "execution_count": 10,
     "metadata": {},
     "output_type": "execute_result"
    }
   ],
   "source": [
    "# Test connectivity:\n",
    "client.ping()"
   ],
   "metadata": {
    "collapsed": false,
    "ExecuteTime": {
     "start_time": "2023-04-22T21:57:09.936665Z",
     "end_time": "2023-04-22T21:57:10.609317Z"
    }
   }
  },
  {
   "cell_type": "code",
   "execution_count": 11,
   "outputs": [
    {
     "data": {
      "text/plain": "{'status': 0, 'msg': 'normal'}"
     },
     "execution_count": 11,
     "metadata": {},
     "output_type": "execute_result"
    }
   ],
   "source": [
    "client.get_system_status()"
   ],
   "metadata": {
    "collapsed": false,
    "ExecuteTime": {
     "start_time": "2023-04-22T21:57:10.610209Z",
     "end_time": "2023-04-22T21:57:10.909663Z"
    }
   }
  },
  {
   "cell_type": "code",
   "execution_count": 12,
   "outputs": [
    {
     "data": {
      "text/plain": "'SPOT'"
     },
     "execution_count": 12,
     "metadata": {},
     "output_type": "execute_result"
    }
   ],
   "source": [
    "account[\"accountType\"]"
   ],
   "metadata": {
    "collapsed": false,
    "ExecuteTime": {
     "start_time": "2023-04-22T21:57:10.911294Z",
     "end_time": "2023-04-22T21:57:10.916430Z"
    }
   }
  },
  {
   "cell_type": "code",
   "execution_count": 13,
   "outputs": [
    {
     "data": {
      "text/plain": "Timestamp('2023-04-05 05:17:34.117000')"
     },
     "execution_count": 13,
     "metadata": {},
     "output_type": "execute_result"
    }
   ],
   "source": [
    "pd.to_datetime(account[\"updateTime\"], unit = \"ms\")"
   ],
   "metadata": {
    "collapsed": false,
    "ExecuteTime": {
     "start_time": "2023-04-22T21:57:10.917184Z",
     "end_time": "2023-04-22T21:57:10.927218Z"
    }
   }
  },
  {
   "cell_type": "code",
   "execution_count": 14,
   "outputs": [
    {
     "data": {
      "text/plain": "[{'asset': 'BNB', 'free': '1000.00000000', 'locked': '0.00000000'},\n {'asset': 'BTC', 'free': '1.00000000', 'locked': '0.00000000'},\n {'asset': 'BUSD', 'free': '10000.00000000', 'locked': '0.00000000'},\n {'asset': 'ETH', 'free': '100.00000000', 'locked': '0.00000000'},\n {'asset': 'LTC', 'free': '500.00000000', 'locked': '0.00000000'},\n {'asset': 'TRX', 'free': '500000.00000000', 'locked': '0.00000000'},\n {'asset': 'USDT', 'free': '10000.00000000', 'locked': '0.00000000'},\n {'asset': 'XRP', 'free': '50000.00000000', 'locked': '0.00000000'}]"
     },
     "execution_count": 14,
     "metadata": {},
     "output_type": "execute_result"
    }
   ],
   "source": [
    "account[\"balances\"]"
   ],
   "metadata": {
    "collapsed": false,
    "ExecuteTime": {
     "start_time": "2023-04-22T21:57:10.927990Z",
     "end_time": "2023-04-22T21:57:10.985239Z"
    }
   }
  },
  {
   "cell_type": "code",
   "execution_count": 15,
   "outputs": [
    {
     "data": {
      "text/plain": "  asset             free      locked\n0   BNB    1000.00000000  0.00000000\n1   BTC       1.00000000  0.00000000\n2  BUSD   10000.00000000  0.00000000\n3   ETH     100.00000000  0.00000000\n4   LTC     500.00000000  0.00000000\n5   TRX  500000.00000000  0.00000000\n6  USDT   10000.00000000  0.00000000\n7   XRP   50000.00000000  0.00000000",
      "text/html": "<div>\n<style scoped>\n    .dataframe tbody tr th:only-of-type {\n        vertical-align: middle;\n    }\n\n    .dataframe tbody tr th {\n        vertical-align: top;\n    }\n\n    .dataframe thead th {\n        text-align: right;\n    }\n</style>\n<table border=\"1\" class=\"dataframe\">\n  <thead>\n    <tr style=\"text-align: right;\">\n      <th></th>\n      <th>asset</th>\n      <th>free</th>\n      <th>locked</th>\n    </tr>\n  </thead>\n  <tbody>\n    <tr>\n      <th>0</th>\n      <td>BNB</td>\n      <td>1000.00000000</td>\n      <td>0.00000000</td>\n    </tr>\n    <tr>\n      <th>1</th>\n      <td>BTC</td>\n      <td>1.00000000</td>\n      <td>0.00000000</td>\n    </tr>\n    <tr>\n      <th>2</th>\n      <td>BUSD</td>\n      <td>10000.00000000</td>\n      <td>0.00000000</td>\n    </tr>\n    <tr>\n      <th>3</th>\n      <td>ETH</td>\n      <td>100.00000000</td>\n      <td>0.00000000</td>\n    </tr>\n    <tr>\n      <th>4</th>\n      <td>LTC</td>\n      <td>500.00000000</td>\n      <td>0.00000000</td>\n    </tr>\n    <tr>\n      <th>5</th>\n      <td>TRX</td>\n      <td>500000.00000000</td>\n      <td>0.00000000</td>\n    </tr>\n    <tr>\n      <th>6</th>\n      <td>USDT</td>\n      <td>10000.00000000</td>\n      <td>0.00000000</td>\n    </tr>\n    <tr>\n      <th>7</th>\n      <td>XRP</td>\n      <td>50000.00000000</td>\n      <td>0.00000000</td>\n    </tr>\n  </tbody>\n</table>\n</div>"
     },
     "execution_count": 15,
     "metadata": {},
     "output_type": "execute_result"
    }
   ],
   "source": [
    "df = pd.DataFrame(account[\"balances\"])\n",
    "df"
   ],
   "metadata": {
    "collapsed": false,
    "ExecuteTime": {
     "start_time": "2023-04-22T21:57:10.943205Z",
     "end_time": "2023-04-22T21:57:10.986185Z"
    }
   }
  },
  {
   "cell_type": "code",
   "execution_count": 16,
   "outputs": [
    {
     "name": "stdout",
     "output_type": "stream",
     "text": [
      "<class 'pandas.core.frame.DataFrame'>\n",
      "RangeIndex: 8 entries, 0 to 7\n",
      "Data columns (total 3 columns):\n",
      " #   Column  Non-Null Count  Dtype \n",
      "---  ------  --------------  ----- \n",
      " 0   asset   8 non-null      object\n",
      " 1   free    8 non-null      object\n",
      " 2   locked  8 non-null      object\n",
      "dtypes: object(3)\n",
      "memory usage: 320.0+ bytes\n"
     ]
    }
   ],
   "source": [
    "df.info()"
   ],
   "metadata": {
    "collapsed": false,
    "ExecuteTime": {
     "start_time": "2023-04-22T21:57:10.958388Z",
     "end_time": "2023-04-22T21:57:10.986531Z"
    }
   }
  },
  {
   "cell_type": "code",
   "execution_count": 17,
   "outputs": [
    {
     "data": {
      "text/plain": "  asset      free  locked\n0   BNB    1000.0     0.0\n1   BTC       1.0     0.0\n2  BUSD   10000.0     0.0\n3   ETH     100.0     0.0\n4   LTC     500.0     0.0\n5   TRX  500000.0     0.0\n6  USDT   10000.0     0.0\n7   XRP   50000.0     0.0",
      "text/html": "<div>\n<style scoped>\n    .dataframe tbody tr th:only-of-type {\n        vertical-align: middle;\n    }\n\n    .dataframe tbody tr th {\n        vertical-align: top;\n    }\n\n    .dataframe thead th {\n        text-align: right;\n    }\n</style>\n<table border=\"1\" class=\"dataframe\">\n  <thead>\n    <tr style=\"text-align: right;\">\n      <th></th>\n      <th>asset</th>\n      <th>free</th>\n      <th>locked</th>\n    </tr>\n  </thead>\n  <tbody>\n    <tr>\n      <th>0</th>\n      <td>BNB</td>\n      <td>1000.0</td>\n      <td>0.0</td>\n    </tr>\n    <tr>\n      <th>1</th>\n      <td>BTC</td>\n      <td>1.0</td>\n      <td>0.0</td>\n    </tr>\n    <tr>\n      <th>2</th>\n      <td>BUSD</td>\n      <td>10000.0</td>\n      <td>0.0</td>\n    </tr>\n    <tr>\n      <th>3</th>\n      <td>ETH</td>\n      <td>100.0</td>\n      <td>0.0</td>\n    </tr>\n    <tr>\n      <th>4</th>\n      <td>LTC</td>\n      <td>500.0</td>\n      <td>0.0</td>\n    </tr>\n    <tr>\n      <th>5</th>\n      <td>TRX</td>\n      <td>500000.0</td>\n      <td>0.0</td>\n    </tr>\n    <tr>\n      <th>6</th>\n      <td>USDT</td>\n      <td>10000.0</td>\n      <td>0.0</td>\n    </tr>\n    <tr>\n      <th>7</th>\n      <td>XRP</td>\n      <td>50000.0</td>\n      <td>0.0</td>\n    </tr>\n  </tbody>\n</table>\n</div>"
     },
     "execution_count": 17,
     "metadata": {},
     "output_type": "execute_result"
    }
   ],
   "source": [
    "df.free = pd.to_numeric(df.free, errors = \"coerce\")\n",
    "df.locked = pd.to_numeric(df.locked, errors = \"coerce\")\n",
    "df"
   ],
   "metadata": {
    "collapsed": false,
    "ExecuteTime": {
     "start_time": "2023-04-22T21:57:10.982703Z",
     "end_time": "2023-04-22T21:57:10.997990Z"
    }
   }
  },
  {
   "cell_type": "code",
   "execution_count": 19,
   "outputs": [
    {
     "name": "stdout",
     "output_type": "stream",
     "text": [
      "<class 'pandas.core.frame.DataFrame'>\n",
      "RangeIndex: 8 entries, 0 to 7\n",
      "Data columns (total 3 columns):\n",
      " #   Column  Non-Null Count  Dtype  \n",
      "---  ------  --------------  -----  \n",
      " 0   asset   8 non-null      object \n",
      " 1   free    8 non-null      float64\n",
      " 2   locked  8 non-null      float64\n",
      "dtypes: float64(2), object(1)\n",
      "memory usage: 320.0+ bytes\n"
     ]
    }
   ],
   "source": [
    "df.info()"
   ],
   "metadata": {
    "collapsed": false,
    "ExecuteTime": {
     "start_time": "2023-04-22T21:57:15.567432Z",
     "end_time": "2023-04-22T21:57:15.576433Z"
    }
   }
  },
  {
   "cell_type": "code",
   "execution_count": 20,
   "outputs": [
    {
     "data": {
      "text/plain": "  asset      free  locked\n2  BUSD   10000.0     0.0\n5   TRX  500000.0     0.0\n6  USDT   10000.0     0.0\n7   XRP   50000.0     0.0",
      "text/html": "<div>\n<style scoped>\n    .dataframe tbody tr th:only-of-type {\n        vertical-align: middle;\n    }\n\n    .dataframe tbody tr th {\n        vertical-align: top;\n    }\n\n    .dataframe thead th {\n        text-align: right;\n    }\n</style>\n<table border=\"1\" class=\"dataframe\">\n  <thead>\n    <tr style=\"text-align: right;\">\n      <th></th>\n      <th>asset</th>\n      <th>free</th>\n      <th>locked</th>\n    </tr>\n  </thead>\n  <tbody>\n    <tr>\n      <th>2</th>\n      <td>BUSD</td>\n      <td>10000.0</td>\n      <td>0.0</td>\n    </tr>\n    <tr>\n      <th>5</th>\n      <td>TRX</td>\n      <td>500000.0</td>\n      <td>0.0</td>\n    </tr>\n    <tr>\n      <th>6</th>\n      <td>USDT</td>\n      <td>10000.0</td>\n      <td>0.0</td>\n    </tr>\n    <tr>\n      <th>7</th>\n      <td>XRP</td>\n      <td>50000.0</td>\n      <td>0.0</td>\n    </tr>\n  </tbody>\n</table>\n</div>"
     },
     "execution_count": 20,
     "metadata": {},
     "output_type": "execute_result"
    }
   ],
   "source": [
    "df.loc[df.free > 1000]"
   ],
   "metadata": {
    "collapsed": false,
    "ExecuteTime": {
     "start_time": "2023-04-22T21:57:18.704689Z",
     "end_time": "2023-04-22T21:57:18.710114Z"
    }
   }
  },
  {
   "cell_type": "code",
   "execution_count": 21,
   "outputs": [
    {
     "data": {
      "text/plain": "{'asset': 'BTC', 'free': '1.00000000', 'locked': '0.00000000'}"
     },
     "execution_count": 21,
     "metadata": {},
     "output_type": "execute_result"
    }
   ],
   "source": [
    "client.get_asset_balance(\"BTC\")"
   ],
   "metadata": {
    "collapsed": false,
    "ExecuteTime": {
     "start_time": "2023-04-22T21:57:20.891244Z",
     "end_time": "2023-04-22T21:57:21.560892Z"
    }
   }
  },
  {
   "cell_type": "code",
   "execution_count": 22,
   "outputs": [
    {
     "data": {
      "text/plain": "1.0"
     },
     "execution_count": 22,
     "metadata": {},
     "output_type": "execute_result"
    }
   ],
   "source": [
    "float(client.get_asset_balance(\"BTC\")[\"free\"])"
   ],
   "metadata": {
    "collapsed": false,
    "ExecuteTime": {
     "start_time": "2023-04-22T21:57:23.003787Z",
     "end_time": "2023-04-22T21:57:23.661617Z"
    }
   }
  },
  {
   "cell_type": "code",
   "execution_count": 23,
   "outputs": [
    {
     "data": {
      "text/plain": "{'asset': 'ETH', 'free': '100.00000000', 'locked': '0.00000000'}"
     },
     "execution_count": 23,
     "metadata": {},
     "output_type": "execute_result"
    }
   ],
   "source": [
    "client.get_asset_balance(\"ETH\")"
   ],
   "metadata": {
    "collapsed": false,
    "ExecuteTime": {
     "start_time": "2023-04-22T21:57:24.567269Z",
     "end_time": "2023-04-22T21:57:25.213936Z"
    }
   }
  },
  {
   "cell_type": "code",
   "execution_count": 34,
   "outputs": [
    {
     "ename": "BinanceAPIException",
     "evalue": "APIError(code=-2008): Invalid Api-Key ID.",
     "output_type": "error",
     "traceback": [
      "\u001B[0;31m---------------------------------------------------------------------------\u001B[0m",
      "\u001B[0;31mBinanceAPIException\u001B[0m                       Traceback (most recent call last)",
      "Cell \u001B[0;32mIn[34], line 1\u001B[0m\n\u001B[0;32m----> 1\u001B[0m dailyAccountSnapshot \u001B[38;5;241m=\u001B[39m \u001B[43mclient\u001B[49m\u001B[38;5;241;43m.\u001B[39;49m\u001B[43mget_account_snapshot\u001B[49m\u001B[43m(\u001B[49m\u001B[38;5;28;43mtype\u001B[39;49m\u001B[43m \u001B[49m\u001B[38;5;241;43m=\u001B[39;49m\u001B[43m \u001B[49m\u001B[38;5;124;43m\"\u001B[39;49m\u001B[38;5;124;43mSPOT\u001B[39;49m\u001B[38;5;124;43m\"\u001B[39;49m\u001B[43m)\u001B[49m\n\u001B[1;32m      2\u001B[0m dailyAccountSnapshot\n",
      "File \u001B[0;32m~/.local/share/virtualenvs/binance/lib/python3.9/site-packages/binance/client.py:6965\u001B[0m, in \u001B[0;36mClient.get_account_snapshot\u001B[0;34m(self, **params)\u001B[0m\n\u001B[1;32m   6852\u001B[0m \u001B[38;5;28;01mdef\u001B[39;00m \u001B[38;5;21mget_account_snapshot\u001B[39m(\u001B[38;5;28mself\u001B[39m, \u001B[38;5;241m*\u001B[39m\u001B[38;5;241m*\u001B[39mparams):\n\u001B[1;32m   6853\u001B[0m \u001B[38;5;250m    \u001B[39m\u001B[38;5;124;03m\"\"\"Get daily account snapshot of specific type.\u001B[39;00m\n\u001B[1;32m   6854\u001B[0m \n\u001B[1;32m   6855\u001B[0m \u001B[38;5;124;03m    https://binance-docs.github.io/apidocs/spot/en/#daily-account-snapshot-user_data\u001B[39;00m\n\u001B[0;32m   (...)\u001B[0m\n\u001B[1;32m   6963\u001B[0m \n\u001B[1;32m   6964\u001B[0m \u001B[38;5;124;03m    \"\"\"\u001B[39;00m\n\u001B[0;32m-> 6965\u001B[0m     \u001B[38;5;28;01mreturn\u001B[39;00m \u001B[38;5;28;43mself\u001B[39;49m\u001B[38;5;241;43m.\u001B[39;49m\u001B[43m_request_margin_api\u001B[49m\u001B[43m(\u001B[49m\u001B[38;5;124;43m'\u001B[39;49m\u001B[38;5;124;43mget\u001B[39;49m\u001B[38;5;124;43m'\u001B[39;49m\u001B[43m,\u001B[49m\u001B[43m \u001B[49m\u001B[38;5;124;43m'\u001B[39;49m\u001B[38;5;124;43maccountSnapshot\u001B[39;49m\u001B[38;5;124;43m'\u001B[39;49m\u001B[43m,\u001B[49m\u001B[43m \u001B[49m\u001B[38;5;28;43;01mTrue\u001B[39;49;00m\u001B[43m,\u001B[49m\u001B[43m \u001B[49m\u001B[43mdata\u001B[49m\u001B[38;5;241;43m=\u001B[39;49m\u001B[43mparams\u001B[49m\u001B[43m)\u001B[49m\n",
      "File \u001B[0;32m~/.local/share/virtualenvs/binance/lib/python3.9/site-packages/binance/client.py:407\u001B[0m, in \u001B[0;36mClient._request_margin_api\u001B[0;34m(self, method, path, signed, version, **kwargs)\u001B[0m\n\u001B[1;32m    404\u001B[0m \u001B[38;5;28;01mdef\u001B[39;00m \u001B[38;5;21m_request_margin_api\u001B[39m(\u001B[38;5;28mself\u001B[39m, method, path, signed\u001B[38;5;241m=\u001B[39m\u001B[38;5;28;01mFalse\u001B[39;00m, version\u001B[38;5;241m=\u001B[39m\u001B[38;5;241m1\u001B[39m, \u001B[38;5;241m*\u001B[39m\u001B[38;5;241m*\u001B[39mkwargs) \u001B[38;5;241m-\u001B[39m\u001B[38;5;241m>\u001B[39m Dict:\n\u001B[1;32m    405\u001B[0m     uri \u001B[38;5;241m=\u001B[39m \u001B[38;5;28mself\u001B[39m\u001B[38;5;241m.\u001B[39m_create_margin_api_uri(path, version)\n\u001B[0;32m--> 407\u001B[0m     \u001B[38;5;28;01mreturn\u001B[39;00m \u001B[38;5;28;43mself\u001B[39;49m\u001B[38;5;241;43m.\u001B[39;49m\u001B[43m_request\u001B[49m\u001B[43m(\u001B[49m\u001B[43mmethod\u001B[49m\u001B[43m,\u001B[49m\u001B[43m \u001B[49m\u001B[43muri\u001B[49m\u001B[43m,\u001B[49m\u001B[43m \u001B[49m\u001B[43msigned\u001B[49m\u001B[43m,\u001B[49m\u001B[43m \u001B[49m\u001B[38;5;241;43m*\u001B[39;49m\u001B[38;5;241;43m*\u001B[39;49m\u001B[43mkwargs\u001B[49m\u001B[43m)\u001B[49m\n",
      "File \u001B[0;32m~/.local/share/virtualenvs/binance/lib/python3.9/site-packages/binance/client.py:358\u001B[0m, in \u001B[0;36mClient._request\u001B[0;34m(self, method, uri, signed, force_params, **kwargs)\u001B[0m\n\u001B[1;32m    355\u001B[0m kwargs \u001B[38;5;241m=\u001B[39m \u001B[38;5;28mself\u001B[39m\u001B[38;5;241m.\u001B[39m_get_request_kwargs(method, signed, force_params, \u001B[38;5;241m*\u001B[39m\u001B[38;5;241m*\u001B[39mkwargs)\n\u001B[1;32m    357\u001B[0m \u001B[38;5;28mself\u001B[39m\u001B[38;5;241m.\u001B[39mresponse \u001B[38;5;241m=\u001B[39m \u001B[38;5;28mgetattr\u001B[39m(\u001B[38;5;28mself\u001B[39m\u001B[38;5;241m.\u001B[39msession, method)(uri, \u001B[38;5;241m*\u001B[39m\u001B[38;5;241m*\u001B[39mkwargs)\n\u001B[0;32m--> 358\u001B[0m \u001B[38;5;28;01mreturn\u001B[39;00m \u001B[38;5;28;43mself\u001B[39;49m\u001B[38;5;241;43m.\u001B[39;49m\u001B[43m_handle_response\u001B[49m\u001B[43m(\u001B[49m\u001B[38;5;28;43mself\u001B[39;49m\u001B[38;5;241;43m.\u001B[39;49m\u001B[43mresponse\u001B[49m\u001B[43m)\u001B[49m\n",
      "File \u001B[0;32m~/.local/share/virtualenvs/binance/lib/python3.9/site-packages/binance/client.py:367\u001B[0m, in \u001B[0;36mClient._handle_response\u001B[0;34m(response)\u001B[0m\n\u001B[1;32m    362\u001B[0m \u001B[38;5;250m\u001B[39m\u001B[38;5;124;03m\"\"\"Internal helper for handling API responses from the Binance server.\u001B[39;00m\n\u001B[1;32m    363\u001B[0m \u001B[38;5;124;03mRaises the appropriate exceptions when necessary; otherwise, returns the\u001B[39;00m\n\u001B[1;32m    364\u001B[0m \u001B[38;5;124;03mresponse.\u001B[39;00m\n\u001B[1;32m    365\u001B[0m \u001B[38;5;124;03m\"\"\"\u001B[39;00m\n\u001B[1;32m    366\u001B[0m \u001B[38;5;28;01mif\u001B[39;00m \u001B[38;5;129;01mnot\u001B[39;00m (\u001B[38;5;241m200\u001B[39m \u001B[38;5;241m<\u001B[39m\u001B[38;5;241m=\u001B[39m response\u001B[38;5;241m.\u001B[39mstatus_code \u001B[38;5;241m<\u001B[39m \u001B[38;5;241m300\u001B[39m):\n\u001B[0;32m--> 367\u001B[0m     \u001B[38;5;28;01mraise\u001B[39;00m BinanceAPIException(response, response\u001B[38;5;241m.\u001B[39mstatus_code, response\u001B[38;5;241m.\u001B[39mtext)\n\u001B[1;32m    368\u001B[0m \u001B[38;5;28;01mtry\u001B[39;00m:\n\u001B[1;32m    369\u001B[0m     \u001B[38;5;28;01mreturn\u001B[39;00m response\u001B[38;5;241m.\u001B[39mjson()\n",
      "\u001B[0;31mBinanceAPIException\u001B[0m: APIError(code=-2008): Invalid Api-Key ID."
     ]
    }
   ],
   "source": [
    "dailyAccountSnapshot = client.get_account_snapshot(type = \"SPOT\")\n",
    "dailyAccountSnapshot"
   ],
   "metadata": {
    "collapsed": false
   }
  },
  {
   "cell_type": "code",
   "execution_count": 27,
   "outputs": [
    {
     "data": {
      "text/plain": "{'timezone': 'UTC',\n 'serverTime': 1682197368342,\n 'rateLimits': [{'rateLimitType': 'REQUEST_WEIGHT',\n   'interval': 'MINUTE',\n   'intervalNum': 1,\n   'limit': 1200},\n  {'rateLimitType': 'ORDERS',\n   'interval': 'SECOND',\n   'intervalNum': 10,\n   'limit': 50},\n  {'rateLimitType': 'ORDERS',\n   'interval': 'DAY',\n   'intervalNum': 1,\n   'limit': 160000}],\n 'exchangeFilters': [],\n 'symbols': [{'symbol': 'BNBBUSD',\n   'status': 'TRADING',\n   'baseAsset': 'BNB',\n   'baseAssetPrecision': 8,\n   'quoteAsset': 'BUSD',\n   'quotePrecision': 8,\n   'quoteAssetPrecision': 8,\n   'baseCommissionPrecision': 8,\n   'quoteCommissionPrecision': 8,\n   'orderTypes': ['LIMIT',\n    'LIMIT_MAKER',\n    'MARKET',\n    'STOP_LOSS_LIMIT',\n    'TAKE_PROFIT_LIMIT'],\n   'icebergAllowed': True,\n   'ocoAllowed': True,\n   'quoteOrderQtyMarketAllowed': True,\n   'allowTrailingStop': True,\n   'cancelReplaceAllowed': True,\n   'isSpotTradingAllowed': True,\n   'isMarginTradingAllowed': False,\n   'filters': [{'filterType': 'PRICE_FILTER',\n     'minPrice': '0.01000000',\n     'maxPrice': '10000.00000000',\n     'tickSize': '0.01000000'},\n    {'filterType': 'LOT_SIZE',\n     'minQty': '0.01000000',\n     'maxQty': '9000.00000000',\n     'stepSize': '0.01000000'},\n    {'filterType': 'ICEBERG_PARTS', 'limit': 10},\n    {'filterType': 'MARKET_LOT_SIZE',\n     'minQty': '0.00000000',\n     'maxQty': '1000.00000000',\n     'stepSize': '0.00000000'},\n    {'filterType': 'TRAILING_DELTA',\n     'minTrailingAboveDelta': 10,\n     'maxTrailingAboveDelta': 2000,\n     'minTrailingBelowDelta': 10,\n     'maxTrailingBelowDelta': 2000},\n    {'filterType': 'PERCENT_PRICE_BY_SIDE',\n     'bidMultiplierUp': '5',\n     'bidMultiplierDown': '0.2',\n     'askMultiplierUp': '5',\n     'askMultiplierDown': '0.2',\n     'avgPriceMins': 1},\n    {'filterType': 'NOTIONAL',\n     'minNotional': '10.00000000',\n     'applyMinToMarket': True,\n     'maxNotional': '10000.00000000',\n     'applyMaxToMarket': False,\n     'avgPriceMins': 1},\n    {'filterType': 'MAX_NUM_ORDERS', 'maxNumOrders': 200},\n    {'filterType': 'MAX_NUM_ALGO_ORDERS', 'maxNumAlgoOrders': 5}],\n   'permissions': ['SPOT'],\n   'defaultSelfTradePreventionMode': 'NONE',\n   'allowedSelfTradePreventionModes': ['NONE',\n    'EXPIRE_TAKER',\n    'EXPIRE_MAKER',\n    'EXPIRE_BOTH']},\n  {'symbol': 'BTCBUSD',\n   'status': 'TRADING',\n   'baseAsset': 'BTC',\n   'baseAssetPrecision': 8,\n   'quoteAsset': 'BUSD',\n   'quotePrecision': 8,\n   'quoteAssetPrecision': 8,\n   'baseCommissionPrecision': 8,\n   'quoteCommissionPrecision': 8,\n   'orderTypes': ['LIMIT',\n    'LIMIT_MAKER',\n    'MARKET',\n    'STOP_LOSS_LIMIT',\n    'TAKE_PROFIT_LIMIT'],\n   'icebergAllowed': True,\n   'ocoAllowed': True,\n   'quoteOrderQtyMarketAllowed': True,\n   'allowTrailingStop': True,\n   'cancelReplaceAllowed': True,\n   'isSpotTradingAllowed': True,\n   'isMarginTradingAllowed': False,\n   'filters': [{'filterType': 'PRICE_FILTER',\n     'minPrice': '0.01000000',\n     'maxPrice': '1000000.00000000',\n     'tickSize': '0.01000000'},\n    {'filterType': 'LOT_SIZE',\n     'minQty': '0.00000100',\n     'maxQty': '900.00000000',\n     'stepSize': '0.00000100'},\n    {'filterType': 'ICEBERG_PARTS', 'limit': 10},\n    {'filterType': 'MARKET_LOT_SIZE',\n     'minQty': '0.00000000',\n     'maxQty': '100.00000000',\n     'stepSize': '0.00000000'},\n    {'filterType': 'TRAILING_DELTA',\n     'minTrailingAboveDelta': 10,\n     'maxTrailingAboveDelta': 2000,\n     'minTrailingBelowDelta': 10,\n     'maxTrailingBelowDelta': 2000},\n    {'filterType': 'PERCENT_PRICE_BY_SIDE',\n     'bidMultiplierUp': '5',\n     'bidMultiplierDown': '0.2',\n     'askMultiplierUp': '5',\n     'askMultiplierDown': '0.2',\n     'avgPriceMins': 1},\n    {'filterType': 'NOTIONAL',\n     'minNotional': '10.00000000',\n     'applyMinToMarket': True,\n     'maxNotional': '10000.00000000',\n     'applyMaxToMarket': False,\n     'avgPriceMins': 1},\n    {'filterType': 'MAX_NUM_ORDERS', 'maxNumOrders': 200},\n    {'filterType': 'MAX_NUM_ALGO_ORDERS', 'maxNumAlgoOrders': 5}],\n   'permissions': ['SPOT'],\n   'defaultSelfTradePreventionMode': 'NONE',\n   'allowedSelfTradePreventionModes': ['NONE',\n    'EXPIRE_TAKER',\n    'EXPIRE_MAKER',\n    'EXPIRE_BOTH']},\n  {'symbol': 'ETHBUSD',\n   'status': 'TRADING',\n   'baseAsset': 'ETH',\n   'baseAssetPrecision': 8,\n   'quoteAsset': 'BUSD',\n   'quotePrecision': 8,\n   'quoteAssetPrecision': 8,\n   'baseCommissionPrecision': 8,\n   'quoteCommissionPrecision': 8,\n   'orderTypes': ['LIMIT',\n    'LIMIT_MAKER',\n    'MARKET',\n    'STOP_LOSS_LIMIT',\n    'TAKE_PROFIT_LIMIT'],\n   'icebergAllowed': True,\n   'ocoAllowed': True,\n   'quoteOrderQtyMarketAllowed': True,\n   'allowTrailingStop': True,\n   'cancelReplaceAllowed': True,\n   'isSpotTradingAllowed': True,\n   'isMarginTradingAllowed': False,\n   'filters': [{'filterType': 'PRICE_FILTER',\n     'minPrice': '0.01000000',\n     'maxPrice': '100000.00000000',\n     'tickSize': '0.01000000'},\n    {'filterType': 'LOT_SIZE',\n     'minQty': '0.00001000',\n     'maxQty': '9000.00000000',\n     'stepSize': '0.00001000'},\n    {'filterType': 'ICEBERG_PARTS', 'limit': 10},\n    {'filterType': 'MARKET_LOT_SIZE',\n     'minQty': '0.00000000',\n     'maxQty': '1000.00000000',\n     'stepSize': '0.00000000'},\n    {'filterType': 'TRAILING_DELTA',\n     'minTrailingAboveDelta': 10,\n     'maxTrailingAboveDelta': 2000,\n     'minTrailingBelowDelta': 10,\n     'maxTrailingBelowDelta': 2000},\n    {'filterType': 'PERCENT_PRICE_BY_SIDE',\n     'bidMultiplierUp': '5',\n     'bidMultiplierDown': '0.2',\n     'askMultiplierUp': '5',\n     'askMultiplierDown': '0.2',\n     'avgPriceMins': 1},\n    {'filterType': 'NOTIONAL',\n     'minNotional': '10.00000000',\n     'applyMinToMarket': True,\n     'maxNotional': '10000.00000000',\n     'applyMaxToMarket': False,\n     'avgPriceMins': 1},\n    {'filterType': 'MAX_NUM_ORDERS', 'maxNumOrders': 200},\n    {'filterType': 'MAX_NUM_ALGO_ORDERS', 'maxNumAlgoOrders': 5}],\n   'permissions': ['SPOT'],\n   'defaultSelfTradePreventionMode': 'NONE',\n   'allowedSelfTradePreventionModes': ['NONE',\n    'EXPIRE_TAKER',\n    'EXPIRE_MAKER',\n    'EXPIRE_BOTH']},\n  {'symbol': 'LTCBUSD',\n   'status': 'TRADING',\n   'baseAsset': 'LTC',\n   'baseAssetPrecision': 8,\n   'quoteAsset': 'BUSD',\n   'quotePrecision': 8,\n   'quoteAssetPrecision': 8,\n   'baseCommissionPrecision': 8,\n   'quoteCommissionPrecision': 8,\n   'orderTypes': ['LIMIT',\n    'LIMIT_MAKER',\n    'MARKET',\n    'STOP_LOSS_LIMIT',\n    'TAKE_PROFIT_LIMIT'],\n   'icebergAllowed': True,\n   'ocoAllowed': True,\n   'quoteOrderQtyMarketAllowed': True,\n   'allowTrailingStop': True,\n   'cancelReplaceAllowed': True,\n   'isSpotTradingAllowed': True,\n   'isMarginTradingAllowed': False,\n   'filters': [{'filterType': 'PRICE_FILTER',\n     'minPrice': '0.01000000',\n     'maxPrice': '100000.00000000',\n     'tickSize': '0.01000000'},\n    {'filterType': 'LOT_SIZE',\n     'minQty': '0.00001000',\n     'maxQty': '9000.00000000',\n     'stepSize': '0.00001000'},\n    {'filterType': 'ICEBERG_PARTS', 'limit': 10},\n    {'filterType': 'MARKET_LOT_SIZE',\n     'minQty': '0.00000000',\n     'maxQty': '1000.00000000',\n     'stepSize': '0.00000000'},\n    {'filterType': 'TRAILING_DELTA',\n     'minTrailingAboveDelta': 10,\n     'maxTrailingAboveDelta': 2000,\n     'minTrailingBelowDelta': 10,\n     'maxTrailingBelowDelta': 2000},\n    {'filterType': 'PERCENT_PRICE_BY_SIDE',\n     'bidMultiplierUp': '5',\n     'bidMultiplierDown': '0.2',\n     'askMultiplierUp': '5',\n     'askMultiplierDown': '0.2',\n     'avgPriceMins': 1},\n    {'filterType': 'NOTIONAL',\n     'minNotional': '10.00000000',\n     'applyMinToMarket': True,\n     'maxNotional': '10000.00000000',\n     'applyMaxToMarket': False,\n     'avgPriceMins': 1},\n    {'filterType': 'MAX_NUM_ORDERS', 'maxNumOrders': 200},\n    {'filterType': 'MAX_NUM_ALGO_ORDERS', 'maxNumAlgoOrders': 5}],\n   'permissions': ['SPOT'],\n   'defaultSelfTradePreventionMode': 'NONE',\n   'allowedSelfTradePreventionModes': ['NONE',\n    'EXPIRE_TAKER',\n    'EXPIRE_MAKER',\n    'EXPIRE_BOTH']},\n  {'symbol': 'TRXBUSD',\n   'status': 'TRADING',\n   'baseAsset': 'TRX',\n   'baseAssetPrecision': 8,\n   'quoteAsset': 'BUSD',\n   'quotePrecision': 8,\n   'quoteAssetPrecision': 8,\n   'baseCommissionPrecision': 8,\n   'quoteCommissionPrecision': 8,\n   'orderTypes': ['LIMIT',\n    'LIMIT_MAKER',\n    'MARKET',\n    'STOP_LOSS_LIMIT',\n    'TAKE_PROFIT_LIMIT'],\n   'icebergAllowed': True,\n   'ocoAllowed': True,\n   'quoteOrderQtyMarketAllowed': True,\n   'allowTrailingStop': True,\n   'cancelReplaceAllowed': True,\n   'isSpotTradingAllowed': True,\n   'isMarginTradingAllowed': False,\n   'filters': [{'filterType': 'PRICE_FILTER',\n     'minPrice': '0.00001000',\n     'maxPrice': '1000.00000000',\n     'tickSize': '0.00001000'},\n    {'filterType': 'LOT_SIZE',\n     'minQty': '0.10000000',\n     'maxQty': '90000.00000000',\n     'stepSize': '0.10000000'},\n    {'filterType': 'ICEBERG_PARTS', 'limit': 10},\n    {'filterType': 'MARKET_LOT_SIZE',\n     'minQty': '0.00000000',\n     'maxQty': '10000.00000000',\n     'stepSize': '0.00000000'},\n    {'filterType': 'TRAILING_DELTA',\n     'minTrailingAboveDelta': 10,\n     'maxTrailingAboveDelta': 2000,\n     'minTrailingBelowDelta': 10,\n     'maxTrailingBelowDelta': 2000},\n    {'filterType': 'PERCENT_PRICE_BY_SIDE',\n     'bidMultiplierUp': '5',\n     'bidMultiplierDown': '0.2',\n     'askMultiplierUp': '5',\n     'askMultiplierDown': '0.2',\n     'avgPriceMins': 1},\n    {'filterType': 'NOTIONAL',\n     'minNotional': '10.00000000',\n     'applyMinToMarket': True,\n     'maxNotional': '10000.00000000',\n     'applyMaxToMarket': False,\n     'avgPriceMins': 1},\n    {'filterType': 'MAX_NUM_ORDERS', 'maxNumOrders': 200},\n    {'filterType': 'MAX_NUM_ALGO_ORDERS', 'maxNumAlgoOrders': 5}],\n   'permissions': ['SPOT'],\n   'defaultSelfTradePreventionMode': 'NONE',\n   'allowedSelfTradePreventionModes': ['NONE',\n    'EXPIRE_TAKER',\n    'EXPIRE_MAKER',\n    'EXPIRE_BOTH']},\n  {'symbol': 'XRPBUSD',\n   'status': 'TRADING',\n   'baseAsset': 'XRP',\n   'baseAssetPrecision': 8,\n   'quoteAsset': 'BUSD',\n   'quotePrecision': 8,\n   'quoteAssetPrecision': 8,\n   'baseCommissionPrecision': 8,\n   'quoteCommissionPrecision': 8,\n   'orderTypes': ['LIMIT',\n    'LIMIT_MAKER',\n    'MARKET',\n    'STOP_LOSS_LIMIT',\n    'TAKE_PROFIT_LIMIT'],\n   'icebergAllowed': True,\n   'ocoAllowed': True,\n   'quoteOrderQtyMarketAllowed': True,\n   'allowTrailingStop': True,\n   'cancelReplaceAllowed': True,\n   'isSpotTradingAllowed': True,\n   'isMarginTradingAllowed': False,\n   'filters': [{'filterType': 'PRICE_FILTER',\n     'minPrice': '0.00010000',\n     'maxPrice': '1000.00000000',\n     'tickSize': '0.00010000'},\n    {'filterType': 'LOT_SIZE',\n     'minQty': '0.10000000',\n     'maxQty': '90000.00000000',\n     'stepSize': '0.10000000'},\n    {'filterType': 'ICEBERG_PARTS', 'limit': 10},\n    {'filterType': 'MARKET_LOT_SIZE',\n     'minQty': '0.00000000',\n     'maxQty': '10000.00000000',\n     'stepSize': '0.00000000'},\n    {'filterType': 'TRAILING_DELTA',\n     'minTrailingAboveDelta': 10,\n     'maxTrailingAboveDelta': 2000,\n     'minTrailingBelowDelta': 10,\n     'maxTrailingBelowDelta': 2000},\n    {'filterType': 'PERCENT_PRICE_BY_SIDE',\n     'bidMultiplierUp': '5',\n     'bidMultiplierDown': '0.2',\n     'askMultiplierUp': '5',\n     'askMultiplierDown': '0.2',\n     'avgPriceMins': 1},\n    {'filterType': 'NOTIONAL',\n     'minNotional': '10.00000000',\n     'applyMinToMarket': True,\n     'maxNotional': '10000.00000000',\n     'applyMaxToMarket': False,\n     'avgPriceMins': 1},\n    {'filterType': 'MAX_NUM_ORDERS', 'maxNumOrders': 200},\n    {'filterType': 'MAX_NUM_ALGO_ORDERS', 'maxNumAlgoOrders': 5}],\n   'permissions': ['SPOT'],\n   'defaultSelfTradePreventionMode': 'NONE',\n   'allowedSelfTradePreventionModes': ['NONE',\n    'EXPIRE_TAKER',\n    'EXPIRE_MAKER',\n    'EXPIRE_BOTH']},\n  {'symbol': 'BNBUSDT',\n   'status': 'TRADING',\n   'baseAsset': 'BNB',\n   'baseAssetPrecision': 8,\n   'quoteAsset': 'USDT',\n   'quotePrecision': 8,\n   'quoteAssetPrecision': 8,\n   'baseCommissionPrecision': 8,\n   'quoteCommissionPrecision': 8,\n   'orderTypes': ['LIMIT',\n    'LIMIT_MAKER',\n    'MARKET',\n    'STOP_LOSS_LIMIT',\n    'TAKE_PROFIT_LIMIT'],\n   'icebergAllowed': True,\n   'ocoAllowed': True,\n   'quoteOrderQtyMarketAllowed': True,\n   'allowTrailingStop': True,\n   'cancelReplaceAllowed': True,\n   'isSpotTradingAllowed': True,\n   'isMarginTradingAllowed': False,\n   'filters': [{'filterType': 'PRICE_FILTER',\n     'minPrice': '0.01000000',\n     'maxPrice': '10000.00000000',\n     'tickSize': '0.01000000'},\n    {'filterType': 'LOT_SIZE',\n     'minQty': '0.01000000',\n     'maxQty': '9000.00000000',\n     'stepSize': '0.01000000'},\n    {'filterType': 'ICEBERG_PARTS', 'limit': 10},\n    {'filterType': 'MARKET_LOT_SIZE',\n     'minQty': '0.00000000',\n     'maxQty': '1000.00000000',\n     'stepSize': '0.00000000'},\n    {'filterType': 'TRAILING_DELTA',\n     'minTrailingAboveDelta': 10,\n     'maxTrailingAboveDelta': 2000,\n     'minTrailingBelowDelta': 10,\n     'maxTrailingBelowDelta': 2000},\n    {'filterType': 'PERCENT_PRICE_BY_SIDE',\n     'bidMultiplierUp': '5',\n     'bidMultiplierDown': '0.2',\n     'askMultiplierUp': '5',\n     'askMultiplierDown': '0.2',\n     'avgPriceMins': 1},\n    {'filterType': 'NOTIONAL',\n     'minNotional': '10.00000000',\n     'applyMinToMarket': True,\n     'maxNotional': '10000.00000000',\n     'applyMaxToMarket': False,\n     'avgPriceMins': 1},\n    {'filterType': 'MAX_NUM_ORDERS', 'maxNumOrders': 200},\n    {'filterType': 'MAX_NUM_ALGO_ORDERS', 'maxNumAlgoOrders': 5}],\n   'permissions': ['SPOT'],\n   'defaultSelfTradePreventionMode': 'NONE',\n   'allowedSelfTradePreventionModes': ['NONE',\n    'EXPIRE_TAKER',\n    'EXPIRE_MAKER',\n    'EXPIRE_BOTH']},\n  {'symbol': 'BTCUSDT',\n   'status': 'TRADING',\n   'baseAsset': 'BTC',\n   'baseAssetPrecision': 8,\n   'quoteAsset': 'USDT',\n   'quotePrecision': 8,\n   'quoteAssetPrecision': 8,\n   'baseCommissionPrecision': 8,\n   'quoteCommissionPrecision': 8,\n   'orderTypes': ['LIMIT',\n    'LIMIT_MAKER',\n    'MARKET',\n    'STOP_LOSS_LIMIT',\n    'TAKE_PROFIT_LIMIT'],\n   'icebergAllowed': True,\n   'ocoAllowed': True,\n   'quoteOrderQtyMarketAllowed': True,\n   'allowTrailingStop': True,\n   'cancelReplaceAllowed': True,\n   'isSpotTradingAllowed': True,\n   'isMarginTradingAllowed': False,\n   'filters': [{'filterType': 'PRICE_FILTER',\n     'minPrice': '0.01000000',\n     'maxPrice': '1000000.00000000',\n     'tickSize': '0.01000000'},\n    {'filterType': 'LOT_SIZE',\n     'minQty': '0.00000100',\n     'maxQty': '900.00000000',\n     'stepSize': '0.00000100'},\n    {'filterType': 'ICEBERG_PARTS', 'limit': 10},\n    {'filterType': 'MARKET_LOT_SIZE',\n     'minQty': '0.00000000',\n     'maxQty': '100.00000000',\n     'stepSize': '0.00000000'},\n    {'filterType': 'TRAILING_DELTA',\n     'minTrailingAboveDelta': 10,\n     'maxTrailingAboveDelta': 2000,\n     'minTrailingBelowDelta': 10,\n     'maxTrailingBelowDelta': 2000},\n    {'filterType': 'PERCENT_PRICE_BY_SIDE',\n     'bidMultiplierUp': '5',\n     'bidMultiplierDown': '0.2',\n     'askMultiplierUp': '5',\n     'askMultiplierDown': '0.2',\n     'avgPriceMins': 1},\n    {'filterType': 'NOTIONAL',\n     'minNotional': '10.00000000',\n     'applyMinToMarket': True,\n     'maxNotional': '10000.00000000',\n     'applyMaxToMarket': False,\n     'avgPriceMins': 1},\n    {'filterType': 'MAX_NUM_ORDERS', 'maxNumOrders': 200},\n    {'filterType': 'MAX_NUM_ALGO_ORDERS', 'maxNumAlgoOrders': 5}],\n   'permissions': ['SPOT'],\n   'defaultSelfTradePreventionMode': 'NONE',\n   'allowedSelfTradePreventionModes': ['NONE',\n    'EXPIRE_TAKER',\n    'EXPIRE_MAKER',\n    'EXPIRE_BOTH']},\n  {'symbol': 'ETHUSDT',\n   'status': 'TRADING',\n   'baseAsset': 'ETH',\n   'baseAssetPrecision': 8,\n   'quoteAsset': 'USDT',\n   'quotePrecision': 8,\n   'quoteAssetPrecision': 8,\n   'baseCommissionPrecision': 8,\n   'quoteCommissionPrecision': 8,\n   'orderTypes': ['LIMIT',\n    'LIMIT_MAKER',\n    'MARKET',\n    'STOP_LOSS_LIMIT',\n    'TAKE_PROFIT_LIMIT'],\n   'icebergAllowed': True,\n   'ocoAllowed': True,\n   'quoteOrderQtyMarketAllowed': True,\n   'allowTrailingStop': True,\n   'cancelReplaceAllowed': True,\n   'isSpotTradingAllowed': True,\n   'isMarginTradingAllowed': False,\n   'filters': [{'filterType': 'PRICE_FILTER',\n     'minPrice': '0.01000000',\n     'maxPrice': '100000.00000000',\n     'tickSize': '0.01000000'},\n    {'filterType': 'LOT_SIZE',\n     'minQty': '0.00001000',\n     'maxQty': '9000.00000000',\n     'stepSize': '0.00001000'},\n    {'filterType': 'ICEBERG_PARTS', 'limit': 10},\n    {'filterType': 'MARKET_LOT_SIZE',\n     'minQty': '0.00000000',\n     'maxQty': '1000.00000000',\n     'stepSize': '0.00000000'},\n    {'filterType': 'TRAILING_DELTA',\n     'minTrailingAboveDelta': 10,\n     'maxTrailingAboveDelta': 2000,\n     'minTrailingBelowDelta': 10,\n     'maxTrailingBelowDelta': 2000},\n    {'filterType': 'PERCENT_PRICE_BY_SIDE',\n     'bidMultiplierUp': '5',\n     'bidMultiplierDown': '0.2',\n     'askMultiplierUp': '5',\n     'askMultiplierDown': '0.2',\n     'avgPriceMins': 1},\n    {'filterType': 'NOTIONAL',\n     'minNotional': '10.00000000',\n     'applyMinToMarket': True,\n     'maxNotional': '10000.00000000',\n     'applyMaxToMarket': False,\n     'avgPriceMins': 1},\n    {'filterType': 'MAX_NUM_ORDERS', 'maxNumOrders': 200},\n    {'filterType': 'MAX_NUM_ALGO_ORDERS', 'maxNumAlgoOrders': 5}],\n   'permissions': ['SPOT'],\n   'defaultSelfTradePreventionMode': 'NONE',\n   'allowedSelfTradePreventionModes': ['NONE',\n    'EXPIRE_TAKER',\n    'EXPIRE_MAKER',\n    'EXPIRE_BOTH']},\n  {'symbol': 'LTCUSDT',\n   'status': 'TRADING',\n   'baseAsset': 'LTC',\n   'baseAssetPrecision': 8,\n   'quoteAsset': 'USDT',\n   'quotePrecision': 8,\n   'quoteAssetPrecision': 8,\n   'baseCommissionPrecision': 8,\n   'quoteCommissionPrecision': 8,\n   'orderTypes': ['LIMIT',\n    'LIMIT_MAKER',\n    'MARKET',\n    'STOP_LOSS_LIMIT',\n    'TAKE_PROFIT_LIMIT'],\n   'icebergAllowed': True,\n   'ocoAllowed': True,\n   'quoteOrderQtyMarketAllowed': True,\n   'allowTrailingStop': True,\n   'cancelReplaceAllowed': True,\n   'isSpotTradingAllowed': True,\n   'isMarginTradingAllowed': False,\n   'filters': [{'filterType': 'PRICE_FILTER',\n     'minPrice': '0.01000000',\n     'maxPrice': '100000.00000000',\n     'tickSize': '0.01000000'},\n    {'filterType': 'LOT_SIZE',\n     'minQty': '0.00001000',\n     'maxQty': '9000.00000000',\n     'stepSize': '0.00001000'},\n    {'filterType': 'ICEBERG_PARTS', 'limit': 10},\n    {'filterType': 'MARKET_LOT_SIZE',\n     'minQty': '0.00000000',\n     'maxQty': '1000.00000000',\n     'stepSize': '0.00000000'},\n    {'filterType': 'TRAILING_DELTA',\n     'minTrailingAboveDelta': 10,\n     'maxTrailingAboveDelta': 2000,\n     'minTrailingBelowDelta': 10,\n     'maxTrailingBelowDelta': 2000},\n    {'filterType': 'PERCENT_PRICE_BY_SIDE',\n     'bidMultiplierUp': '5',\n     'bidMultiplierDown': '0.2',\n     'askMultiplierUp': '5',\n     'askMultiplierDown': '0.2',\n     'avgPriceMins': 1},\n    {'filterType': 'NOTIONAL',\n     'minNotional': '10.00000000',\n     'applyMinToMarket': True,\n     'maxNotional': '10000.00000000',\n     'applyMaxToMarket': False,\n     'avgPriceMins': 1},\n    {'filterType': 'MAX_NUM_ORDERS', 'maxNumOrders': 200},\n    {'filterType': 'MAX_NUM_ALGO_ORDERS', 'maxNumAlgoOrders': 5}],\n   'permissions': ['SPOT'],\n   'defaultSelfTradePreventionMode': 'NONE',\n   'allowedSelfTradePreventionModes': ['NONE',\n    'EXPIRE_TAKER',\n    'EXPIRE_MAKER',\n    'EXPIRE_BOTH']},\n  {'symbol': 'TRXUSDT',\n   'status': 'TRADING',\n   'baseAsset': 'TRX',\n   'baseAssetPrecision': 8,\n   'quoteAsset': 'USDT',\n   'quotePrecision': 8,\n   'quoteAssetPrecision': 8,\n   'baseCommissionPrecision': 8,\n   'quoteCommissionPrecision': 8,\n   'orderTypes': ['LIMIT',\n    'LIMIT_MAKER',\n    'MARKET',\n    'STOP_LOSS_LIMIT',\n    'TAKE_PROFIT_LIMIT'],\n   'icebergAllowed': True,\n   'ocoAllowed': True,\n   'quoteOrderQtyMarketAllowed': True,\n   'allowTrailingStop': True,\n   'cancelReplaceAllowed': True,\n   'isSpotTradingAllowed': True,\n   'isMarginTradingAllowed': False,\n   'filters': [{'filterType': 'PRICE_FILTER',\n     'minPrice': '0.00001000',\n     'maxPrice': '1000.00000000',\n     'tickSize': '0.00001000'},\n    {'filterType': 'LOT_SIZE',\n     'minQty': '0.10000000',\n     'maxQty': '90000.00000000',\n     'stepSize': '0.10000000'},\n    {'filterType': 'ICEBERG_PARTS', 'limit': 10},\n    {'filterType': 'MARKET_LOT_SIZE',\n     'minQty': '0.00000000',\n     'maxQty': '10000.00000000',\n     'stepSize': '0.00000000'},\n    {'filterType': 'TRAILING_DELTA',\n     'minTrailingAboveDelta': 10,\n     'maxTrailingAboveDelta': 2000,\n     'minTrailingBelowDelta': 10,\n     'maxTrailingBelowDelta': 2000},\n    {'filterType': 'PERCENT_PRICE_BY_SIDE',\n     'bidMultiplierUp': '5',\n     'bidMultiplierDown': '0.2',\n     'askMultiplierUp': '5',\n     'askMultiplierDown': '0.2',\n     'avgPriceMins': 1},\n    {'filterType': 'NOTIONAL',\n     'minNotional': '10.00000000',\n     'applyMinToMarket': True,\n     'maxNotional': '10000.00000000',\n     'applyMaxToMarket': False,\n     'avgPriceMins': 1},\n    {'filterType': 'MAX_NUM_ORDERS', 'maxNumOrders': 200},\n    {'filterType': 'MAX_NUM_ALGO_ORDERS', 'maxNumAlgoOrders': 5}],\n   'permissions': ['SPOT'],\n   'defaultSelfTradePreventionMode': 'NONE',\n   'allowedSelfTradePreventionModes': ['NONE',\n    'EXPIRE_TAKER',\n    'EXPIRE_MAKER',\n    'EXPIRE_BOTH']},\n  {'symbol': 'XRPUSDT',\n   'status': 'TRADING',\n   'baseAsset': 'XRP',\n   'baseAssetPrecision': 8,\n   'quoteAsset': 'USDT',\n   'quotePrecision': 8,\n   'quoteAssetPrecision': 8,\n   'baseCommissionPrecision': 8,\n   'quoteCommissionPrecision': 8,\n   'orderTypes': ['LIMIT',\n    'LIMIT_MAKER',\n    'MARKET',\n    'STOP_LOSS_LIMIT',\n    'TAKE_PROFIT_LIMIT'],\n   'icebergAllowed': True,\n   'ocoAllowed': True,\n   'quoteOrderQtyMarketAllowed': True,\n   'allowTrailingStop': True,\n   'cancelReplaceAllowed': True,\n   'isSpotTradingAllowed': True,\n   'isMarginTradingAllowed': False,\n   'filters': [{'filterType': 'PRICE_FILTER',\n     'minPrice': '0.00010000',\n     'maxPrice': '1000.00000000',\n     'tickSize': '0.00010000'},\n    {'filterType': 'LOT_SIZE',\n     'minQty': '0.10000000',\n     'maxQty': '90000.00000000',\n     'stepSize': '0.10000000'},\n    {'filterType': 'ICEBERG_PARTS', 'limit': 10},\n    {'filterType': 'MARKET_LOT_SIZE',\n     'minQty': '0.00000000',\n     'maxQty': '10000.00000000',\n     'stepSize': '0.00000000'},\n    {'filterType': 'TRAILING_DELTA',\n     'minTrailingAboveDelta': 10,\n     'maxTrailingAboveDelta': 2000,\n     'minTrailingBelowDelta': 10,\n     'maxTrailingBelowDelta': 2000},\n    {'filterType': 'PERCENT_PRICE_BY_SIDE',\n     'bidMultiplierUp': '5',\n     'bidMultiplierDown': '0.2',\n     'askMultiplierUp': '5',\n     'askMultiplierDown': '0.2',\n     'avgPriceMins': 1},\n    {'filterType': 'NOTIONAL',\n     'minNotional': '10.00000000',\n     'applyMinToMarket': True,\n     'maxNotional': '10000.00000000',\n     'applyMaxToMarket': False,\n     'avgPriceMins': 1},\n    {'filterType': 'MAX_NUM_ORDERS', 'maxNumOrders': 200},\n    {'filterType': 'MAX_NUM_ALGO_ORDERS', 'maxNumAlgoOrders': 5}],\n   'permissions': ['SPOT'],\n   'defaultSelfTradePreventionMode': 'NONE',\n   'allowedSelfTradePreventionModes': ['NONE',\n    'EXPIRE_TAKER',\n    'EXPIRE_MAKER',\n    'EXPIRE_BOTH']},\n  {'symbol': 'BNBBTC',\n   'status': 'TRADING',\n   'baseAsset': 'BNB',\n   'baseAssetPrecision': 8,\n   'quoteAsset': 'BTC',\n   'quotePrecision': 8,\n   'quoteAssetPrecision': 8,\n   'baseCommissionPrecision': 8,\n   'quoteCommissionPrecision': 8,\n   'orderTypes': ['LIMIT',\n    'LIMIT_MAKER',\n    'MARKET',\n    'STOP_LOSS_LIMIT',\n    'TAKE_PROFIT_LIMIT'],\n   'icebergAllowed': True,\n   'ocoAllowed': True,\n   'quoteOrderQtyMarketAllowed': True,\n   'allowTrailingStop': True,\n   'cancelReplaceAllowed': True,\n   'isSpotTradingAllowed': True,\n   'isMarginTradingAllowed': False,\n   'filters': [{'filterType': 'PRICE_FILTER',\n     'minPrice': '0.00000100',\n     'maxPrice': '10.00000000',\n     'tickSize': '0.00000100'},\n    {'filterType': 'LOT_SIZE',\n     'minQty': '0.01000000',\n     'maxQty': '9000.00000000',\n     'stepSize': '0.01000000'},\n    {'filterType': 'ICEBERG_PARTS', 'limit': 10},\n    {'filterType': 'MARKET_LOT_SIZE',\n     'minQty': '0.00000000',\n     'maxQty': '1000.00000000',\n     'stepSize': '0.00000000'},\n    {'filterType': 'TRAILING_DELTA',\n     'minTrailingAboveDelta': 10,\n     'maxTrailingAboveDelta': 2000,\n     'minTrailingBelowDelta': 10,\n     'maxTrailingBelowDelta': 2000},\n    {'filterType': 'PERCENT_PRICE_BY_SIDE',\n     'bidMultiplierUp': '5',\n     'bidMultiplierDown': '0.2',\n     'askMultiplierUp': '5',\n     'askMultiplierDown': '0.2',\n     'avgPriceMins': 1},\n    {'filterType': 'NOTIONAL',\n     'minNotional': '0.00010000',\n     'applyMinToMarket': True,\n     'maxNotional': '10000.00000000',\n     'applyMaxToMarket': False,\n     'avgPriceMins': 1},\n    {'filterType': 'MAX_NUM_ORDERS', 'maxNumOrders': 200},\n    {'filterType': 'MAX_NUM_ALGO_ORDERS', 'maxNumAlgoOrders': 5}],\n   'permissions': ['SPOT'],\n   'defaultSelfTradePreventionMode': 'NONE',\n   'allowedSelfTradePreventionModes': ['NONE',\n    'EXPIRE_TAKER',\n    'EXPIRE_MAKER',\n    'EXPIRE_BOTH']},\n  {'symbol': 'ETHBTC',\n   'status': 'TRADING',\n   'baseAsset': 'ETH',\n   'baseAssetPrecision': 8,\n   'quoteAsset': 'BTC',\n   'quotePrecision': 8,\n   'quoteAssetPrecision': 8,\n   'baseCommissionPrecision': 8,\n   'quoteCommissionPrecision': 8,\n   'orderTypes': ['LIMIT',\n    'LIMIT_MAKER',\n    'MARKET',\n    'STOP_LOSS_LIMIT',\n    'TAKE_PROFIT_LIMIT'],\n   'icebergAllowed': True,\n   'ocoAllowed': True,\n   'quoteOrderQtyMarketAllowed': True,\n   'allowTrailingStop': True,\n   'cancelReplaceAllowed': True,\n   'isSpotTradingAllowed': True,\n   'isMarginTradingAllowed': False,\n   'filters': [{'filterType': 'PRICE_FILTER',\n     'minPrice': '0.00000100',\n     'maxPrice': '100.00000000',\n     'tickSize': '0.00000100'},\n    {'filterType': 'LOT_SIZE',\n     'minQty': '0.00001000',\n     'maxQty': '9000.00000000',\n     'stepSize': '0.00001000'},\n    {'filterType': 'ICEBERG_PARTS', 'limit': 10},\n    {'filterType': 'MARKET_LOT_SIZE',\n     'minQty': '0.00000000',\n     'maxQty': '1000.00000000',\n     'stepSize': '0.00000000'},\n    {'filterType': 'TRAILING_DELTA',\n     'minTrailingAboveDelta': 10,\n     'maxTrailingAboveDelta': 2000,\n     'minTrailingBelowDelta': 10,\n     'maxTrailingBelowDelta': 2000},\n    {'filterType': 'PERCENT_PRICE_BY_SIDE',\n     'bidMultiplierUp': '5',\n     'bidMultiplierDown': '0.2',\n     'askMultiplierUp': '5',\n     'askMultiplierDown': '0.2',\n     'avgPriceMins': 1},\n    {'filterType': 'NOTIONAL',\n     'minNotional': '0.00010000',\n     'applyMinToMarket': True,\n     'maxNotional': '10000.00000000',\n     'applyMaxToMarket': False,\n     'avgPriceMins': 1},\n    {'filterType': 'MAX_NUM_ORDERS', 'maxNumOrders': 200},\n    {'filterType': 'MAX_NUM_ALGO_ORDERS', 'maxNumAlgoOrders': 5}],\n   'permissions': ['SPOT'],\n   'defaultSelfTradePreventionMode': 'NONE',\n   'allowedSelfTradePreventionModes': ['NONE',\n    'EXPIRE_TAKER',\n    'EXPIRE_MAKER',\n    'EXPIRE_BOTH']},\n  {'symbol': 'LTCBTC',\n   'status': 'TRADING',\n   'baseAsset': 'LTC',\n   'baseAssetPrecision': 8,\n   'quoteAsset': 'BTC',\n   'quotePrecision': 8,\n   'quoteAssetPrecision': 8,\n   'baseCommissionPrecision': 8,\n   'quoteCommissionPrecision': 8,\n   'orderTypes': ['LIMIT',\n    'LIMIT_MAKER',\n    'MARKET',\n    'STOP_LOSS_LIMIT',\n    'TAKE_PROFIT_LIMIT'],\n   'icebergAllowed': True,\n   'ocoAllowed': True,\n   'quoteOrderQtyMarketAllowed': True,\n   'allowTrailingStop': True,\n   'cancelReplaceAllowed': True,\n   'isSpotTradingAllowed': True,\n   'isMarginTradingAllowed': False,\n   'filters': [{'filterType': 'PRICE_FILTER',\n     'minPrice': '0.00000100',\n     'maxPrice': '100.00000000',\n     'tickSize': '0.00000100'},\n    {'filterType': 'LOT_SIZE',\n     'minQty': '0.00001000',\n     'maxQty': '9000.00000000',\n     'stepSize': '0.00001000'},\n    {'filterType': 'ICEBERG_PARTS', 'limit': 10},\n    {'filterType': 'MARKET_LOT_SIZE',\n     'minQty': '0.00000000',\n     'maxQty': '1000.00000000',\n     'stepSize': '0.00000000'},\n    {'filterType': 'TRAILING_DELTA',\n     'minTrailingAboveDelta': 10,\n     'maxTrailingAboveDelta': 2000,\n     'minTrailingBelowDelta': 10,\n     'maxTrailingBelowDelta': 2000},\n    {'filterType': 'PERCENT_PRICE_BY_SIDE',\n     'bidMultiplierUp': '5',\n     'bidMultiplierDown': '0.2',\n     'askMultiplierUp': '5',\n     'askMultiplierDown': '0.2',\n     'avgPriceMins': 1},\n    {'filterType': 'NOTIONAL',\n     'minNotional': '0.00010000',\n     'applyMinToMarket': True,\n     'maxNotional': '10000.00000000',\n     'applyMaxToMarket': False,\n     'avgPriceMins': 1},\n    {'filterType': 'MAX_NUM_ORDERS', 'maxNumOrders': 200},\n    {'filterType': 'MAX_NUM_ALGO_ORDERS', 'maxNumAlgoOrders': 5}],\n   'permissions': ['SPOT'],\n   'defaultSelfTradePreventionMode': 'NONE',\n   'allowedSelfTradePreventionModes': ['NONE',\n    'EXPIRE_TAKER',\n    'EXPIRE_MAKER',\n    'EXPIRE_BOTH']},\n  {'symbol': 'TRXBTC',\n   'status': 'TRADING',\n   'baseAsset': 'TRX',\n   'baseAssetPrecision': 8,\n   'quoteAsset': 'BTC',\n   'quotePrecision': 8,\n   'quoteAssetPrecision': 8,\n   'baseCommissionPrecision': 8,\n   'quoteCommissionPrecision': 8,\n   'orderTypes': ['LIMIT',\n    'LIMIT_MAKER',\n    'MARKET',\n    'STOP_LOSS_LIMIT',\n    'TAKE_PROFIT_LIMIT'],\n   'icebergAllowed': True,\n   'ocoAllowed': True,\n   'quoteOrderQtyMarketAllowed': True,\n   'allowTrailingStop': True,\n   'cancelReplaceAllowed': True,\n   'isSpotTradingAllowed': True,\n   'isMarginTradingAllowed': False,\n   'filters': [{'filterType': 'PRICE_FILTER',\n     'minPrice': '0.00000001',\n     'maxPrice': '1.00000000',\n     'tickSize': '0.00000001'},\n    {'filterType': 'LOT_SIZE',\n     'minQty': '0.10000000',\n     'maxQty': '90000.00000000',\n     'stepSize': '0.10000000'},\n    {'filterType': 'ICEBERG_PARTS', 'limit': 10},\n    {'filterType': 'MARKET_LOT_SIZE',\n     'minQty': '0.00000000',\n     'maxQty': '10000.00000000',\n     'stepSize': '0.00000000'},\n    {'filterType': 'TRAILING_DELTA',\n     'minTrailingAboveDelta': 10,\n     'maxTrailingAboveDelta': 2000,\n     'minTrailingBelowDelta': 10,\n     'maxTrailingBelowDelta': 2000},\n    {'filterType': 'PERCENT_PRICE_BY_SIDE',\n     'bidMultiplierUp': '5',\n     'bidMultiplierDown': '0.2',\n     'askMultiplierUp': '5',\n     'askMultiplierDown': '0.2',\n     'avgPriceMins': 1},\n    {'filterType': 'NOTIONAL',\n     'minNotional': '0.00010000',\n     'applyMinToMarket': True,\n     'maxNotional': '10000.00000000',\n     'applyMaxToMarket': False,\n     'avgPriceMins': 1},\n    {'filterType': 'MAX_NUM_ORDERS', 'maxNumOrders': 200},\n    {'filterType': 'MAX_NUM_ALGO_ORDERS', 'maxNumAlgoOrders': 5}],\n   'permissions': ['SPOT'],\n   'defaultSelfTradePreventionMode': 'NONE',\n   'allowedSelfTradePreventionModes': ['NONE',\n    'EXPIRE_TAKER',\n    'EXPIRE_MAKER',\n    'EXPIRE_BOTH']},\n  {'symbol': 'XRPBTC',\n   'status': 'TRADING',\n   'baseAsset': 'XRP',\n   'baseAssetPrecision': 8,\n   'quoteAsset': 'BTC',\n   'quotePrecision': 8,\n   'quoteAssetPrecision': 8,\n   'baseCommissionPrecision': 8,\n   'quoteCommissionPrecision': 8,\n   'orderTypes': ['LIMIT',\n    'LIMIT_MAKER',\n    'MARKET',\n    'STOP_LOSS_LIMIT',\n    'TAKE_PROFIT_LIMIT'],\n   'icebergAllowed': True,\n   'ocoAllowed': True,\n   'quoteOrderQtyMarketAllowed': True,\n   'allowTrailingStop': True,\n   'cancelReplaceAllowed': True,\n   'isSpotTradingAllowed': True,\n   'isMarginTradingAllowed': False,\n   'filters': [{'filterType': 'PRICE_FILTER',\n     'minPrice': '0.00000001',\n     'maxPrice': '1.00000000',\n     'tickSize': '0.00000001'},\n    {'filterType': 'LOT_SIZE',\n     'minQty': '0.10000000',\n     'maxQty': '90000.00000000',\n     'stepSize': '0.10000000'},\n    {'filterType': 'ICEBERG_PARTS', 'limit': 10},\n    {'filterType': 'MARKET_LOT_SIZE',\n     'minQty': '0.00000000',\n     'maxQty': '10000.00000000',\n     'stepSize': '0.00000000'},\n    {'filterType': 'TRAILING_DELTA',\n     'minTrailingAboveDelta': 10,\n     'maxTrailingAboveDelta': 2000,\n     'minTrailingBelowDelta': 10,\n     'maxTrailingBelowDelta': 2000},\n    {'filterType': 'PERCENT_PRICE_BY_SIDE',\n     'bidMultiplierUp': '5',\n     'bidMultiplierDown': '0.2',\n     'askMultiplierUp': '5',\n     'askMultiplierDown': '0.2',\n     'avgPriceMins': 1},\n    {'filterType': 'NOTIONAL',\n     'minNotional': '0.00010000',\n     'applyMinToMarket': True,\n     'maxNotional': '10000.00000000',\n     'applyMaxToMarket': False,\n     'avgPriceMins': 1},\n    {'filterType': 'MAX_NUM_ORDERS', 'maxNumOrders': 200},\n    {'filterType': 'MAX_NUM_ALGO_ORDERS', 'maxNumAlgoOrders': 5}],\n   'permissions': ['SPOT'],\n   'defaultSelfTradePreventionMode': 'NONE',\n   'allowedSelfTradePreventionModes': ['NONE',\n    'EXPIRE_TAKER',\n    'EXPIRE_MAKER',\n    'EXPIRE_BOTH']},\n  {'symbol': 'LTCBNB',\n   'status': 'TRADING',\n   'baseAsset': 'LTC',\n   'baseAssetPrecision': 8,\n   'quoteAsset': 'BNB',\n   'quotePrecision': 8,\n   'quoteAssetPrecision': 8,\n   'baseCommissionPrecision': 8,\n   'quoteCommissionPrecision': 8,\n   'orderTypes': ['LIMIT',\n    'LIMIT_MAKER',\n    'MARKET',\n    'STOP_LOSS_LIMIT',\n    'TAKE_PROFIT_LIMIT'],\n   'icebergAllowed': True,\n   'ocoAllowed': True,\n   'quoteOrderQtyMarketAllowed': True,\n   'allowTrailingStop': True,\n   'cancelReplaceAllowed': True,\n   'isSpotTradingAllowed': True,\n   'isMarginTradingAllowed': False,\n   'filters': [{'filterType': 'PRICE_FILTER',\n     'minPrice': '0.00010000',\n     'maxPrice': '1000.00000000',\n     'tickSize': '0.00010000'},\n    {'filterType': 'LOT_SIZE',\n     'minQty': '0.00001000',\n     'maxQty': '9000.00000000',\n     'stepSize': '0.00001000'},\n    {'filterType': 'ICEBERG_PARTS', 'limit': 10},\n    {'filterType': 'MARKET_LOT_SIZE',\n     'minQty': '0.00000000',\n     'maxQty': '1000.00000000',\n     'stepSize': '0.00000000'},\n    {'filterType': 'TRAILING_DELTA',\n     'minTrailingAboveDelta': 10,\n     'maxTrailingAboveDelta': 2000,\n     'minTrailingBelowDelta': 10,\n     'maxTrailingBelowDelta': 2000},\n    {'filterType': 'PERCENT_PRICE_BY_SIDE',\n     'bidMultiplierUp': '5',\n     'bidMultiplierDown': '0.2',\n     'askMultiplierUp': '5',\n     'askMultiplierDown': '0.2',\n     'avgPriceMins': 1},\n    {'filterType': 'NOTIONAL',\n     'minNotional': '0.10000000',\n     'applyMinToMarket': True,\n     'maxNotional': '10000.00000000',\n     'applyMaxToMarket': False,\n     'avgPriceMins': 1},\n    {'filterType': 'MAX_NUM_ORDERS', 'maxNumOrders': 200},\n    {'filterType': 'MAX_NUM_ALGO_ORDERS', 'maxNumAlgoOrders': 5}],\n   'permissions': ['SPOT'],\n   'defaultSelfTradePreventionMode': 'NONE',\n   'allowedSelfTradePreventionModes': ['NONE',\n    'EXPIRE_TAKER',\n    'EXPIRE_MAKER',\n    'EXPIRE_BOTH']},\n  {'symbol': 'TRXBNB',\n   'status': 'TRADING',\n   'baseAsset': 'TRX',\n   'baseAssetPrecision': 8,\n   'quoteAsset': 'BNB',\n   'quotePrecision': 8,\n   'quoteAssetPrecision': 8,\n   'baseCommissionPrecision': 8,\n   'quoteCommissionPrecision': 8,\n   'orderTypes': ['LIMIT',\n    'LIMIT_MAKER',\n    'MARKET',\n    'STOP_LOSS_LIMIT',\n    'TAKE_PROFIT_LIMIT'],\n   'icebergAllowed': True,\n   'ocoAllowed': True,\n   'quoteOrderQtyMarketAllowed': True,\n   'allowTrailingStop': True,\n   'cancelReplaceAllowed': True,\n   'isSpotTradingAllowed': True,\n   'isMarginTradingAllowed': False,\n   'filters': [{'filterType': 'PRICE_FILTER',\n     'minPrice': '0.00000010',\n     'maxPrice': '10.00000000',\n     'tickSize': '0.00000010'},\n    {'filterType': 'LOT_SIZE',\n     'minQty': '0.10000000',\n     'maxQty': '90000.00000000',\n     'stepSize': '0.10000000'},\n    {'filterType': 'ICEBERG_PARTS', 'limit': 10},\n    {'filterType': 'MARKET_LOT_SIZE',\n     'minQty': '0.00000000',\n     'maxQty': '10000.00000000',\n     'stepSize': '0.00000000'},\n    {'filterType': 'TRAILING_DELTA',\n     'minTrailingAboveDelta': 10,\n     'maxTrailingAboveDelta': 2000,\n     'minTrailingBelowDelta': 10,\n     'maxTrailingBelowDelta': 2000},\n    {'filterType': 'PERCENT_PRICE_BY_SIDE',\n     'bidMultiplierUp': '5',\n     'bidMultiplierDown': '0.2',\n     'askMultiplierUp': '5',\n     'askMultiplierDown': '0.2',\n     'avgPriceMins': 1},\n    {'filterType': 'NOTIONAL',\n     'minNotional': '0.10000000',\n     'applyMinToMarket': True,\n     'maxNotional': '10000.00000000',\n     'applyMaxToMarket': False,\n     'avgPriceMins': 1},\n    {'filterType': 'MAX_NUM_ORDERS', 'maxNumOrders': 200},\n    {'filterType': 'MAX_NUM_ALGO_ORDERS', 'maxNumAlgoOrders': 5}],\n   'permissions': ['SPOT'],\n   'defaultSelfTradePreventionMode': 'NONE',\n   'allowedSelfTradePreventionModes': ['NONE',\n    'EXPIRE_TAKER',\n    'EXPIRE_MAKER',\n    'EXPIRE_BOTH']},\n  {'symbol': 'XRPBNB',\n   'status': 'TRADING',\n   'baseAsset': 'XRP',\n   'baseAssetPrecision': 8,\n   'quoteAsset': 'BNB',\n   'quotePrecision': 8,\n   'quoteAssetPrecision': 8,\n   'baseCommissionPrecision': 8,\n   'quoteCommissionPrecision': 8,\n   'orderTypes': ['LIMIT',\n    'LIMIT_MAKER',\n    'MARKET',\n    'STOP_LOSS_LIMIT',\n    'TAKE_PROFIT_LIMIT'],\n   'icebergAllowed': True,\n   'ocoAllowed': True,\n   'quoteOrderQtyMarketAllowed': True,\n   'allowTrailingStop': True,\n   'cancelReplaceAllowed': True,\n   'isSpotTradingAllowed': True,\n   'isMarginTradingAllowed': False,\n   'filters': [{'filterType': 'PRICE_FILTER',\n     'minPrice': '0.00000100',\n     'maxPrice': '10.00000000',\n     'tickSize': '0.00000100'},\n    {'filterType': 'LOT_SIZE',\n     'minQty': '0.10000000',\n     'maxQty': '90000.00000000',\n     'stepSize': '0.10000000'},\n    {'filterType': 'ICEBERG_PARTS', 'limit': 10},\n    {'filterType': 'MARKET_LOT_SIZE',\n     'minQty': '0.00000000',\n     'maxQty': '10000.00000000',\n     'stepSize': '0.00000000'},\n    {'filterType': 'TRAILING_DELTA',\n     'minTrailingAboveDelta': 10,\n     'maxTrailingAboveDelta': 2000,\n     'minTrailingBelowDelta': 10,\n     'maxTrailingBelowDelta': 2000},\n    {'filterType': 'PERCENT_PRICE_BY_SIDE',\n     'bidMultiplierUp': '5',\n     'bidMultiplierDown': '0.2',\n     'askMultiplierUp': '5',\n     'askMultiplierDown': '0.2',\n     'avgPriceMins': 1},\n    {'filterType': 'NOTIONAL',\n     'minNotional': '0.10000000',\n     'applyMinToMarket': True,\n     'maxNotional': '10000.00000000',\n     'applyMaxToMarket': False,\n     'avgPriceMins': 1},\n    {'filterType': 'MAX_NUM_ORDERS', 'maxNumOrders': 200},\n    {'filterType': 'MAX_NUM_ALGO_ORDERS', 'maxNumAlgoOrders': 5}],\n   'permissions': ['SPOT'],\n   'defaultSelfTradePreventionMode': 'NONE',\n   'allowedSelfTradePreventionModes': ['NONE',\n    'EXPIRE_TAKER',\n    'EXPIRE_MAKER',\n    'EXPIRE_BOTH']}]}"
     },
     "execution_count": 27,
     "metadata": {},
     "output_type": "execute_result"
    }
   ],
   "source": [
    "client.get_exchange_info()"
   ],
   "metadata": {
    "collapsed": false,
    "ExecuteTime": {
     "start_time": "2023-04-22T22:02:48.084184Z",
     "end_time": "2023-04-22T22:02:48.406133Z"
    }
   }
  },
  {
   "cell_type": "code",
   "execution_count": 28,
   "outputs": [
    {
     "data": {
      "text/plain": "[{'rateLimitType': 'REQUEST_WEIGHT',\n  'interval': 'MINUTE',\n  'intervalNum': 1,\n  'limit': 1200},\n {'rateLimitType': 'ORDERS',\n  'interval': 'SECOND',\n  'intervalNum': 10,\n  'limit': 50},\n {'rateLimitType': 'ORDERS',\n  'interval': 'DAY',\n  'intervalNum': 1,\n  'limit': 160000}]"
     },
     "execution_count": 28,
     "metadata": {},
     "output_type": "execute_result"
    }
   ],
   "source": [
    "# API limits\n",
    "client.get_exchange_info()[\"rateLimits\"]"
   ],
   "metadata": {
    "collapsed": false,
    "ExecuteTime": {
     "start_time": "2023-04-22T22:03:27.238303Z",
     "end_time": "2023-04-22T22:03:27.494064Z"
    }
   }
  },
  {
   "cell_type": "code",
   "execution_count": 37,
   "outputs": [
    {
     "ename": "BinanceAPIException",
     "evalue": "APIError(code=-2008): Invalid Api-Key ID.",
     "output_type": "error",
     "traceback": [
      "\u001B[0;31m---------------------------------------------------------------------------\u001B[0m",
      "\u001B[0;31mBinanceAPIException\u001B[0m                       Traceback (most recent call last)",
      "Cell \u001B[0;32mIn[37], line 2\u001B[0m\n\u001B[1;32m      1\u001B[0m \u001B[38;5;66;03m# Asset/coin info\u001B[39;00m\n\u001B[0;32m----> 2\u001B[0m \u001B[43mclient\u001B[49m\u001B[38;5;241;43m.\u001B[39;49m\u001B[43mget_all_coins_info\u001B[49m\u001B[43m(\u001B[49m\u001B[43m)\u001B[49m\n",
      "File \u001B[0;32m~/.local/share/virtualenvs/binance/lib/python3.9/site-packages/binance/client.py:6850\u001B[0m, in \u001B[0;36mClient.get_all_coins_info\u001B[0;34m(self, **params)\u001B[0m\n\u001B[1;32m   6777\u001B[0m \u001B[38;5;28;01mdef\u001B[39;00m \u001B[38;5;21mget_all_coins_info\u001B[39m(\u001B[38;5;28mself\u001B[39m, \u001B[38;5;241m*\u001B[39m\u001B[38;5;241m*\u001B[39mparams):\n\u001B[1;32m   6778\u001B[0m \u001B[38;5;250m    \u001B[39m\u001B[38;5;124;03m\"\"\"Get information of coins (available for deposit and withdraw) for user.\u001B[39;00m\n\u001B[1;32m   6779\u001B[0m \n\u001B[1;32m   6780\u001B[0m \u001B[38;5;124;03m    https://binance-docs.github.io/apidocs/spot/en/#all-coins-39-information-user_data\u001B[39;00m\n\u001B[0;32m   (...)\u001B[0m\n\u001B[1;32m   6848\u001B[0m \n\u001B[1;32m   6849\u001B[0m \u001B[38;5;124;03m    \"\"\"\u001B[39;00m\n\u001B[0;32m-> 6850\u001B[0m     \u001B[38;5;28;01mreturn\u001B[39;00m \u001B[38;5;28;43mself\u001B[39;49m\u001B[38;5;241;43m.\u001B[39;49m\u001B[43m_request_margin_api\u001B[49m\u001B[43m(\u001B[49m\u001B[38;5;124;43m'\u001B[39;49m\u001B[38;5;124;43mget\u001B[39;49m\u001B[38;5;124;43m'\u001B[39;49m\u001B[43m,\u001B[49m\u001B[43m \u001B[49m\u001B[38;5;124;43m'\u001B[39;49m\u001B[38;5;124;43mcapital/config/getall\u001B[39;49m\u001B[38;5;124;43m'\u001B[39;49m\u001B[43m,\u001B[49m\u001B[43m \u001B[49m\u001B[38;5;28;43;01mTrue\u001B[39;49;00m\u001B[43m,\u001B[49m\u001B[43m \u001B[49m\u001B[43mdata\u001B[49m\u001B[38;5;241;43m=\u001B[39;49m\u001B[43mparams\u001B[49m\u001B[43m)\u001B[49m\n",
      "File \u001B[0;32m~/.local/share/virtualenvs/binance/lib/python3.9/site-packages/binance/client.py:407\u001B[0m, in \u001B[0;36mClient._request_margin_api\u001B[0;34m(self, method, path, signed, version, **kwargs)\u001B[0m\n\u001B[1;32m    404\u001B[0m \u001B[38;5;28;01mdef\u001B[39;00m \u001B[38;5;21m_request_margin_api\u001B[39m(\u001B[38;5;28mself\u001B[39m, method, path, signed\u001B[38;5;241m=\u001B[39m\u001B[38;5;28;01mFalse\u001B[39;00m, version\u001B[38;5;241m=\u001B[39m\u001B[38;5;241m1\u001B[39m, \u001B[38;5;241m*\u001B[39m\u001B[38;5;241m*\u001B[39mkwargs) \u001B[38;5;241m-\u001B[39m\u001B[38;5;241m>\u001B[39m Dict:\n\u001B[1;32m    405\u001B[0m     uri \u001B[38;5;241m=\u001B[39m \u001B[38;5;28mself\u001B[39m\u001B[38;5;241m.\u001B[39m_create_margin_api_uri(path, version)\n\u001B[0;32m--> 407\u001B[0m     \u001B[38;5;28;01mreturn\u001B[39;00m \u001B[38;5;28;43mself\u001B[39;49m\u001B[38;5;241;43m.\u001B[39;49m\u001B[43m_request\u001B[49m\u001B[43m(\u001B[49m\u001B[43mmethod\u001B[49m\u001B[43m,\u001B[49m\u001B[43m \u001B[49m\u001B[43muri\u001B[49m\u001B[43m,\u001B[49m\u001B[43m \u001B[49m\u001B[43msigned\u001B[49m\u001B[43m,\u001B[49m\u001B[43m \u001B[49m\u001B[38;5;241;43m*\u001B[39;49m\u001B[38;5;241;43m*\u001B[39;49m\u001B[43mkwargs\u001B[49m\u001B[43m)\u001B[49m\n",
      "File \u001B[0;32m~/.local/share/virtualenvs/binance/lib/python3.9/site-packages/binance/client.py:358\u001B[0m, in \u001B[0;36mClient._request\u001B[0;34m(self, method, uri, signed, force_params, **kwargs)\u001B[0m\n\u001B[1;32m    355\u001B[0m kwargs \u001B[38;5;241m=\u001B[39m \u001B[38;5;28mself\u001B[39m\u001B[38;5;241m.\u001B[39m_get_request_kwargs(method, signed, force_params, \u001B[38;5;241m*\u001B[39m\u001B[38;5;241m*\u001B[39mkwargs)\n\u001B[1;32m    357\u001B[0m \u001B[38;5;28mself\u001B[39m\u001B[38;5;241m.\u001B[39mresponse \u001B[38;5;241m=\u001B[39m \u001B[38;5;28mgetattr\u001B[39m(\u001B[38;5;28mself\u001B[39m\u001B[38;5;241m.\u001B[39msession, method)(uri, \u001B[38;5;241m*\u001B[39m\u001B[38;5;241m*\u001B[39mkwargs)\n\u001B[0;32m--> 358\u001B[0m \u001B[38;5;28;01mreturn\u001B[39;00m \u001B[38;5;28;43mself\u001B[39;49m\u001B[38;5;241;43m.\u001B[39;49m\u001B[43m_handle_response\u001B[49m\u001B[43m(\u001B[49m\u001B[38;5;28;43mself\u001B[39;49m\u001B[38;5;241;43m.\u001B[39;49m\u001B[43mresponse\u001B[49m\u001B[43m)\u001B[49m\n",
      "File \u001B[0;32m~/.local/share/virtualenvs/binance/lib/python3.9/site-packages/binance/client.py:367\u001B[0m, in \u001B[0;36mClient._handle_response\u001B[0;34m(response)\u001B[0m\n\u001B[1;32m    362\u001B[0m \u001B[38;5;250m\u001B[39m\u001B[38;5;124;03m\"\"\"Internal helper for handling API responses from the Binance server.\u001B[39;00m\n\u001B[1;32m    363\u001B[0m \u001B[38;5;124;03mRaises the appropriate exceptions when necessary; otherwise, returns the\u001B[39;00m\n\u001B[1;32m    364\u001B[0m \u001B[38;5;124;03mresponse.\u001B[39;00m\n\u001B[1;32m    365\u001B[0m \u001B[38;5;124;03m\"\"\"\u001B[39;00m\n\u001B[1;32m    366\u001B[0m \u001B[38;5;28;01mif\u001B[39;00m \u001B[38;5;129;01mnot\u001B[39;00m (\u001B[38;5;241m200\u001B[39m \u001B[38;5;241m<\u001B[39m\u001B[38;5;241m=\u001B[39m response\u001B[38;5;241m.\u001B[39mstatus_code \u001B[38;5;241m<\u001B[39m \u001B[38;5;241m300\u001B[39m):\n\u001B[0;32m--> 367\u001B[0m     \u001B[38;5;28;01mraise\u001B[39;00m BinanceAPIException(response, response\u001B[38;5;241m.\u001B[39mstatus_code, response\u001B[38;5;241m.\u001B[39mtext)\n\u001B[1;32m    368\u001B[0m \u001B[38;5;28;01mtry\u001B[39;00m:\n\u001B[1;32m    369\u001B[0m     \u001B[38;5;28;01mreturn\u001B[39;00m response\u001B[38;5;241m.\u001B[39mjson()\n",
      "\u001B[0;31mBinanceAPIException\u001B[0m: APIError(code=-2008): Invalid Api-Key ID."
     ]
    }
   ],
   "source": [
    "# Asset/coin info\n",
    "client.get_all_coins_info()"
   ],
   "metadata": {
    "collapsed": false
   }
  },
  {
   "cell_type": "code",
   "execution_count": 42,
   "outputs": [
    {
     "ename": "BinanceAPIException",
     "evalue": "APIError(code=-2008): Invalid Api-Key ID.",
     "output_type": "error",
     "traceback": [
      "\u001B[0;31m---------------------------------------------------------------------------\u001B[0m",
      "\u001B[0;31mBinanceAPIException\u001B[0m                       Traceback (most recent call last)",
      "Cell \u001B[0;32mIn[42], line 1\u001B[0m\n\u001B[0;32m----> 1\u001B[0m \u001B[43mclient\u001B[49m\u001B[38;5;241;43m.\u001B[39;49m\u001B[43mget_trade_fee\u001B[49m\u001B[43m(\u001B[49m\u001B[43msymbol\u001B[49m\u001B[43m \u001B[49m\u001B[38;5;241;43m=\u001B[39;49m\u001B[43m \u001B[49m\u001B[38;5;124;43m\"\u001B[39;49m\u001B[38;5;124;43mBTCUSDT\u001B[39;49m\u001B[38;5;124;43m\"\u001B[39;49m\u001B[43m)\u001B[49m\n",
      "File \u001B[0;32m~/.local/share/virtualenvs/binance/lib/python3.9/site-packages/binance/client.py:2561\u001B[0m, in \u001B[0;36mClient.get_trade_fee\u001B[0;34m(self, **params)\u001B[0m\n\u001B[1;32m   2533\u001B[0m \u001B[38;5;28;01mdef\u001B[39;00m \u001B[38;5;21mget_trade_fee\u001B[39m(\u001B[38;5;28mself\u001B[39m, \u001B[38;5;241m*\u001B[39m\u001B[38;5;241m*\u001B[39mparams):\n\u001B[1;32m   2534\u001B[0m \u001B[38;5;250m    \u001B[39m\u001B[38;5;124;03m\"\"\"Get trade fee.\u001B[39;00m\n\u001B[1;32m   2535\u001B[0m \n\u001B[1;32m   2536\u001B[0m \u001B[38;5;124;03m    https://binance-docs.github.io/apidocs/spot/en/#trade-fee-sapi-user_data\u001B[39;00m\n\u001B[0;32m   (...)\u001B[0m\n\u001B[1;32m   2559\u001B[0m \n\u001B[1;32m   2560\u001B[0m \u001B[38;5;124;03m    \"\"\"\u001B[39;00m\n\u001B[0;32m-> 2561\u001B[0m     \u001B[38;5;28;01mreturn\u001B[39;00m \u001B[38;5;28;43mself\u001B[39;49m\u001B[38;5;241;43m.\u001B[39;49m\u001B[43m_request_margin_api\u001B[49m\u001B[43m(\u001B[49m\u001B[38;5;124;43m'\u001B[39;49m\u001B[38;5;124;43mget\u001B[39;49m\u001B[38;5;124;43m'\u001B[39;49m\u001B[43m,\u001B[49m\u001B[43m \u001B[49m\u001B[38;5;124;43m'\u001B[39;49m\u001B[38;5;124;43masset/tradeFee\u001B[39;49m\u001B[38;5;124;43m'\u001B[39;49m\u001B[43m,\u001B[49m\u001B[43m \u001B[49m\u001B[38;5;28;43;01mTrue\u001B[39;49;00m\u001B[43m,\u001B[49m\u001B[43m \u001B[49m\u001B[43mdata\u001B[49m\u001B[38;5;241;43m=\u001B[39;49m\u001B[43mparams\u001B[49m\u001B[43m)\u001B[49m\n",
      "File \u001B[0;32m~/.local/share/virtualenvs/binance/lib/python3.9/site-packages/binance/client.py:407\u001B[0m, in \u001B[0;36mClient._request_margin_api\u001B[0;34m(self, method, path, signed, version, **kwargs)\u001B[0m\n\u001B[1;32m    404\u001B[0m \u001B[38;5;28;01mdef\u001B[39;00m \u001B[38;5;21m_request_margin_api\u001B[39m(\u001B[38;5;28mself\u001B[39m, method, path, signed\u001B[38;5;241m=\u001B[39m\u001B[38;5;28;01mFalse\u001B[39;00m, version\u001B[38;5;241m=\u001B[39m\u001B[38;5;241m1\u001B[39m, \u001B[38;5;241m*\u001B[39m\u001B[38;5;241m*\u001B[39mkwargs) \u001B[38;5;241m-\u001B[39m\u001B[38;5;241m>\u001B[39m Dict:\n\u001B[1;32m    405\u001B[0m     uri \u001B[38;5;241m=\u001B[39m \u001B[38;5;28mself\u001B[39m\u001B[38;5;241m.\u001B[39m_create_margin_api_uri(path, version)\n\u001B[0;32m--> 407\u001B[0m     \u001B[38;5;28;01mreturn\u001B[39;00m \u001B[38;5;28;43mself\u001B[39;49m\u001B[38;5;241;43m.\u001B[39;49m\u001B[43m_request\u001B[49m\u001B[43m(\u001B[49m\u001B[43mmethod\u001B[49m\u001B[43m,\u001B[49m\u001B[43m \u001B[49m\u001B[43muri\u001B[49m\u001B[43m,\u001B[49m\u001B[43m \u001B[49m\u001B[43msigned\u001B[49m\u001B[43m,\u001B[49m\u001B[43m \u001B[49m\u001B[38;5;241;43m*\u001B[39;49m\u001B[38;5;241;43m*\u001B[39;49m\u001B[43mkwargs\u001B[49m\u001B[43m)\u001B[49m\n",
      "File \u001B[0;32m~/.local/share/virtualenvs/binance/lib/python3.9/site-packages/binance/client.py:358\u001B[0m, in \u001B[0;36mClient._request\u001B[0;34m(self, method, uri, signed, force_params, **kwargs)\u001B[0m\n\u001B[1;32m    355\u001B[0m kwargs \u001B[38;5;241m=\u001B[39m \u001B[38;5;28mself\u001B[39m\u001B[38;5;241m.\u001B[39m_get_request_kwargs(method, signed, force_params, \u001B[38;5;241m*\u001B[39m\u001B[38;5;241m*\u001B[39mkwargs)\n\u001B[1;32m    357\u001B[0m \u001B[38;5;28mself\u001B[39m\u001B[38;5;241m.\u001B[39mresponse \u001B[38;5;241m=\u001B[39m \u001B[38;5;28mgetattr\u001B[39m(\u001B[38;5;28mself\u001B[39m\u001B[38;5;241m.\u001B[39msession, method)(uri, \u001B[38;5;241m*\u001B[39m\u001B[38;5;241m*\u001B[39mkwargs)\n\u001B[0;32m--> 358\u001B[0m \u001B[38;5;28;01mreturn\u001B[39;00m \u001B[38;5;28;43mself\u001B[39;49m\u001B[38;5;241;43m.\u001B[39;49m\u001B[43m_handle_response\u001B[49m\u001B[43m(\u001B[49m\u001B[38;5;28;43mself\u001B[39;49m\u001B[38;5;241;43m.\u001B[39;49m\u001B[43mresponse\u001B[49m\u001B[43m)\u001B[49m\n",
      "File \u001B[0;32m~/.local/share/virtualenvs/binance/lib/python3.9/site-packages/binance/client.py:367\u001B[0m, in \u001B[0;36mClient._handle_response\u001B[0;34m(response)\u001B[0m\n\u001B[1;32m    362\u001B[0m \u001B[38;5;250m\u001B[39m\u001B[38;5;124;03m\"\"\"Internal helper for handling API responses from the Binance server.\u001B[39;00m\n\u001B[1;32m    363\u001B[0m \u001B[38;5;124;03mRaises the appropriate exceptions when necessary; otherwise, returns the\u001B[39;00m\n\u001B[1;32m    364\u001B[0m \u001B[38;5;124;03mresponse.\u001B[39;00m\n\u001B[1;32m    365\u001B[0m \u001B[38;5;124;03m\"\"\"\u001B[39;00m\n\u001B[1;32m    366\u001B[0m \u001B[38;5;28;01mif\u001B[39;00m \u001B[38;5;129;01mnot\u001B[39;00m (\u001B[38;5;241m200\u001B[39m \u001B[38;5;241m<\u001B[39m\u001B[38;5;241m=\u001B[39m response\u001B[38;5;241m.\u001B[39mstatus_code \u001B[38;5;241m<\u001B[39m \u001B[38;5;241m300\u001B[39m):\n\u001B[0;32m--> 367\u001B[0m     \u001B[38;5;28;01mraise\u001B[39;00m BinanceAPIException(response, response\u001B[38;5;241m.\u001B[39mstatus_code, response\u001B[38;5;241m.\u001B[39mtext)\n\u001B[1;32m    368\u001B[0m \u001B[38;5;28;01mtry\u001B[39;00m:\n\u001B[1;32m    369\u001B[0m     \u001B[38;5;28;01mreturn\u001B[39;00m response\u001B[38;5;241m.\u001B[39mjson()\n",
      "\u001B[0;31mBinanceAPIException\u001B[0m: APIError(code=-2008): Invalid Api-Key ID."
     ]
    }
   ],
   "source": [
    "client.get_trade_fee(symbol = \"BTCUSDT\")"
   ],
   "metadata": {
    "collapsed": false
   }
  },
  {
   "cell_type": "code",
   "execution_count": 46,
   "outputs": [
    {
     "data": {
      "text/plain": "{'symbol': 'BTCUSDT',\n 'status': 'TRADING',\n 'baseAsset': 'BTC',\n 'baseAssetPrecision': 8,\n 'quoteAsset': 'USDT',\n 'quotePrecision': 8,\n 'quoteAssetPrecision': 8,\n 'baseCommissionPrecision': 8,\n 'quoteCommissionPrecision': 8,\n 'orderTypes': ['LIMIT',\n  'LIMIT_MAKER',\n  'MARKET',\n  'STOP_LOSS_LIMIT',\n  'TAKE_PROFIT_LIMIT'],\n 'icebergAllowed': True,\n 'ocoAllowed': True,\n 'quoteOrderQtyMarketAllowed': True,\n 'allowTrailingStop': True,\n 'cancelReplaceAllowed': True,\n 'isSpotTradingAllowed': True,\n 'isMarginTradingAllowed': False,\n 'filters': [{'filterType': 'PRICE_FILTER',\n   'minPrice': '0.01000000',\n   'maxPrice': '1000000.00000000',\n   'tickSize': '0.01000000'},\n  {'filterType': 'LOT_SIZE',\n   'minQty': '0.00000100',\n   'maxQty': '900.00000000',\n   'stepSize': '0.00000100'},\n  {'filterType': 'ICEBERG_PARTS', 'limit': 10},\n  {'filterType': 'MARKET_LOT_SIZE',\n   'minQty': '0.00000000',\n   'maxQty': '100.00000000',\n   'stepSize': '0.00000000'},\n  {'filterType': 'TRAILING_DELTA',\n   'minTrailingAboveDelta': 10,\n   'maxTrailingAboveDelta': 2000,\n   'minTrailingBelowDelta': 10,\n   'maxTrailingBelowDelta': 2000},\n  {'filterType': 'PERCENT_PRICE_BY_SIDE',\n   'bidMultiplierUp': '5',\n   'bidMultiplierDown': '0.2',\n   'askMultiplierUp': '5',\n   'askMultiplierDown': '0.2',\n   'avgPriceMins': 1},\n  {'filterType': 'NOTIONAL',\n   'minNotional': '10.00000000',\n   'applyMinToMarket': True,\n   'maxNotional': '10000.00000000',\n   'applyMaxToMarket': False,\n   'avgPriceMins': 1},\n  {'filterType': 'MAX_NUM_ORDERS', 'maxNumOrders': 200},\n  {'filterType': 'MAX_NUM_ALGO_ORDERS', 'maxNumAlgoOrders': 5}],\n 'permissions': ['SPOT'],\n 'defaultSelfTradePreventionMode': 'NONE',\n 'allowedSelfTradePreventionModes': ['NONE',\n  'EXPIRE_TAKER',\n  'EXPIRE_MAKER',\n  'EXPIRE_BOTH']}"
     },
     "execution_count": 46,
     "metadata": {},
     "output_type": "execute_result"
    }
   ],
   "source": [
    "client.get_symbol_info(symbol = \"BTCUSDT\")"
   ],
   "metadata": {
    "collapsed": false,
    "ExecuteTime": {
     "start_time": "2023-04-22T22:37:12.200873Z",
     "end_time": "2023-04-22T22:37:12.439907Z"
    }
   }
  },
  {
   "cell_type": "code",
   "execution_count": null,
   "outputs": [],
   "source": [],
   "metadata": {
    "collapsed": false
   }
  }
 ],
 "metadata": {
  "kernelspec": {
   "display_name": "Python 3",
   "language": "python",
   "name": "python3"
  },
  "language_info": {
   "codemirror_mode": {
    "name": "ipython",
    "version": 2
   },
   "file_extension": ".py",
   "mimetype": "text/x-python",
   "name": "python",
   "nbconvert_exporter": "python",
   "pygments_lexer": "ipython2",
   "version": "2.7.6"
  }
 },
 "nbformat": 4,
 "nbformat_minor": 0
}

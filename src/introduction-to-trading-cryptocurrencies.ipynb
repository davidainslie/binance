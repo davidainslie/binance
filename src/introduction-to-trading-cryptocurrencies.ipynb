{
 "cells": [
  {
   "cell_type": "markdown",
   "source": [
    "# Introduction to (Algorithmic) Trading, Cryptocurrencies and Binance"
   ],
   "metadata": {
    "collapsed": false
   }
  },
  {
   "cell_type": "markdown",
   "source": [
    "## Asset classes\n",
    "\n",
    "Convential:\n",
    "- Stocks (listed)\n",
    "- Bonds (listed)\n",
    "- Currencies/Cash\n",
    "- Characteristics:\n",
    "  - Listed and publicly traded\n",
    "  - Regulated\n",
    "  - Liquid (high trading volume)\n",
    "  - Transparent (public information)\n",
    "  - Low barriers to invest/trade\n",
    "\n",
    "Alternative:\n",
    "- Private equity/debt\n",
    "- Real estate\n",
    "- Hedge funds\n",
    "- Commodities\n",
    "- Crypocurrencies <- Don't fit in perfectly with alternative as some have convential characteristics\n",
    "- Characteristics:\n",
    "  - Unlisted/private\n",
    "  - Unregulated\n",
    "  - Illiquid\n",
    "  - Lack of information/transparency\n",
    "  - High barriers to invest/trade"
   ],
   "metadata": {
    "collapsed": false
   }
  },
  {
   "cell_type": "markdown",
   "source": [
    "## Currency types\n",
    "\n",
    "Representative money:\n",
    "- Certificate backed by underlying commodity (e.g. gold, i.e. rather carry around a certificate than a lump of gold)\n",
    "- Precious metals (e.g. gold)\n",
    "- Can be redeemed for the commodity at any time\n",
    "\n",
    "Fiat money:\n",
    "- Paper and coins not backed\n",
    "- No intrinsic value\n",
    "- Issued by authorities (\"legal tender\")\n",
    "\n",
    "Virtual money (cryptocurrencies)\n",
    "- Digit asset\n",
    "- Not backed by real assets\n",
    "- Derives intrinsic value from its native blockchain\n",
    "- Governed by protocols, code and community\n",
    "\n",
    "Unlike representative money (which is backed by some commodity), both fiat and virtual money are built on `trust` (as they are not backed)."
   ],
   "metadata": {
    "collapsed": false
   }
  },
  {
   "cell_type": "markdown",
   "source": [
    "## Stable coins\n",
    "\n",
    "What are stable coins?\n",
    "- Cryptocurrencies that are backed by fiat money or commodities.\n",
    "- Example: USDT (Tether) is 1:1 backed by USD (fiat-backed).\n",
    "- The amount of USD used to back USDT must reflect the circulating supply of USDT.\n",
    "- Promise to convert 1 USDT back to $1 at any time (Trust).\n",
    "- Value/price is pegged to the underlying collateral ($1).\n",
    "- Stable price (close to zero price fluctuations).\n",
    "- 1 USDT == $1.000\n",
    "- Tether issued and managed by private company - Controvery about USD backing (backing irregularities, not audited).\n",
    "\n",
    "Other examples (USD backed):\n",
    "- Tether (USDT); True USD (TUSD); USD Coin (USDC); Binance USD (BUSD).\n",
    "\n",
    "What is the use of stable coins?\n",
    "- Sometimes, direct trades between fiat money and cyptos (Bitcoin) are not allowed; or expensive; and/or slow.\n",
    "- Trades between stable coins and cryptos can be cheaper, faster, and more convenient (staying in the crypto world).\n",
    "- Example: USDT/BTC (Tether and Bitcoin pair) can be more liquid than USD/BTC (USD and Bitcoin pair) i.e. better prices.\n",
    "\n",
    "| Fiat Money |        | Stable Coin |         | Cryptocurrency |\n",
    "|------------|--------|-------------|---------|----------------|\n",
    "| USD        | -----> | USDT        | <-----> | BTC            |\n",
    "|            |        |             | <-----> | BTC            |\n",
    "|            |        |             | <-----> | BTC            |\n",
    "|            | <----- |             |         |                |"
   ],
   "metadata": {
    "collapsed": false
   }
  },
  {
   "cell_type": "markdown",
   "source": [
    "## Why trade cryptocurrencies?\n",
    "\n",
    "- High volatility (high returns).\n",
    "- Highly liquid (Bitcoin, Ethereum).\n",
    "- Low commissions and spreads.\n",
    "- Security (blockchain).\n",
    "- Transparency (blockchain).\n",
    "- Not controlled/manipulated by authorities.\n",
    "- Limited supply.\n",
    "- Trading 24/7.\n",
    "- Low barriers to start trading/investing.\n",
    "- Derivative trading (Futures, Options, CFDs).\n",
    "- Long term trend and price appreciation (maybe / hopefully).\n",
    "\n",
    "Why `not` trade/invest in cryptos?\n",
    "- High volatility (high losses).\n",
    "- Prices can easily be influenced/manipulated (e.g. a single tweet from Elon Musk).\n",
    "- Wallets and Exchanges frequently hacked.\n",
    "- Scam websites and criminal use.\n",
    "- Complexity (blockchain).\n",
    "- Not regulated by authorities (exposed to market forces, can be difficult to stabilise).\n",
    "- Regulatory environment in flux (services/products and regulatory requirements can rapidly change).\n",
    "- Long term trend and price appreciation (will the bubble burst?)."
   ],
   "metadata": {
    "collapsed": false
   }
  },
  {
   "cell_type": "markdown",
   "source": [
    "## Why use Binance?\n",
    "\n",
    "- Founded in 2017.\n",
    "- World's largest cryptocurrency exchange (trading volume).\n",
    "- Launched its own cryptocurrency: Binance Coin (BNB).\n",
    "- Launched its own stable coin: Binance USD (BUSD).\n",
    "- Website for international traders: https://www.binance.com.\n",
    "- Website for US traders: https://www.binance.us.\n",
    "- Many coins (> 500) and trading pairs (> 1200).\n",
    "- Spot trading, futures and options, digital wallet and more.\n",
    "- Facing pressure from regulators across the world (US, UK, EU, CAN, JAP...)\n",
    "- Reputable and reliable (no scam).\n",
    "- Low trading fees/commissions. (Note that Coinbase is quite expensive).\n",
    "- Low spreads/slippage.\n",
    "- Security (hacking, 2FA etc).\n",
    "- Powerful REST API and Python wrapper packages enables automated trading."
   ],
   "metadata": {
    "collapsed": false
   }
  },
  {
   "cell_type": "markdown",
   "source": [
    "## Binance alternatives\n",
    "\n",
    "There are many alternatives, and there is one library that will work with many exchanges:\n",
    "- The `CCXT` library enables/simplifies API trading for many exchanges such as:\n",
    "  - binance.com / binance.us\n",
    "  - ftx.com / ftx.us\n",
    "  - Coinbase (pro / prime)\n",
    "  - Kraken\n",
    "  - Okex\n",
    "  - BitMEX\n",
    "  - Bybit\n",
    "  - and many more (see https://github.com/ccxt/ccxt\n",
    "\n",
    "Note that in the UK, can only trade `spot` on Binance, so for example, to trade derivatives an alternative would be ftx.com."
   ],
   "metadata": {
    "collapsed": false
   }
  },
  {
   "cell_type": "markdown",
   "source": [
    "## Spot vs derivatives trading\n",
    "\n",
    "Spot trading:\n",
    "> Spot trading involves directly purchasing or selling financial instruments and assets such as cryptocurrencies, forex, stocks, or bonds. Delivery of the asset is often immediately.\n",
    "> Spot trading occurs in spot markets, which are either exchange-based or over-the-counter (directly between traders).\n",
    "\n",
    "Derivatives trading:\n",
    "> Derivatives are financial instruments, set between two or more parties, that derive their value from an underlying asset, group of assets, or benchmark.\n",
    "> It's a `bet` on the future price movement of an asset (highly speculative).\n",
    "> Trader will (typically) never become the `owner` of the underlying asset (unlike spot).\n",
    "> Trader doesn't pay a price - She needs to post margin to collateralise (potential) cash settlement obligations.\n",
    "> Margin requirement is typically (much) less than the price of the underlying - Trading with leverage.\n",
    "> Trader can benefit from rising and falling prices of the underlying asset (for spot, there is also short selling)."
   ],
   "metadata": {
    "collapsed": false
   }
  },
  {
   "cell_type": "markdown",
   "source": [
    "Example (rising price):\n",
    "\n",
    "Traders A and B expect the price of Bitcoin to rise in the near future (relative to USD) - The current Bitcoin price is $40,000.\n",
    "\n",
    "Spot trading:\n",
    "- Trader A is a spot trader - He buys 1 Bitcoin for $40,000 in the market.\n",
    "- 5 days later the Bitcoin price increases to $45,000.\n",
    "- Trader A sells the Bitcoin and realises a profit of $5,000 with an initial investment of $40,000.\n",
    "\n",
    "Derivatives trading:\n",
    "- Trader B is a derivatives trader - He bets on rising Bitcoin prices with a long contract (BTC/USD); the margin requirement is 50% ($20,000).\n",
    "- 5 days later the Bitcoin price increases to $45,000.\n",
    "- Trader B terminates/closes the contract and realises a profit of (approximately) $5,000 with an initial investment of $20,000."
   ],
   "metadata": {
    "collapsed": false
   }
  },
  {
   "cell_type": "markdown",
   "source": [
    "Example (falling prices):\n",
    "\n",
    "Traders A and B expect the price of Bitcoin to fall in the near future (relative to USD) - The current Bitcoin price is $40,000.\n",
    "\n",
    "Spot trading:\n",
    "- Spot traders (typically) can't directly benefit from falling prices.\n",
    "\n",
    "Derivatives trading:\n",
    "- Trader B is a derivatives trader - He bets on falling Bitcoin prices with a short contract (BTC/USD); the margin requirement is 50% ($20,000).\n",
    "- 5 days later the Bitcoin price drops to $35,000.\n",
    "- Trader B terminates/closes the contract and realises a profit of (approximately) $5,000 with an initial investment of $20,000."
   ],
   "metadata": {
    "collapsed": false
   }
  }
 ],
 "metadata": {
  "kernelspec": {
   "display_name": "Python 3",
   "language": "python",
   "name": "python3"
  },
  "language_info": {
   "codemirror_mode": {
    "name": "ipython",
    "version": 2
   },
   "file_extension": ".py",
   "mimetype": "text/x-python",
   "name": "python",
   "nbconvert_exporter": "python",
   "pygments_lexer": "ipython2",
   "version": "2.7.6"
  }
 },
 "nbformat": 4,
 "nbformat_minor": 0
}

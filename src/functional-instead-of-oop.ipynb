{
 "cells": [
  {
   "cell_type": "markdown",
   "source": [
    "# Functional instead of OOP"
   ],
   "metadata": {
    "collapsed": false
   }
  },
  {
   "cell_type": "markdown",
   "source": [
    "Following the course utilised in this repository, we take the [OOP](oop.ipynb) and convert to FP."
   ],
   "metadata": {
    "collapsed": false
   }
  },
  {
   "cell_type": "code",
   "execution_count": 1,
   "outputs": [],
   "source": [
    "%load_ext autoreload\n",
    "%autoreload 2"
   ],
   "metadata": {
    "collapsed": false
   }
  },
  {
   "cell_type": "code",
   "execution_count": 2,
   "outputs": [],
   "source": [
    "from FinancialFunctionalInstrument import *"
   ],
   "metadata": {
    "collapsed": false
   }
  },
  {
   "cell_type": "code",
   "execution_count": 5,
   "outputs": [
    {
     "data": {
      "text/plain": "                price\nDate                 \n2015-01-02  27.332500\n2015-01-05  26.562500\n2015-01-06  26.565001\n2015-01-07  26.937500\n2015-01-08  27.972500\n...               ...\n2019-12-23  71.000000\n2019-12-24  71.067497\n2019-12-26  72.477501\n2019-12-27  72.449997\n2019-12-30  72.879997\n\n[1257 rows x 1 columns]",
      "text/html": "<div>\n<style scoped>\n    .dataframe tbody tr th:only-of-type {\n        vertical-align: middle;\n    }\n\n    .dataframe tbody tr th {\n        vertical-align: top;\n    }\n\n    .dataframe thead th {\n        text-align: right;\n    }\n</style>\n<table border=\"1\" class=\"dataframe\">\n  <thead>\n    <tr style=\"text-align: right;\">\n      <th></th>\n      <th>price</th>\n    </tr>\n    <tr>\n      <th>Date</th>\n      <th></th>\n    </tr>\n  </thead>\n  <tbody>\n    <tr>\n      <th>2015-01-02</th>\n      <td>27.332500</td>\n    </tr>\n    <tr>\n      <th>2015-01-05</th>\n      <td>26.562500</td>\n    </tr>\n    <tr>\n      <th>2015-01-06</th>\n      <td>26.565001</td>\n    </tr>\n    <tr>\n      <th>2015-01-07</th>\n      <td>26.937500</td>\n    </tr>\n    <tr>\n      <th>2015-01-08</th>\n      <td>27.972500</td>\n    </tr>\n    <tr>\n      <th>...</th>\n      <td>...</td>\n    </tr>\n    <tr>\n      <th>2019-12-23</th>\n      <td>71.000000</td>\n    </tr>\n    <tr>\n      <th>2019-12-24</th>\n      <td>71.067497</td>\n    </tr>\n    <tr>\n      <th>2019-12-26</th>\n      <td>72.477501</td>\n    </tr>\n    <tr>\n      <th>2019-12-27</th>\n      <td>72.449997</td>\n    </tr>\n    <tr>\n      <th>2019-12-30</th>\n      <td>72.879997</td>\n    </tr>\n  </tbody>\n</table>\n<p>1257 rows × 1 columns</p>\n</div>"
     },
     "execution_count": 5,
     "metadata": {},
     "output_type": "execute_result"
    }
   ],
   "source": [
    "appl = stock(\"AAPL\", \"2015-01-01\", \"2019-12-31\")\n",
    "appl"
   ],
   "metadata": {
    "collapsed": false
   }
  },
  {
   "cell_type": "code",
   "execution_count": 6,
   "outputs": [
    {
     "data": {
      "text/plain": "                price  logReturns\nDate                             \n2015-01-02  27.332500         NaN\n2015-01-05  26.562500   -0.028576\n2015-01-06  26.565001    0.000094\n2015-01-07  26.937500    0.013925\n2015-01-08  27.972500    0.037703\n...               ...         ...\n2019-12-23  71.000000    0.016187\n2019-12-24  71.067497    0.000950\n2019-12-26  72.477501    0.019646\n2019-12-27  72.449997   -0.000380\n2019-12-30  72.879997    0.005918\n\n[1257 rows x 2 columns]",
      "text/html": "<div>\n<style scoped>\n    .dataframe tbody tr th:only-of-type {\n        vertical-align: middle;\n    }\n\n    .dataframe tbody tr th {\n        vertical-align: top;\n    }\n\n    .dataframe thead th {\n        text-align: right;\n    }\n</style>\n<table border=\"1\" class=\"dataframe\">\n  <thead>\n    <tr style=\"text-align: right;\">\n      <th></th>\n      <th>price</th>\n      <th>logReturns</th>\n    </tr>\n    <tr>\n      <th>Date</th>\n      <th></th>\n      <th></th>\n    </tr>\n  </thead>\n  <tbody>\n    <tr>\n      <th>2015-01-02</th>\n      <td>27.332500</td>\n      <td>NaN</td>\n    </tr>\n    <tr>\n      <th>2015-01-05</th>\n      <td>26.562500</td>\n      <td>-0.028576</td>\n    </tr>\n    <tr>\n      <th>2015-01-06</th>\n      <td>26.565001</td>\n      <td>0.000094</td>\n    </tr>\n    <tr>\n      <th>2015-01-07</th>\n      <td>26.937500</td>\n      <td>0.013925</td>\n    </tr>\n    <tr>\n      <th>2015-01-08</th>\n      <td>27.972500</td>\n      <td>0.037703</td>\n    </tr>\n    <tr>\n      <th>...</th>\n      <td>...</td>\n      <td>...</td>\n    </tr>\n    <tr>\n      <th>2019-12-23</th>\n      <td>71.000000</td>\n      <td>0.016187</td>\n    </tr>\n    <tr>\n      <th>2019-12-24</th>\n      <td>71.067497</td>\n      <td>0.000950</td>\n    </tr>\n    <tr>\n      <th>2019-12-26</th>\n      <td>72.477501</td>\n      <td>0.019646</td>\n    </tr>\n    <tr>\n      <th>2019-12-27</th>\n      <td>72.449997</td>\n      <td>-0.000380</td>\n    </tr>\n    <tr>\n      <th>2019-12-30</th>\n      <td>72.879997</td>\n      <td>0.005918</td>\n    </tr>\n  </tbody>\n</table>\n<p>1257 rows × 2 columns</p>\n</div>"
     },
     "execution_count": 6,
     "metadata": {},
     "output_type": "execute_result"
    }
   ],
   "source": [
    "logReturns(appl)"
   ],
   "metadata": {
    "collapsed": false
   }
  }
 ],
 "metadata": {
  "kernelspec": {
   "display_name": "Python 3",
   "language": "python",
   "name": "python3"
  },
  "language_info": {
   "codemirror_mode": {
    "name": "ipython",
    "version": 2
   },
   "file_extension": ".py",
   "mimetype": "text/x-python",
   "name": "python",
   "nbconvert_exporter": "python",
   "pygments_lexer": "ipython2",
   "version": "2.7.6"
  }
 },
 "nbformat": 4,
 "nbformat_minor": 0
}

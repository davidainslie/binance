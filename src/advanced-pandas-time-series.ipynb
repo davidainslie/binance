{
 "cells": [
  {
   "cell_type": "markdown",
   "source": [
    "# Advanced Panada Time Series"
   ],
   "metadata": {
    "collapsed": false
   }
  },
  {
   "cell_type": "code",
   "execution_count": 1,
   "outputs": [],
   "source": [
    "## DatatimeIndex"
   ],
   "metadata": {
    "collapsed": false
   }
  },
  {
   "cell_type": "code",
   "execution_count": 2,
   "outputs": [],
   "source": [
    "import pandas as pd"
   ],
   "metadata": {
    "collapsed": false
   }
  },
  {
   "cell_type": "code",
   "execution_count": 3,
   "outputs": [],
   "source": [
    "stocks = pd.read_csv(\"../course/appendix/Appendix4_Materials/stocks.csv\", header = [0, 1], index_col = [0], parse_dates = [0])"
   ],
   "metadata": {
    "collapsed": false
   }
  },
  {
   "cell_type": "code",
   "execution_count": 4,
   "outputs": [
    {
     "data": {
      "text/plain": "           Adj Close                                                         \\\n                AAPL         BA        DIS        IBM         KO       MSFT   \nDate                                                                          \n2009-12-31  6.503574  41.856789  28.090706  92.406113  18.951757  23.801456   \n2010-01-04  6.604801  43.441975  27.933924  93.500313  18.965061  24.168472   \n2010-01-05  6.616219  44.864773  27.864237  92.370834  18.735643  24.176279   \n2010-01-06  6.510980  46.225727  27.716166  91.770790  18.728989  24.027906   \n2010-01-07  6.498945  48.097031  27.724878  91.453102  18.682440  23.778025   \n\n               Close                                ...   Open              \\\n                AAPL         BA    DIS         IBM  ...    DIS         IBM   \nDate                                                ...                      \n2009-12-31  7.526072  54.130001  32.25  130.899994  ...  32.27  132.410004   \n2010-01-04  7.643214  56.180000  32.07  132.449997  ...  32.50  131.179993   \n2010-01-05  7.656428  58.020000  31.99  130.850006  ...  32.07  131.679993   \n2010-01-06  7.534643  59.779999  31.82  130.000000  ...  31.90  130.679993   \n2010-01-07  7.520714  62.200001  31.83  129.550003  ...  31.77  129.869995   \n\n                                     Volume                               \\\n                   KO       MSFT       AAPL        BA       DIS      IBM   \nDate                                                                       \n2009-12-31  28.790001  30.980000  352410800   2189400  19651700  4223400   \n2010-01-04  28.580000  30.620001  493729600   6186700  13700400  6155300   \n2010-01-05  28.424999  30.850000  601904800   8867800  10307700  6841400   \n2010-01-06  28.174999  30.879999  552160000   8836500  10709500  5605300   \n2010-01-07  28.165001  30.629999  477131200  14379100   8202100  5840600   \n\n                                \n                  KO      MSFT  \nDate                            \n2009-12-31  10848800  31929700  \n2010-01-04  13870400  38409100  \n2010-01-05  23172400  49749600  \n2010-01-06  19264600  58182400  \n2010-01-07  13234600  50559700  \n\n[5 rows x 36 columns]",
      "text/html": "<div>\n<style scoped>\n    .dataframe tbody tr th:only-of-type {\n        vertical-align: middle;\n    }\n\n    .dataframe tbody tr th {\n        vertical-align: top;\n    }\n\n    .dataframe thead tr th {\n        text-align: left;\n    }\n\n    .dataframe thead tr:last-of-type th {\n        text-align: right;\n    }\n</style>\n<table border=\"1\" class=\"dataframe\">\n  <thead>\n    <tr>\n      <th></th>\n      <th colspan=\"6\" halign=\"left\">Adj Close</th>\n      <th colspan=\"4\" halign=\"left\">Close</th>\n      <th>...</th>\n      <th colspan=\"4\" halign=\"left\">Open</th>\n      <th colspan=\"6\" halign=\"left\">Volume</th>\n    </tr>\n    <tr>\n      <th></th>\n      <th>AAPL</th>\n      <th>BA</th>\n      <th>DIS</th>\n      <th>IBM</th>\n      <th>KO</th>\n      <th>MSFT</th>\n      <th>AAPL</th>\n      <th>BA</th>\n      <th>DIS</th>\n      <th>IBM</th>\n      <th>...</th>\n      <th>DIS</th>\n      <th>IBM</th>\n      <th>KO</th>\n      <th>MSFT</th>\n      <th>AAPL</th>\n      <th>BA</th>\n      <th>DIS</th>\n      <th>IBM</th>\n      <th>KO</th>\n      <th>MSFT</th>\n    </tr>\n    <tr>\n      <th>Date</th>\n      <th></th>\n      <th></th>\n      <th></th>\n      <th></th>\n      <th></th>\n      <th></th>\n      <th></th>\n      <th></th>\n      <th></th>\n      <th></th>\n      <th></th>\n      <th></th>\n      <th></th>\n      <th></th>\n      <th></th>\n      <th></th>\n      <th></th>\n      <th></th>\n      <th></th>\n      <th></th>\n      <th></th>\n    </tr>\n  </thead>\n  <tbody>\n    <tr>\n      <th>2009-12-31</th>\n      <td>6.503574</td>\n      <td>41.856789</td>\n      <td>28.090706</td>\n      <td>92.406113</td>\n      <td>18.951757</td>\n      <td>23.801456</td>\n      <td>7.526072</td>\n      <td>54.130001</td>\n      <td>32.25</td>\n      <td>130.899994</td>\n      <td>...</td>\n      <td>32.27</td>\n      <td>132.410004</td>\n      <td>28.790001</td>\n      <td>30.980000</td>\n      <td>352410800</td>\n      <td>2189400</td>\n      <td>19651700</td>\n      <td>4223400</td>\n      <td>10848800</td>\n      <td>31929700</td>\n    </tr>\n    <tr>\n      <th>2010-01-04</th>\n      <td>6.604801</td>\n      <td>43.441975</td>\n      <td>27.933924</td>\n      <td>93.500313</td>\n      <td>18.965061</td>\n      <td>24.168472</td>\n      <td>7.643214</td>\n      <td>56.180000</td>\n      <td>32.07</td>\n      <td>132.449997</td>\n      <td>...</td>\n      <td>32.50</td>\n      <td>131.179993</td>\n      <td>28.580000</td>\n      <td>30.620001</td>\n      <td>493729600</td>\n      <td>6186700</td>\n      <td>13700400</td>\n      <td>6155300</td>\n      <td>13870400</td>\n      <td>38409100</td>\n    </tr>\n    <tr>\n      <th>2010-01-05</th>\n      <td>6.616219</td>\n      <td>44.864773</td>\n      <td>27.864237</td>\n      <td>92.370834</td>\n      <td>18.735643</td>\n      <td>24.176279</td>\n      <td>7.656428</td>\n      <td>58.020000</td>\n      <td>31.99</td>\n      <td>130.850006</td>\n      <td>...</td>\n      <td>32.07</td>\n      <td>131.679993</td>\n      <td>28.424999</td>\n      <td>30.850000</td>\n      <td>601904800</td>\n      <td>8867800</td>\n      <td>10307700</td>\n      <td>6841400</td>\n      <td>23172400</td>\n      <td>49749600</td>\n    </tr>\n    <tr>\n      <th>2010-01-06</th>\n      <td>6.510980</td>\n      <td>46.225727</td>\n      <td>27.716166</td>\n      <td>91.770790</td>\n      <td>18.728989</td>\n      <td>24.027906</td>\n      <td>7.534643</td>\n      <td>59.779999</td>\n      <td>31.82</td>\n      <td>130.000000</td>\n      <td>...</td>\n      <td>31.90</td>\n      <td>130.679993</td>\n      <td>28.174999</td>\n      <td>30.879999</td>\n      <td>552160000</td>\n      <td>8836500</td>\n      <td>10709500</td>\n      <td>5605300</td>\n      <td>19264600</td>\n      <td>58182400</td>\n    </tr>\n    <tr>\n      <th>2010-01-07</th>\n      <td>6.498945</td>\n      <td>48.097031</td>\n      <td>27.724878</td>\n      <td>91.453102</td>\n      <td>18.682440</td>\n      <td>23.778025</td>\n      <td>7.520714</td>\n      <td>62.200001</td>\n      <td>31.83</td>\n      <td>129.550003</td>\n      <td>...</td>\n      <td>31.77</td>\n      <td>129.869995</td>\n      <td>28.165001</td>\n      <td>30.629999</td>\n      <td>477131200</td>\n      <td>14379100</td>\n      <td>8202100</td>\n      <td>5840600</td>\n      <td>13234600</td>\n      <td>50559700</td>\n    </tr>\n  </tbody>\n</table>\n<p>5 rows × 36 columns</p>\n</div>"
     },
     "execution_count": 4,
     "metadata": {},
     "output_type": "execute_result"
    }
   ],
   "source": [
    "stocks.head()"
   ],
   "metadata": {
    "collapsed": false
   }
  },
  {
   "cell_type": "code",
   "execution_count": 5,
   "outputs": [],
   "source": [
    "close = stocks.loc[:, \"Close\"].copy()"
   ],
   "metadata": {
    "collapsed": false
   }
  },
  {
   "cell_type": "code",
   "execution_count": 6,
   "outputs": [
    {
     "data": {
      "text/plain": "                AAPL         BA    DIS         IBM         KO       MSFT\nDate                                                                    \n2009-12-31  7.526072  54.130001  32.25  130.899994  28.500000  30.480000\n2010-01-04  7.643214  56.180000  32.07  132.449997  28.520000  30.950001\n2010-01-05  7.656428  58.020000  31.99  130.850006  28.174999  30.959999\n2010-01-06  7.534643  59.779999  31.82  130.000000  28.165001  30.770000\n2010-01-07  7.520714  62.200001  31.83  129.550003  28.094999  30.450001",
      "text/html": "<div>\n<style scoped>\n    .dataframe tbody tr th:only-of-type {\n        vertical-align: middle;\n    }\n\n    .dataframe tbody tr th {\n        vertical-align: top;\n    }\n\n    .dataframe thead th {\n        text-align: right;\n    }\n</style>\n<table border=\"1\" class=\"dataframe\">\n  <thead>\n    <tr style=\"text-align: right;\">\n      <th></th>\n      <th>AAPL</th>\n      <th>BA</th>\n      <th>DIS</th>\n      <th>IBM</th>\n      <th>KO</th>\n      <th>MSFT</th>\n    </tr>\n    <tr>\n      <th>Date</th>\n      <th></th>\n      <th></th>\n      <th></th>\n      <th></th>\n      <th></th>\n      <th></th>\n    </tr>\n  </thead>\n  <tbody>\n    <tr>\n      <th>2009-12-31</th>\n      <td>7.526072</td>\n      <td>54.130001</td>\n      <td>32.25</td>\n      <td>130.899994</td>\n      <td>28.500000</td>\n      <td>30.480000</td>\n    </tr>\n    <tr>\n      <th>2010-01-04</th>\n      <td>7.643214</td>\n      <td>56.180000</td>\n      <td>32.07</td>\n      <td>132.449997</td>\n      <td>28.520000</td>\n      <td>30.950001</td>\n    </tr>\n    <tr>\n      <th>2010-01-05</th>\n      <td>7.656428</td>\n      <td>58.020000</td>\n      <td>31.99</td>\n      <td>130.850006</td>\n      <td>28.174999</td>\n      <td>30.959999</td>\n    </tr>\n    <tr>\n      <th>2010-01-06</th>\n      <td>7.534643</td>\n      <td>59.779999</td>\n      <td>31.82</td>\n      <td>130.000000</td>\n      <td>28.165001</td>\n      <td>30.770000</td>\n    </tr>\n    <tr>\n      <th>2010-01-07</th>\n      <td>7.520714</td>\n      <td>62.200001</td>\n      <td>31.83</td>\n      <td>129.550003</td>\n      <td>28.094999</td>\n      <td>30.450001</td>\n    </tr>\n  </tbody>\n</table>\n</div>"
     },
     "execution_count": 6,
     "metadata": {},
     "output_type": "execute_result"
    }
   ],
   "source": [
    "close.head()"
   ],
   "metadata": {
    "collapsed": false
   }
  },
  {
   "cell_type": "code",
   "execution_count": 7,
   "outputs": [
    {
     "data": {
      "text/plain": "DatetimeIndex(['2009-12-31', '2010-01-04', '2010-01-05', '2010-01-06',\n               '2010-01-07', '2010-01-08', '2010-01-11', '2010-01-12',\n               '2010-01-13', '2010-01-14',\n               ...\n               '2019-01-23', '2019-01-24', '2019-01-25', '2019-01-28',\n               '2019-01-29', '2019-01-30', '2019-01-31', '2019-02-01',\n               '2019-02-04', '2019-02-05'],\n              dtype='datetime64[ns]', name='Date', length=2289, freq=None)"
     },
     "execution_count": 7,
     "metadata": {},
     "output_type": "execute_result"
    }
   ],
   "source": [
    "close.index"
   ],
   "metadata": {
    "collapsed": false
   }
  },
  {
   "cell_type": "code",
   "execution_count": 8,
   "outputs": [
    {
     "data": {
      "text/plain": "Int64Index([31,  4,  5,  6,  7,  8, 11, 12, 13, 14,\n            ...\n            23, 24, 25, 28, 29, 30, 31,  1,  4,  5],\n           dtype='int64', name='Date', length=2289)"
     },
     "execution_count": 8,
     "metadata": {},
     "output_type": "execute_result"
    }
   ],
   "source": [
    "close.index.day"
   ],
   "metadata": {
    "collapsed": false
   }
  },
  {
   "cell_type": "code",
   "execution_count": 9,
   "outputs": [
    {
     "data": {
      "text/plain": "Int64Index([12,  1,  1,  1,  1,  1,  1,  1,  1,  1,\n            ...\n             1,  1,  1,  1,  1,  1,  1,  2,  2,  2],\n           dtype='int64', name='Date', length=2289)"
     },
     "execution_count": 9,
     "metadata": {},
     "output_type": "execute_result"
    }
   ],
   "source": [
    "close.index.month"
   ],
   "metadata": {
    "collapsed": false
   }
  },
  {
   "cell_type": "code",
   "execution_count": 10,
   "outputs": [
    {
     "data": {
      "text/plain": "Int64Index([2009, 2010, 2010, 2010, 2010, 2010, 2010, 2010, 2010, 2010,\n            ...\n            2019, 2019, 2019, 2019, 2019, 2019, 2019, 2019, 2019, 2019],\n           dtype='int64', name='Date', length=2289)"
     },
     "execution_count": 10,
     "metadata": {},
     "output_type": "execute_result"
    }
   ],
   "source": [
    "close.index.year"
   ],
   "metadata": {
    "collapsed": false
   }
  },
  {
   "cell_type": "code",
   "execution_count": 11,
   "outputs": [
    {
     "data": {
      "text/plain": "Index(['Thursday', 'Monday', 'Tuesday', 'Wednesday', 'Thursday', 'Friday',\n       'Monday', 'Tuesday', 'Wednesday', 'Thursday',\n       ...\n       'Wednesday', 'Thursday', 'Friday', 'Monday', 'Tuesday', 'Wednesday',\n       'Thursday', 'Friday', 'Monday', 'Tuesday'],\n      dtype='object', name='Date', length=2289)"
     },
     "execution_count": 11,
     "metadata": {},
     "output_type": "execute_result"
    }
   ],
   "source": [
    "close.index.day_name()"
   ],
   "metadata": {
    "collapsed": false
   }
  },
  {
   "cell_type": "code",
   "execution_count": 12,
   "outputs": [
    {
     "data": {
      "text/plain": "Index(['December', 'January', 'January', 'January', 'January', 'January',\n       'January', 'January', 'January', 'January',\n       ...\n       'January', 'January', 'January', 'January', 'January', 'January',\n       'January', 'February', 'February', 'February'],\n      dtype='object', name='Date', length=2289)"
     },
     "execution_count": 12,
     "metadata": {},
     "output_type": "execute_result"
    }
   ],
   "source": [
    "close.index.month_name()"
   ],
   "metadata": {
    "collapsed": false
   }
  },
  {
   "cell_type": "code",
   "execution_count": 13,
   "outputs": [
    {
     "data": {
      "text/plain": "                 AAPL          BA         DIS         IBM         KO  \\\nDate                                                                   \n2009-12-31   7.526072   54.130001   32.250000  130.899994  28.500000   \n2010-01-04   7.643214   56.180000   32.070000  132.449997  28.520000   \n2010-01-05   7.656428   58.020000   31.990000  130.850006  28.174999   \n2010-01-06   7.534643   59.779999   31.820000  130.000000  28.165001   \n2010-01-07   7.520714   62.200001   31.830000  129.550003  28.094999   \n...               ...         ...         ...         ...        ...   \n2019-01-30  41.312500  387.720001  110.129997  134.380005  47.860001   \n2019-01-31  41.610001  385.619995  111.519997  134.419998  48.130001   \n2019-02-01  41.630001  387.429993  111.300003  134.100006  48.700001   \n2019-02-04  42.812500  397.000000  111.800003  135.190002  49.250000   \n2019-02-05  43.544998  410.179993  112.660004  135.550003  49.259998   \n\n                  MSFT        Day  Quarter  \nDate                                        \n2009-12-31   30.480000   Thursday        4  \n2010-01-04   30.950001     Monday        1  \n2010-01-05   30.959999    Tuesday        1  \n2010-01-06   30.770000  Wednesday        1  \n2010-01-07   30.450001   Thursday        1  \n...                ...        ...      ...  \n2019-01-30  106.379997  Wednesday        1  \n2019-01-31  104.430000   Thursday        1  \n2019-02-01  102.779999     Friday        1  \n2019-02-04  105.739998     Monday        1  \n2019-02-05  107.220001    Tuesday        1  \n\n[2289 rows x 8 columns]",
      "text/html": "<div>\n<style scoped>\n    .dataframe tbody tr th:only-of-type {\n        vertical-align: middle;\n    }\n\n    .dataframe tbody tr th {\n        vertical-align: top;\n    }\n\n    .dataframe thead th {\n        text-align: right;\n    }\n</style>\n<table border=\"1\" class=\"dataframe\">\n  <thead>\n    <tr style=\"text-align: right;\">\n      <th></th>\n      <th>AAPL</th>\n      <th>BA</th>\n      <th>DIS</th>\n      <th>IBM</th>\n      <th>KO</th>\n      <th>MSFT</th>\n      <th>Day</th>\n      <th>Quarter</th>\n    </tr>\n    <tr>\n      <th>Date</th>\n      <th></th>\n      <th></th>\n      <th></th>\n      <th></th>\n      <th></th>\n      <th></th>\n      <th></th>\n      <th></th>\n    </tr>\n  </thead>\n  <tbody>\n    <tr>\n      <th>2009-12-31</th>\n      <td>7.526072</td>\n      <td>54.130001</td>\n      <td>32.250000</td>\n      <td>130.899994</td>\n      <td>28.500000</td>\n      <td>30.480000</td>\n      <td>Thursday</td>\n      <td>4</td>\n    </tr>\n    <tr>\n      <th>2010-01-04</th>\n      <td>7.643214</td>\n      <td>56.180000</td>\n      <td>32.070000</td>\n      <td>132.449997</td>\n      <td>28.520000</td>\n      <td>30.950001</td>\n      <td>Monday</td>\n      <td>1</td>\n    </tr>\n    <tr>\n      <th>2010-01-05</th>\n      <td>7.656428</td>\n      <td>58.020000</td>\n      <td>31.990000</td>\n      <td>130.850006</td>\n      <td>28.174999</td>\n      <td>30.959999</td>\n      <td>Tuesday</td>\n      <td>1</td>\n    </tr>\n    <tr>\n      <th>2010-01-06</th>\n      <td>7.534643</td>\n      <td>59.779999</td>\n      <td>31.820000</td>\n      <td>130.000000</td>\n      <td>28.165001</td>\n      <td>30.770000</td>\n      <td>Wednesday</td>\n      <td>1</td>\n    </tr>\n    <tr>\n      <th>2010-01-07</th>\n      <td>7.520714</td>\n      <td>62.200001</td>\n      <td>31.830000</td>\n      <td>129.550003</td>\n      <td>28.094999</td>\n      <td>30.450001</td>\n      <td>Thursday</td>\n      <td>1</td>\n    </tr>\n    <tr>\n      <th>...</th>\n      <td>...</td>\n      <td>...</td>\n      <td>...</td>\n      <td>...</td>\n      <td>...</td>\n      <td>...</td>\n      <td>...</td>\n      <td>...</td>\n    </tr>\n    <tr>\n      <th>2019-01-30</th>\n      <td>41.312500</td>\n      <td>387.720001</td>\n      <td>110.129997</td>\n      <td>134.380005</td>\n      <td>47.860001</td>\n      <td>106.379997</td>\n      <td>Wednesday</td>\n      <td>1</td>\n    </tr>\n    <tr>\n      <th>2019-01-31</th>\n      <td>41.610001</td>\n      <td>385.619995</td>\n      <td>111.519997</td>\n      <td>134.419998</td>\n      <td>48.130001</td>\n      <td>104.430000</td>\n      <td>Thursday</td>\n      <td>1</td>\n    </tr>\n    <tr>\n      <th>2019-02-01</th>\n      <td>41.630001</td>\n      <td>387.429993</td>\n      <td>111.300003</td>\n      <td>134.100006</td>\n      <td>48.700001</td>\n      <td>102.779999</td>\n      <td>Friday</td>\n      <td>1</td>\n    </tr>\n    <tr>\n      <th>2019-02-04</th>\n      <td>42.812500</td>\n      <td>397.000000</td>\n      <td>111.800003</td>\n      <td>135.190002</td>\n      <td>49.250000</td>\n      <td>105.739998</td>\n      <td>Monday</td>\n      <td>1</td>\n    </tr>\n    <tr>\n      <th>2019-02-05</th>\n      <td>43.544998</td>\n      <td>410.179993</td>\n      <td>112.660004</td>\n      <td>135.550003</td>\n      <td>49.259998</td>\n      <td>107.220001</td>\n      <td>Tuesday</td>\n      <td>1</td>\n    </tr>\n  </tbody>\n</table>\n<p>2289 rows × 8 columns</p>\n</div>"
     },
     "execution_count": 13,
     "metadata": {},
     "output_type": "execute_result"
    }
   ],
   "source": [
    "close.assign(Day = stocks.index.day_name()).assign(Quarter = stocks.index.quarter)"
   ],
   "metadata": {
    "collapsed": false
   }
  },
  {
   "cell_type": "markdown",
   "source": [
    "## Filling NA values with bfill, ffill and interpolation"
   ],
   "metadata": {
    "collapsed": false
   }
  },
  {
   "cell_type": "markdown",
   "source": [
    "where\n",
    "- `bfill` = `backfill`,\n",
    "- `ffill` = `forward fill`"
   ],
   "metadata": {
    "collapsed": false
   }
  },
  {
   "cell_type": "markdown",
   "source": [
    "Our stocks show weekday prices e.g. no trading as weekends and bank holidays.\n",
    "But we can `fill in` data."
   ],
   "metadata": {
    "collapsed": false
   }
  },
  {
   "cell_type": "code",
   "execution_count": 14,
   "outputs": [
    {
     "data": {
      "text/plain": "                 AAPL          BA         DIS         IBM         KO  \\\nDate                                                                   \n2019-01-30  41.312500  387.720001  110.129997  134.380005  47.860001   \n2019-01-31  41.610001  385.619995  111.519997  134.419998  48.130001   \n2019-02-01  41.630001  387.429993  111.300003  134.100006  48.700001   \n2019-02-04  42.812500  397.000000  111.800003  135.190002  49.250000   \n2019-02-05  43.544998  410.179993  112.660004  135.550003  49.259998   \n\n                  MSFT        Day  Quarter  \nDate                                        \n2019-01-30  106.379997  Wednesday        1  \n2019-01-31  104.430000   Thursday        1  \n2019-02-01  102.779999     Friday        1  \n2019-02-04  105.739998     Monday        1  \n2019-02-05  107.220001    Tuesday        1  ",
      "text/html": "<div>\n<style scoped>\n    .dataframe tbody tr th:only-of-type {\n        vertical-align: middle;\n    }\n\n    .dataframe tbody tr th {\n        vertical-align: top;\n    }\n\n    .dataframe thead th {\n        text-align: right;\n    }\n</style>\n<table border=\"1\" class=\"dataframe\">\n  <thead>\n    <tr style=\"text-align: right;\">\n      <th></th>\n      <th>AAPL</th>\n      <th>BA</th>\n      <th>DIS</th>\n      <th>IBM</th>\n      <th>KO</th>\n      <th>MSFT</th>\n      <th>Day</th>\n      <th>Quarter</th>\n    </tr>\n    <tr>\n      <th>Date</th>\n      <th></th>\n      <th></th>\n      <th></th>\n      <th></th>\n      <th></th>\n      <th></th>\n      <th></th>\n      <th></th>\n    </tr>\n  </thead>\n  <tbody>\n    <tr>\n      <th>2019-01-30</th>\n      <td>41.312500</td>\n      <td>387.720001</td>\n      <td>110.129997</td>\n      <td>134.380005</td>\n      <td>47.860001</td>\n      <td>106.379997</td>\n      <td>Wednesday</td>\n      <td>1</td>\n    </tr>\n    <tr>\n      <th>2019-01-31</th>\n      <td>41.610001</td>\n      <td>385.619995</td>\n      <td>111.519997</td>\n      <td>134.419998</td>\n      <td>48.130001</td>\n      <td>104.430000</td>\n      <td>Thursday</td>\n      <td>1</td>\n    </tr>\n    <tr>\n      <th>2019-02-01</th>\n      <td>41.630001</td>\n      <td>387.429993</td>\n      <td>111.300003</td>\n      <td>134.100006</td>\n      <td>48.700001</td>\n      <td>102.779999</td>\n      <td>Friday</td>\n      <td>1</td>\n    </tr>\n    <tr>\n      <th>2019-02-04</th>\n      <td>42.812500</td>\n      <td>397.000000</td>\n      <td>111.800003</td>\n      <td>135.190002</td>\n      <td>49.250000</td>\n      <td>105.739998</td>\n      <td>Monday</td>\n      <td>1</td>\n    </tr>\n    <tr>\n      <th>2019-02-05</th>\n      <td>43.544998</td>\n      <td>410.179993</td>\n      <td>112.660004</td>\n      <td>135.550003</td>\n      <td>49.259998</td>\n      <td>107.220001</td>\n      <td>Tuesday</td>\n      <td>1</td>\n    </tr>\n  </tbody>\n</table>\n</div>"
     },
     "execution_count": 14,
     "metadata": {},
     "output_type": "execute_result"
    }
   ],
   "source": [
    "close = close.assign(Day = stocks.index.day_name()).assign(Quarter = stocks.index.quarter)\n",
    "close.tail()"
   ],
   "metadata": {
    "collapsed": false
   }
  },
  {
   "cell_type": "code",
   "execution_count": 15,
   "outputs": [
    {
     "data": {
      "text/plain": "DatetimeIndex(['2009-12-31', '2010-01-01', '2010-01-02', '2010-01-03',\n               '2010-01-04', '2010-01-05', '2010-01-06', '2010-01-07',\n               '2010-01-08', '2010-01-09',\n               ...\n               '2019-01-28', '2019-01-29', '2019-01-30', '2019-01-31',\n               '2019-02-01', '2019-02-02', '2019-02-03', '2019-02-04',\n               '2019-02-05', '2019-02-06'],\n              dtype='datetime64[ns]', length=3325, freq='D')"
     },
     "execution_count": 15,
     "metadata": {},
     "output_type": "execute_result"
    }
   ],
   "source": [
    "allDays = pd.date_range(start = \"2009-12-31\", end = \"2019-02-06\", freq = \"D\")\n",
    "allDays"
   ],
   "metadata": {
    "collapsed": false
   }
  },
  {
   "cell_type": "markdown",
   "source": [
    "We'll include all missing days i.e. weekends and bank holidays, but initially these won't have any data."
   ],
   "metadata": {
    "collapsed": false
   }
  },
  {
   "cell_type": "code",
   "execution_count": 16,
   "outputs": [
    {
     "data": {
      "text/plain": "                AAPL         BA        DIS         IBM         KO       MSFT  \\\n2009-12-31  7.526072  54.130001  32.250000  130.899994  28.500000  30.480000   \n2010-01-01       NaN        NaN        NaN         NaN        NaN        NaN   \n2010-01-02       NaN        NaN        NaN         NaN        NaN        NaN   \n2010-01-03       NaN        NaN        NaN         NaN        NaN        NaN   \n2010-01-04  7.643214  56.180000  32.070000  132.449997  28.520000  30.950001   \n2010-01-05  7.656428  58.020000  31.990000  130.850006  28.174999  30.959999   \n2010-01-06  7.534643  59.779999  31.820000  130.000000  28.165001  30.770000   \n2010-01-07  7.520714  62.200001  31.830000  129.550003  28.094999  30.450001   \n2010-01-08  7.570714  61.599998  31.879999  130.850006  27.575001  30.660000   \n2010-01-09       NaN        NaN        NaN         NaN        NaN        NaN   \n2010-01-10       NaN        NaN        NaN         NaN        NaN        NaN   \n2010-01-11  7.503929  60.869999  31.360001  129.479996  28.135000  30.270000   \n2010-01-12  7.418571  60.430000  30.820000  130.509995  28.440001  30.070000   \n2010-01-13  7.523214  61.160000  31.290001  130.229996  28.514999  30.350000   \n2010-01-14  7.479643  61.560001  31.020000  132.309998  28.565001  30.959999   \n2010-01-15  7.354643  60.820000  30.600000  131.779999  28.145000  30.860001   \n2010-01-16       NaN        NaN        NaN         NaN        NaN        NaN   \n2010-01-17       NaN        NaN        NaN         NaN        NaN        NaN   \n2010-01-18       NaN        NaN        NaN         NaN        NaN        NaN   \n2010-01-19  7.680000  60.650002  31.010000  134.139999  28.209999  31.100000   \n\n                  Day  Quarter  \n2009-12-31   Thursday      4.0  \n2010-01-01        NaN      NaN  \n2010-01-02        NaN      NaN  \n2010-01-03        NaN      NaN  \n2010-01-04     Monday      1.0  \n2010-01-05    Tuesday      1.0  \n2010-01-06  Wednesday      1.0  \n2010-01-07   Thursday      1.0  \n2010-01-08     Friday      1.0  \n2010-01-09        NaN      NaN  \n2010-01-10        NaN      NaN  \n2010-01-11     Monday      1.0  \n2010-01-12    Tuesday      1.0  \n2010-01-13  Wednesday      1.0  \n2010-01-14   Thursday      1.0  \n2010-01-15     Friday      1.0  \n2010-01-16        NaN      NaN  \n2010-01-17        NaN      NaN  \n2010-01-18        NaN      NaN  \n2010-01-19    Tuesday      1.0  ",
      "text/html": "<div>\n<style scoped>\n    .dataframe tbody tr th:only-of-type {\n        vertical-align: middle;\n    }\n\n    .dataframe tbody tr th {\n        vertical-align: top;\n    }\n\n    .dataframe thead th {\n        text-align: right;\n    }\n</style>\n<table border=\"1\" class=\"dataframe\">\n  <thead>\n    <tr style=\"text-align: right;\">\n      <th></th>\n      <th>AAPL</th>\n      <th>BA</th>\n      <th>DIS</th>\n      <th>IBM</th>\n      <th>KO</th>\n      <th>MSFT</th>\n      <th>Day</th>\n      <th>Quarter</th>\n    </tr>\n  </thead>\n  <tbody>\n    <tr>\n      <th>2009-12-31</th>\n      <td>7.526072</td>\n      <td>54.130001</td>\n      <td>32.250000</td>\n      <td>130.899994</td>\n      <td>28.500000</td>\n      <td>30.480000</td>\n      <td>Thursday</td>\n      <td>4.0</td>\n    </tr>\n    <tr>\n      <th>2010-01-01</th>\n      <td>NaN</td>\n      <td>NaN</td>\n      <td>NaN</td>\n      <td>NaN</td>\n      <td>NaN</td>\n      <td>NaN</td>\n      <td>NaN</td>\n      <td>NaN</td>\n    </tr>\n    <tr>\n      <th>2010-01-02</th>\n      <td>NaN</td>\n      <td>NaN</td>\n      <td>NaN</td>\n      <td>NaN</td>\n      <td>NaN</td>\n      <td>NaN</td>\n      <td>NaN</td>\n      <td>NaN</td>\n    </tr>\n    <tr>\n      <th>2010-01-03</th>\n      <td>NaN</td>\n      <td>NaN</td>\n      <td>NaN</td>\n      <td>NaN</td>\n      <td>NaN</td>\n      <td>NaN</td>\n      <td>NaN</td>\n      <td>NaN</td>\n    </tr>\n    <tr>\n      <th>2010-01-04</th>\n      <td>7.643214</td>\n      <td>56.180000</td>\n      <td>32.070000</td>\n      <td>132.449997</td>\n      <td>28.520000</td>\n      <td>30.950001</td>\n      <td>Monday</td>\n      <td>1.0</td>\n    </tr>\n    <tr>\n      <th>2010-01-05</th>\n      <td>7.656428</td>\n      <td>58.020000</td>\n      <td>31.990000</td>\n      <td>130.850006</td>\n      <td>28.174999</td>\n      <td>30.959999</td>\n      <td>Tuesday</td>\n      <td>1.0</td>\n    </tr>\n    <tr>\n      <th>2010-01-06</th>\n      <td>7.534643</td>\n      <td>59.779999</td>\n      <td>31.820000</td>\n      <td>130.000000</td>\n      <td>28.165001</td>\n      <td>30.770000</td>\n      <td>Wednesday</td>\n      <td>1.0</td>\n    </tr>\n    <tr>\n      <th>2010-01-07</th>\n      <td>7.520714</td>\n      <td>62.200001</td>\n      <td>31.830000</td>\n      <td>129.550003</td>\n      <td>28.094999</td>\n      <td>30.450001</td>\n      <td>Thursday</td>\n      <td>1.0</td>\n    </tr>\n    <tr>\n      <th>2010-01-08</th>\n      <td>7.570714</td>\n      <td>61.599998</td>\n      <td>31.879999</td>\n      <td>130.850006</td>\n      <td>27.575001</td>\n      <td>30.660000</td>\n      <td>Friday</td>\n      <td>1.0</td>\n    </tr>\n    <tr>\n      <th>2010-01-09</th>\n      <td>NaN</td>\n      <td>NaN</td>\n      <td>NaN</td>\n      <td>NaN</td>\n      <td>NaN</td>\n      <td>NaN</td>\n      <td>NaN</td>\n      <td>NaN</td>\n    </tr>\n    <tr>\n      <th>2010-01-10</th>\n      <td>NaN</td>\n      <td>NaN</td>\n      <td>NaN</td>\n      <td>NaN</td>\n      <td>NaN</td>\n      <td>NaN</td>\n      <td>NaN</td>\n      <td>NaN</td>\n    </tr>\n    <tr>\n      <th>2010-01-11</th>\n      <td>7.503929</td>\n      <td>60.869999</td>\n      <td>31.360001</td>\n      <td>129.479996</td>\n      <td>28.135000</td>\n      <td>30.270000</td>\n      <td>Monday</td>\n      <td>1.0</td>\n    </tr>\n    <tr>\n      <th>2010-01-12</th>\n      <td>7.418571</td>\n      <td>60.430000</td>\n      <td>30.820000</td>\n      <td>130.509995</td>\n      <td>28.440001</td>\n      <td>30.070000</td>\n      <td>Tuesday</td>\n      <td>1.0</td>\n    </tr>\n    <tr>\n      <th>2010-01-13</th>\n      <td>7.523214</td>\n      <td>61.160000</td>\n      <td>31.290001</td>\n      <td>130.229996</td>\n      <td>28.514999</td>\n      <td>30.350000</td>\n      <td>Wednesday</td>\n      <td>1.0</td>\n    </tr>\n    <tr>\n      <th>2010-01-14</th>\n      <td>7.479643</td>\n      <td>61.560001</td>\n      <td>31.020000</td>\n      <td>132.309998</td>\n      <td>28.565001</td>\n      <td>30.959999</td>\n      <td>Thursday</td>\n      <td>1.0</td>\n    </tr>\n    <tr>\n      <th>2010-01-15</th>\n      <td>7.354643</td>\n      <td>60.820000</td>\n      <td>30.600000</td>\n      <td>131.779999</td>\n      <td>28.145000</td>\n      <td>30.860001</td>\n      <td>Friday</td>\n      <td>1.0</td>\n    </tr>\n    <tr>\n      <th>2010-01-16</th>\n      <td>NaN</td>\n      <td>NaN</td>\n      <td>NaN</td>\n      <td>NaN</td>\n      <td>NaN</td>\n      <td>NaN</td>\n      <td>NaN</td>\n      <td>NaN</td>\n    </tr>\n    <tr>\n      <th>2010-01-17</th>\n      <td>NaN</td>\n      <td>NaN</td>\n      <td>NaN</td>\n      <td>NaN</td>\n      <td>NaN</td>\n      <td>NaN</td>\n      <td>NaN</td>\n      <td>NaN</td>\n    </tr>\n    <tr>\n      <th>2010-01-18</th>\n      <td>NaN</td>\n      <td>NaN</td>\n      <td>NaN</td>\n      <td>NaN</td>\n      <td>NaN</td>\n      <td>NaN</td>\n      <td>NaN</td>\n      <td>NaN</td>\n    </tr>\n    <tr>\n      <th>2010-01-19</th>\n      <td>7.680000</td>\n      <td>60.650002</td>\n      <td>31.010000</td>\n      <td>134.139999</td>\n      <td>28.209999</td>\n      <td>31.100000</td>\n      <td>Tuesday</td>\n      <td>1.0</td>\n    </tr>\n  </tbody>\n</table>\n</div>"
     },
     "execution_count": 16,
     "metadata": {},
     "output_type": "execute_result"
    }
   ],
   "source": [
    "close = close.reindex(allDays)\n",
    "close.head(20)"
   ],
   "metadata": {
    "collapsed": false
   }
  },
  {
   "cell_type": "code",
   "execution_count": 17,
   "outputs": [
    {
     "data": {
      "text/plain": "                 AAPL          BA         DIS         IBM         KO  \\\n2009-12-31   7.526072   54.130001   32.250000  130.899994  28.500000   \n2010-01-01   7.643214   56.180000   32.070000  132.449997  28.520000   \n2010-01-02   7.643214   56.180000   32.070000  132.449997  28.520000   \n2010-01-03   7.643214   56.180000   32.070000  132.449997  28.520000   \n2010-01-04   7.643214   56.180000   32.070000  132.449997  28.520000   \n...               ...         ...         ...         ...        ...   \n2019-02-02  42.812500  397.000000  111.800003  135.190002  49.250000   \n2019-02-03  42.812500  397.000000  111.800003  135.190002  49.250000   \n2019-02-04  42.812500  397.000000  111.800003  135.190002  49.250000   \n2019-02-05  43.544998  410.179993  112.660004  135.550003  49.259998   \n2019-02-06        NaN         NaN         NaN         NaN        NaN   \n\n                  MSFT  Day  Quarter  \n2009-12-31   30.480000    3        4  \n2010-01-01   30.950001    4        1  \n2010-01-02   30.950001    5        1  \n2010-01-03   30.950001    6        1  \n2010-01-04   30.950001    0        1  \n...                ...  ...      ...  \n2019-02-02  105.739998    5        1  \n2019-02-03  105.739998    6        1  \n2019-02-04  105.739998    0        1  \n2019-02-05  107.220001    1        1  \n2019-02-06         NaN    2        1  \n\n[3325 rows x 8 columns]",
      "text/html": "<div>\n<style scoped>\n    .dataframe tbody tr th:only-of-type {\n        vertical-align: middle;\n    }\n\n    .dataframe tbody tr th {\n        vertical-align: top;\n    }\n\n    .dataframe thead th {\n        text-align: right;\n    }\n</style>\n<table border=\"1\" class=\"dataframe\">\n  <thead>\n    <tr style=\"text-align: right;\">\n      <th></th>\n      <th>AAPL</th>\n      <th>BA</th>\n      <th>DIS</th>\n      <th>IBM</th>\n      <th>KO</th>\n      <th>MSFT</th>\n      <th>Day</th>\n      <th>Quarter</th>\n    </tr>\n  </thead>\n  <tbody>\n    <tr>\n      <th>2009-12-31</th>\n      <td>7.526072</td>\n      <td>54.130001</td>\n      <td>32.250000</td>\n      <td>130.899994</td>\n      <td>28.500000</td>\n      <td>30.480000</td>\n      <td>3</td>\n      <td>4</td>\n    </tr>\n    <tr>\n      <th>2010-01-01</th>\n      <td>7.643214</td>\n      <td>56.180000</td>\n      <td>32.070000</td>\n      <td>132.449997</td>\n      <td>28.520000</td>\n      <td>30.950001</td>\n      <td>4</td>\n      <td>1</td>\n    </tr>\n    <tr>\n      <th>2010-01-02</th>\n      <td>7.643214</td>\n      <td>56.180000</td>\n      <td>32.070000</td>\n      <td>132.449997</td>\n      <td>28.520000</td>\n      <td>30.950001</td>\n      <td>5</td>\n      <td>1</td>\n    </tr>\n    <tr>\n      <th>2010-01-03</th>\n      <td>7.643214</td>\n      <td>56.180000</td>\n      <td>32.070000</td>\n      <td>132.449997</td>\n      <td>28.520000</td>\n      <td>30.950001</td>\n      <td>6</td>\n      <td>1</td>\n    </tr>\n    <tr>\n      <th>2010-01-04</th>\n      <td>7.643214</td>\n      <td>56.180000</td>\n      <td>32.070000</td>\n      <td>132.449997</td>\n      <td>28.520000</td>\n      <td>30.950001</td>\n      <td>0</td>\n      <td>1</td>\n    </tr>\n    <tr>\n      <th>...</th>\n      <td>...</td>\n      <td>...</td>\n      <td>...</td>\n      <td>...</td>\n      <td>...</td>\n      <td>...</td>\n      <td>...</td>\n      <td>...</td>\n    </tr>\n    <tr>\n      <th>2019-02-02</th>\n      <td>42.812500</td>\n      <td>397.000000</td>\n      <td>111.800003</td>\n      <td>135.190002</td>\n      <td>49.250000</td>\n      <td>105.739998</td>\n      <td>5</td>\n      <td>1</td>\n    </tr>\n    <tr>\n      <th>2019-02-03</th>\n      <td>42.812500</td>\n      <td>397.000000</td>\n      <td>111.800003</td>\n      <td>135.190002</td>\n      <td>49.250000</td>\n      <td>105.739998</td>\n      <td>6</td>\n      <td>1</td>\n    </tr>\n    <tr>\n      <th>2019-02-04</th>\n      <td>42.812500</td>\n      <td>397.000000</td>\n      <td>111.800003</td>\n      <td>135.190002</td>\n      <td>49.250000</td>\n      <td>105.739998</td>\n      <td>0</td>\n      <td>1</td>\n    </tr>\n    <tr>\n      <th>2019-02-05</th>\n      <td>43.544998</td>\n      <td>410.179993</td>\n      <td>112.660004</td>\n      <td>135.550003</td>\n      <td>49.259998</td>\n      <td>107.220001</td>\n      <td>1</td>\n      <td>1</td>\n    </tr>\n    <tr>\n      <th>2019-02-06</th>\n      <td>NaN</td>\n      <td>NaN</td>\n      <td>NaN</td>\n      <td>NaN</td>\n      <td>NaN</td>\n      <td>NaN</td>\n      <td>2</td>\n      <td>1</td>\n    </tr>\n  </tbody>\n</table>\n<p>3325 rows × 8 columns</p>\n</div>"
     },
     "execution_count": 17,
     "metadata": {},
     "output_type": "execute_result"
    }
   ],
   "source": [
    "close.assign(Day = close.index.dayofweek).assign(Quarter = close.index.quarter).fillna(method = \"bfill\")"
   ],
   "metadata": {
    "collapsed": false
   }
  },
  {
   "cell_type": "code",
   "execution_count": 18,
   "outputs": [
    {
     "data": {
      "text/plain": "                 AAPL          BA         DIS         IBM         KO  \\\n2009-12-31   7.526072   54.130001   32.250000  130.899994  28.500000   \n2010-01-01   7.526072   54.130001   32.250000  130.899994  28.500000   \n2010-01-02   7.526072   54.130001   32.250000  130.899994  28.500000   \n2010-01-03   7.526072   54.130001   32.250000  130.899994  28.500000   \n2010-01-04   7.643214   56.180000   32.070000  132.449997  28.520000   \n...               ...         ...         ...         ...        ...   \n2019-02-02  41.630001  387.429993  111.300003  134.100006  48.700001   \n2019-02-03  41.630001  387.429993  111.300003  134.100006  48.700001   \n2019-02-04  42.812500  397.000000  111.800003  135.190002  49.250000   \n2019-02-05  43.544998  410.179993  112.660004  135.550003  49.259998   \n2019-02-06  43.544998  410.179993  112.660004  135.550003  49.259998   \n\n                  MSFT  Day  Quarter  \n2009-12-31   30.480000    3        4  \n2010-01-01   30.480000    4        1  \n2010-01-02   30.480000    5        1  \n2010-01-03   30.480000    6        1  \n2010-01-04   30.950001    0        1  \n...                ...  ...      ...  \n2019-02-02  102.779999    5        1  \n2019-02-03  102.779999    6        1  \n2019-02-04  105.739998    0        1  \n2019-02-05  107.220001    1        1  \n2019-02-06  107.220001    2        1  \n\n[3325 rows x 8 columns]",
      "text/html": "<div>\n<style scoped>\n    .dataframe tbody tr th:only-of-type {\n        vertical-align: middle;\n    }\n\n    .dataframe tbody tr th {\n        vertical-align: top;\n    }\n\n    .dataframe thead th {\n        text-align: right;\n    }\n</style>\n<table border=\"1\" class=\"dataframe\">\n  <thead>\n    <tr style=\"text-align: right;\">\n      <th></th>\n      <th>AAPL</th>\n      <th>BA</th>\n      <th>DIS</th>\n      <th>IBM</th>\n      <th>KO</th>\n      <th>MSFT</th>\n      <th>Day</th>\n      <th>Quarter</th>\n    </tr>\n  </thead>\n  <tbody>\n    <tr>\n      <th>2009-12-31</th>\n      <td>7.526072</td>\n      <td>54.130001</td>\n      <td>32.250000</td>\n      <td>130.899994</td>\n      <td>28.500000</td>\n      <td>30.480000</td>\n      <td>3</td>\n      <td>4</td>\n    </tr>\n    <tr>\n      <th>2010-01-01</th>\n      <td>7.526072</td>\n      <td>54.130001</td>\n      <td>32.250000</td>\n      <td>130.899994</td>\n      <td>28.500000</td>\n      <td>30.480000</td>\n      <td>4</td>\n      <td>1</td>\n    </tr>\n    <tr>\n      <th>2010-01-02</th>\n      <td>7.526072</td>\n      <td>54.130001</td>\n      <td>32.250000</td>\n      <td>130.899994</td>\n      <td>28.500000</td>\n      <td>30.480000</td>\n      <td>5</td>\n      <td>1</td>\n    </tr>\n    <tr>\n      <th>2010-01-03</th>\n      <td>7.526072</td>\n      <td>54.130001</td>\n      <td>32.250000</td>\n      <td>130.899994</td>\n      <td>28.500000</td>\n      <td>30.480000</td>\n      <td>6</td>\n      <td>1</td>\n    </tr>\n    <tr>\n      <th>2010-01-04</th>\n      <td>7.643214</td>\n      <td>56.180000</td>\n      <td>32.070000</td>\n      <td>132.449997</td>\n      <td>28.520000</td>\n      <td>30.950001</td>\n      <td>0</td>\n      <td>1</td>\n    </tr>\n    <tr>\n      <th>...</th>\n      <td>...</td>\n      <td>...</td>\n      <td>...</td>\n      <td>...</td>\n      <td>...</td>\n      <td>...</td>\n      <td>...</td>\n      <td>...</td>\n    </tr>\n    <tr>\n      <th>2019-02-02</th>\n      <td>41.630001</td>\n      <td>387.429993</td>\n      <td>111.300003</td>\n      <td>134.100006</td>\n      <td>48.700001</td>\n      <td>102.779999</td>\n      <td>5</td>\n      <td>1</td>\n    </tr>\n    <tr>\n      <th>2019-02-03</th>\n      <td>41.630001</td>\n      <td>387.429993</td>\n      <td>111.300003</td>\n      <td>134.100006</td>\n      <td>48.700001</td>\n      <td>102.779999</td>\n      <td>6</td>\n      <td>1</td>\n    </tr>\n    <tr>\n      <th>2019-02-04</th>\n      <td>42.812500</td>\n      <td>397.000000</td>\n      <td>111.800003</td>\n      <td>135.190002</td>\n      <td>49.250000</td>\n      <td>105.739998</td>\n      <td>0</td>\n      <td>1</td>\n    </tr>\n    <tr>\n      <th>2019-02-05</th>\n      <td>43.544998</td>\n      <td>410.179993</td>\n      <td>112.660004</td>\n      <td>135.550003</td>\n      <td>49.259998</td>\n      <td>107.220001</td>\n      <td>1</td>\n      <td>1</td>\n    </tr>\n    <tr>\n      <th>2019-02-06</th>\n      <td>43.544998</td>\n      <td>410.179993</td>\n      <td>112.660004</td>\n      <td>135.550003</td>\n      <td>49.259998</td>\n      <td>107.220001</td>\n      <td>2</td>\n      <td>1</td>\n    </tr>\n  </tbody>\n</table>\n<p>3325 rows × 8 columns</p>\n</div>"
     },
     "execution_count": 18,
     "metadata": {},
     "output_type": "execute_result"
    }
   ],
   "source": [
    "close.assign(Day = close.index.dayofweek).assign(Quarter = close.index.quarter).fillna(method = \"ffill\")"
   ],
   "metadata": {
    "collapsed": false
   }
  },
  {
   "cell_type": "code",
   "execution_count": 19,
   "outputs": [
    {
     "data": {
      "text/plain": "                       LA   NY\ndatetime                      \n2013-01-01 00:00:00  11.7 -1.1\n2013-01-01 01:00:00  10.7 -1.7\n2013-01-01 02:00:00   9.9 -2.0\n2013-01-01 03:00:00   9.3 -2.1\n2013-01-01 04:00:00   8.8 -2.3\n2013-01-01 05:00:00   8.7 -2.5\n2013-01-01 06:00:00   6.9 -3.2\n2013-01-01 07:00:00   7.8 -3.4\n2013-01-01 08:00:00   6.7 -3.0\n2013-01-01 09:00:00   6.6 -1.8",
      "text/html": "<div>\n<style scoped>\n    .dataframe tbody tr th:only-of-type {\n        vertical-align: middle;\n    }\n\n    .dataframe tbody tr th {\n        vertical-align: top;\n    }\n\n    .dataframe thead th {\n        text-align: right;\n    }\n</style>\n<table border=\"1\" class=\"dataframe\">\n  <thead>\n    <tr style=\"text-align: right;\">\n      <th></th>\n      <th>LA</th>\n      <th>NY</th>\n    </tr>\n    <tr>\n      <th>datetime</th>\n      <th></th>\n      <th></th>\n    </tr>\n  </thead>\n  <tbody>\n    <tr>\n      <th>2013-01-01 00:00:00</th>\n      <td>11.7</td>\n      <td>-1.1</td>\n    </tr>\n    <tr>\n      <th>2013-01-01 01:00:00</th>\n      <td>10.7</td>\n      <td>-1.7</td>\n    </tr>\n    <tr>\n      <th>2013-01-01 02:00:00</th>\n      <td>9.9</td>\n      <td>-2.0</td>\n    </tr>\n    <tr>\n      <th>2013-01-01 03:00:00</th>\n      <td>9.3</td>\n      <td>-2.1</td>\n    </tr>\n    <tr>\n      <th>2013-01-01 04:00:00</th>\n      <td>8.8</td>\n      <td>-2.3</td>\n    </tr>\n    <tr>\n      <th>2013-01-01 05:00:00</th>\n      <td>8.7</td>\n      <td>-2.5</td>\n    </tr>\n    <tr>\n      <th>2013-01-01 06:00:00</th>\n      <td>6.9</td>\n      <td>-3.2</td>\n    </tr>\n    <tr>\n      <th>2013-01-01 07:00:00</th>\n      <td>7.8</td>\n      <td>-3.4</td>\n    </tr>\n    <tr>\n      <th>2013-01-01 08:00:00</th>\n      <td>6.7</td>\n      <td>-3.0</td>\n    </tr>\n    <tr>\n      <th>2013-01-01 09:00:00</th>\n      <td>6.6</td>\n      <td>-1.8</td>\n    </tr>\n  </tbody>\n</table>\n</div>"
     },
     "execution_count": 19,
     "metadata": {},
     "output_type": "execute_result"
    }
   ],
   "source": [
    "temperature = pd.read_csv(\"../course/appendix/Appendix4_Materials/temp.csv\", index_col = \"datetime\", parse_dates = [\"datetime\"])\n",
    "temperature.head(10)"
   ],
   "metadata": {
    "collapsed": false
   }
  },
  {
   "cell_type": "code",
   "execution_count": 20,
   "outputs": [
    {
     "data": {
      "text/plain": "                       LA   NY\ndatetime                      \n2013-01-01 00:00:00  11.7 -1.1\n2013-01-01 00:30:00   NaN  NaN\n2013-01-01 01:00:00  10.7 -1.7\n2013-01-01 01:30:00   NaN  NaN\n2013-01-01 02:00:00   9.9 -2.0\n2013-01-01 02:30:00   NaN  NaN\n2013-01-01 03:00:00   9.3 -2.1\n2013-01-01 03:30:00   NaN  NaN\n2013-01-01 04:00:00   8.8 -2.3\n2013-01-01 04:30:00   NaN  NaN",
      "text/html": "<div>\n<style scoped>\n    .dataframe tbody tr th:only-of-type {\n        vertical-align: middle;\n    }\n\n    .dataframe tbody tr th {\n        vertical-align: top;\n    }\n\n    .dataframe thead th {\n        text-align: right;\n    }\n</style>\n<table border=\"1\" class=\"dataframe\">\n  <thead>\n    <tr style=\"text-align: right;\">\n      <th></th>\n      <th>LA</th>\n      <th>NY</th>\n    </tr>\n    <tr>\n      <th>datetime</th>\n      <th></th>\n      <th></th>\n    </tr>\n  </thead>\n  <tbody>\n    <tr>\n      <th>2013-01-01 00:00:00</th>\n      <td>11.7</td>\n      <td>-1.1</td>\n    </tr>\n    <tr>\n      <th>2013-01-01 00:30:00</th>\n      <td>NaN</td>\n      <td>NaN</td>\n    </tr>\n    <tr>\n      <th>2013-01-01 01:00:00</th>\n      <td>10.7</td>\n      <td>-1.7</td>\n    </tr>\n    <tr>\n      <th>2013-01-01 01:30:00</th>\n      <td>NaN</td>\n      <td>NaN</td>\n    </tr>\n    <tr>\n      <th>2013-01-01 02:00:00</th>\n      <td>9.9</td>\n      <td>-2.0</td>\n    </tr>\n    <tr>\n      <th>2013-01-01 02:30:00</th>\n      <td>NaN</td>\n      <td>NaN</td>\n    </tr>\n    <tr>\n      <th>2013-01-01 03:00:00</th>\n      <td>9.3</td>\n      <td>-2.1</td>\n    </tr>\n    <tr>\n      <th>2013-01-01 03:30:00</th>\n      <td>NaN</td>\n      <td>NaN</td>\n    </tr>\n    <tr>\n      <th>2013-01-01 04:00:00</th>\n      <td>8.8</td>\n      <td>-2.3</td>\n    </tr>\n    <tr>\n      <th>2013-01-01 04:30:00</th>\n      <td>NaN</td>\n      <td>NaN</td>\n    </tr>\n  </tbody>\n</table>\n</div>"
     },
     "execution_count": 20,
     "metadata": {},
     "output_type": "execute_result"
    }
   ],
   "source": [
    "temperature = temperature.resample(\"30 Min\").mean() # Creating more samples but have no data for these - After we can interpolate\n",
    "temperature.head(10)"
   ],
   "metadata": {
    "collapsed": false
   }
  },
  {
   "cell_type": "code",
   "execution_count": 21,
   "outputs": [
    {
     "data": {
      "text/plain": "                        LA    NY\ndatetime                        \n2013-01-01 00:00:00  11.70 -1.10\n2013-01-01 00:30:00  11.20 -1.40\n2013-01-01 01:00:00  10.70 -1.70\n2013-01-01 01:30:00  10.30 -1.85\n2013-01-01 02:00:00   9.90 -2.00\n...                    ...   ...\n2016-12-31 21:00:00  12.80  5.80\n2016-12-31 21:30:00  12.55  5.75\n2016-12-31 22:00:00  12.30  5.70\n2016-12-31 22:30:00  12.10  5.60\n2016-12-31 23:00:00  11.90  5.50\n\n[70127 rows x 2 columns]",
      "text/html": "<div>\n<style scoped>\n    .dataframe tbody tr th:only-of-type {\n        vertical-align: middle;\n    }\n\n    .dataframe tbody tr th {\n        vertical-align: top;\n    }\n\n    .dataframe thead th {\n        text-align: right;\n    }\n</style>\n<table border=\"1\" class=\"dataframe\">\n  <thead>\n    <tr style=\"text-align: right;\">\n      <th></th>\n      <th>LA</th>\n      <th>NY</th>\n    </tr>\n    <tr>\n      <th>datetime</th>\n      <th></th>\n      <th></th>\n    </tr>\n  </thead>\n  <tbody>\n    <tr>\n      <th>2013-01-01 00:00:00</th>\n      <td>11.70</td>\n      <td>-1.10</td>\n    </tr>\n    <tr>\n      <th>2013-01-01 00:30:00</th>\n      <td>11.20</td>\n      <td>-1.40</td>\n    </tr>\n    <tr>\n      <th>2013-01-01 01:00:00</th>\n      <td>10.70</td>\n      <td>-1.70</td>\n    </tr>\n    <tr>\n      <th>2013-01-01 01:30:00</th>\n      <td>10.30</td>\n      <td>-1.85</td>\n    </tr>\n    <tr>\n      <th>2013-01-01 02:00:00</th>\n      <td>9.90</td>\n      <td>-2.00</td>\n    </tr>\n    <tr>\n      <th>...</th>\n      <td>...</td>\n      <td>...</td>\n    </tr>\n    <tr>\n      <th>2016-12-31 21:00:00</th>\n      <td>12.80</td>\n      <td>5.80</td>\n    </tr>\n    <tr>\n      <th>2016-12-31 21:30:00</th>\n      <td>12.55</td>\n      <td>5.75</td>\n    </tr>\n    <tr>\n      <th>2016-12-31 22:00:00</th>\n      <td>12.30</td>\n      <td>5.70</td>\n    </tr>\n    <tr>\n      <th>2016-12-31 22:30:00</th>\n      <td>12.10</td>\n      <td>5.60</td>\n    </tr>\n    <tr>\n      <th>2016-12-31 23:00:00</th>\n      <td>11.90</td>\n      <td>5.50</td>\n    </tr>\n  </tbody>\n</table>\n<p>70127 rows × 2 columns</p>\n</div>"
     },
     "execution_count": 21,
     "metadata": {},
     "output_type": "execute_result"
    }
   ],
   "source": [
    "temperature.interpolate()"
   ],
   "metadata": {
    "collapsed": false
   }
  },
  {
   "cell_type": "markdown",
   "source": [
    "## Timezones"
   ],
   "metadata": {
    "collapsed": false
   }
  },
  {
   "cell_type": "code",
   "execution_count": 22,
   "outputs": [],
   "source": [
    "import pandas as pd"
   ],
   "metadata": {
    "collapsed": false
   }
  },
  {
   "cell_type": "code",
   "execution_count": 23,
   "outputs": [],
   "source": [
    "ge = pd.read_csv(\"../course/appendix/Appendix4_Materials/GE_prices.csv\", parse_dates = [\"date\"], index_col = \"date\")"
   ],
   "metadata": {
    "collapsed": false
   }
  },
  {
   "cell_type": "code",
   "execution_count": 24,
   "outputs": [
    {
     "data": {
      "text/plain": "                     1. open  2. high   3. low  4. close  5. volume\ndate                                                               \n2019-07-29 10:00:00  10.5000  10.5800  10.4300   10.4400  4840329.0\n2019-07-29 10:30:00  10.4404  10.4847  10.3997   10.4104  3860280.0\n2019-07-29 11:00:00  10.4200  10.5000  10.4100   10.5000  1912153.0\n2019-07-29 11:30:00  10.4931  10.5300  10.4800   10.4850  1916453.0\n2019-07-29 12:00:00  10.4900  10.5000  10.4400   10.4500  2467638.0",
      "text/html": "<div>\n<style scoped>\n    .dataframe tbody tr th:only-of-type {\n        vertical-align: middle;\n    }\n\n    .dataframe tbody tr th {\n        vertical-align: top;\n    }\n\n    .dataframe thead th {\n        text-align: right;\n    }\n</style>\n<table border=\"1\" class=\"dataframe\">\n  <thead>\n    <tr style=\"text-align: right;\">\n      <th></th>\n      <th>1. open</th>\n      <th>2. high</th>\n      <th>3. low</th>\n      <th>4. close</th>\n      <th>5. volume</th>\n    </tr>\n    <tr>\n      <th>date</th>\n      <th></th>\n      <th></th>\n      <th></th>\n      <th></th>\n      <th></th>\n    </tr>\n  </thead>\n  <tbody>\n    <tr>\n      <th>2019-07-29 10:00:00</th>\n      <td>10.5000</td>\n      <td>10.5800</td>\n      <td>10.4300</td>\n      <td>10.4400</td>\n      <td>4840329.0</td>\n    </tr>\n    <tr>\n      <th>2019-07-29 10:30:00</th>\n      <td>10.4404</td>\n      <td>10.4847</td>\n      <td>10.3997</td>\n      <td>10.4104</td>\n      <td>3860280.0</td>\n    </tr>\n    <tr>\n      <th>2019-07-29 11:00:00</th>\n      <td>10.4200</td>\n      <td>10.5000</td>\n      <td>10.4100</td>\n      <td>10.5000</td>\n      <td>1912153.0</td>\n    </tr>\n    <tr>\n      <th>2019-07-29 11:30:00</th>\n      <td>10.4931</td>\n      <td>10.5300</td>\n      <td>10.4800</td>\n      <td>10.4850</td>\n      <td>1916453.0</td>\n    </tr>\n    <tr>\n      <th>2019-07-29 12:00:00</th>\n      <td>10.4900</td>\n      <td>10.5000</td>\n      <td>10.4400</td>\n      <td>10.4500</td>\n      <td>2467638.0</td>\n    </tr>\n  </tbody>\n</table>\n</div>"
     },
     "execution_count": 24,
     "metadata": {},
     "output_type": "execute_result"
    }
   ],
   "source": [
    "ge.head()"
   ],
   "metadata": {
    "collapsed": false
   }
  },
  {
   "cell_type": "markdown",
   "source": [
    "The above times are New York where GE is traded. These times are 4 hours behind `UTC`."
   ],
   "metadata": {
    "collapsed": false
   }
  },
  {
   "cell_type": "code",
   "execution_count": 25,
   "outputs": [
    {
     "data": {
      "text/plain": "                           1. open  2. high   3. low  4. close  5. volume\ndate                                                                     \n2019-07-29 10:00:00-04:00  10.5000  10.5800  10.4300   10.4400  4840329.0\n2019-07-29 10:30:00-04:00  10.4404  10.4847  10.3997   10.4104  3860280.0\n2019-07-29 11:00:00-04:00  10.4200  10.5000  10.4100   10.5000  1912153.0\n2019-07-29 11:30:00-04:00  10.4931  10.5300  10.4800   10.4850  1916453.0\n2019-07-29 12:00:00-04:00  10.4900  10.5000  10.4400   10.4500  2467638.0\n...                            ...      ...      ...       ...        ...\n2019-09-09 14:00:00-04:00   8.9900   8.9950   8.9700    8.9800  1740722.0\n2019-09-09 14:30:00-04:00   8.9735   9.0000   8.9700    8.9835  1412823.0\n2019-09-09 15:00:00-04:00   8.9900   9.0100   8.9350    8.9500  4177838.0\n2019-09-09 15:30:00-04:00   8.9453   8.9700   8.9300    8.9603  2254279.0\n2019-09-09 16:00:00-04:00   8.9600   8.9900   8.9200    8.9700  6887530.0\n\n[389 rows x 5 columns]",
      "text/html": "<div>\n<style scoped>\n    .dataframe tbody tr th:only-of-type {\n        vertical-align: middle;\n    }\n\n    .dataframe tbody tr th {\n        vertical-align: top;\n    }\n\n    .dataframe thead th {\n        text-align: right;\n    }\n</style>\n<table border=\"1\" class=\"dataframe\">\n  <thead>\n    <tr style=\"text-align: right;\">\n      <th></th>\n      <th>1. open</th>\n      <th>2. high</th>\n      <th>3. low</th>\n      <th>4. close</th>\n      <th>5. volume</th>\n    </tr>\n    <tr>\n      <th>date</th>\n      <th></th>\n      <th></th>\n      <th></th>\n      <th></th>\n      <th></th>\n    </tr>\n  </thead>\n  <tbody>\n    <tr>\n      <th>2019-07-29 10:00:00-04:00</th>\n      <td>10.5000</td>\n      <td>10.5800</td>\n      <td>10.4300</td>\n      <td>10.4400</td>\n      <td>4840329.0</td>\n    </tr>\n    <tr>\n      <th>2019-07-29 10:30:00-04:00</th>\n      <td>10.4404</td>\n      <td>10.4847</td>\n      <td>10.3997</td>\n      <td>10.4104</td>\n      <td>3860280.0</td>\n    </tr>\n    <tr>\n      <th>2019-07-29 11:00:00-04:00</th>\n      <td>10.4200</td>\n      <td>10.5000</td>\n      <td>10.4100</td>\n      <td>10.5000</td>\n      <td>1912153.0</td>\n    </tr>\n    <tr>\n      <th>2019-07-29 11:30:00-04:00</th>\n      <td>10.4931</td>\n      <td>10.5300</td>\n      <td>10.4800</td>\n      <td>10.4850</td>\n      <td>1916453.0</td>\n    </tr>\n    <tr>\n      <th>2019-07-29 12:00:00-04:00</th>\n      <td>10.4900</td>\n      <td>10.5000</td>\n      <td>10.4400</td>\n      <td>10.4500</td>\n      <td>2467638.0</td>\n    </tr>\n    <tr>\n      <th>...</th>\n      <td>...</td>\n      <td>...</td>\n      <td>...</td>\n      <td>...</td>\n      <td>...</td>\n    </tr>\n    <tr>\n      <th>2019-09-09 14:00:00-04:00</th>\n      <td>8.9900</td>\n      <td>8.9950</td>\n      <td>8.9700</td>\n      <td>8.9800</td>\n      <td>1740722.0</td>\n    </tr>\n    <tr>\n      <th>2019-09-09 14:30:00-04:00</th>\n      <td>8.9735</td>\n      <td>9.0000</td>\n      <td>8.9700</td>\n      <td>8.9835</td>\n      <td>1412823.0</td>\n    </tr>\n    <tr>\n      <th>2019-09-09 15:00:00-04:00</th>\n      <td>8.9900</td>\n      <td>9.0100</td>\n      <td>8.9350</td>\n      <td>8.9500</td>\n      <td>4177838.0</td>\n    </tr>\n    <tr>\n      <th>2019-09-09 15:30:00-04:00</th>\n      <td>8.9453</td>\n      <td>8.9700</td>\n      <td>8.9300</td>\n      <td>8.9603</td>\n      <td>2254279.0</td>\n    </tr>\n    <tr>\n      <th>2019-09-09 16:00:00-04:00</th>\n      <td>8.9600</td>\n      <td>8.9900</td>\n      <td>8.9200</td>\n      <td>8.9700</td>\n      <td>6887530.0</td>\n    </tr>\n  </tbody>\n</table>\n<p>389 rows × 5 columns</p>\n</div>"
     },
     "execution_count": 25,
     "metadata": {},
     "output_type": "execute_result"
    }
   ],
   "source": [
    "ge.tz_localize(\"America/New_York\")"
   ],
   "metadata": {
    "collapsed": false
   }
  }
 ],
 "metadata": {
  "kernelspec": {
   "display_name": "Python 3",
   "language": "python",
   "name": "python3"
  },
  "language_info": {
   "codemirror_mode": {
    "name": "ipython",
    "version": 2
   },
   "file_extension": ".py",
   "mimetype": "text/x-python",
   "name": "python",
   "nbconvert_exporter": "python",
   "pygments_lexer": "ipython2",
   "version": "2.7.6"
  }
 },
 "nbformat": 4,
 "nbformat_minor": 0
}

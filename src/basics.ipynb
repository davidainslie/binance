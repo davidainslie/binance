{
 "cells": [
  {
   "cell_type": "markdown",
   "source": [
    "# Time value of money (TVM)"
   ],
   "metadata": {
    "collapsed": false,
    "pycharm": {
     "name": "#%% md\n"
    }
   }
  },
  {
   "cell_type": "markdown",
   "source": [
    "Future value (FV) i.e. compounding\n",
    "\n",
    "You save &#36;100 for 1 year at an interest rate of 3%\n",
    "You save &#36;100 for 3 years at an interest rate of 3% p.a. (per annum)\n",
    "\n",
    "$ FV = PV(1 + r)^n $\n",
    "\n",
    "where\n",
    "FV: Future Value\n",
    "PV: Present Value (today)\n",
    "r: Interest Rate (per period)\n",
    "n: Number of periods"
   ],
   "metadata": {
    "collapsed": false,
    "pycharm": {
     "name": "#%% md\n"
    }
   }
  },
  {
   "cell_type": "code",
   "execution_count": 2,
   "outputs": [
    {
     "data": {
      "text/plain": "103.0"
     },
     "execution_count": 2,
     "metadata": {},
     "output_type": "execute_result"
    }
   ],
   "source": [
    "# 1 year\n",
    "100 * (1 + 0.03) ** 1"
   ],
   "metadata": {
    "collapsed": false,
    "pycharm": {
     "name": "#%%\n"
    }
   }
  },
  {
   "cell_type": "code",
   "execution_count": 3,
   "outputs": [
    {
     "data": {
      "text/plain": "109.2727"
     },
     "execution_count": 3,
     "metadata": {},
     "output_type": "execute_result"
    }
   ],
   "source": [
    "# 3 years\n",
    "100 * (1 + 0.03) ** 3"
   ],
   "metadata": {
    "collapsed": false,
    "pycharm": {
     "name": "#%%\n"
    }
   }
  },
  {
   "cell_type": "markdown",
   "source": [
    "Present value (PV) i.e. discounting\n",
    "\n",
    "How many &#36; to save `today` at an interest rate of 4.5% p.a. to get &#36;110 in 1 year?\n",
    "How many &#36; to save `today` at an interest rate of 4.5% p.a. to get &#36;110 in 3 years?\n",
    "\n",
    "$ PV = \\frac{FV}{(1 + r) ^ n} $\n",
    "\n",
    "i.e. we have to discount the future value."
   ],
   "metadata": {
    "collapsed": false,
    "pycharm": {
     "name": "#%% md\n"
    }
   }
  },
  {
   "cell_type": "code",
   "execution_count": 4,
   "outputs": [
    {
     "data": {
      "text/plain": "105.26315789473685"
     },
     "execution_count": 4,
     "metadata": {},
     "output_type": "execute_result"
    }
   ],
   "source": [
    "# 1 year discounted\n",
    "110 / (1 + 0.045) ** 1"
   ],
   "metadata": {
    "collapsed": false,
    "pycharm": {
     "name": "#%%\n"
    }
   }
  },
  {
   "cell_type": "code",
   "execution_count": 5,
   "outputs": [
    {
     "data": {
      "text/plain": "96.39262644604003"
     },
     "execution_count": 5,
     "metadata": {},
     "output_type": "execute_result"
    }
   ],
   "source": [
    "# 3 year discounted\n",
    "110 / (1 + 0.045) ** 3"
   ],
   "metadata": {
    "collapsed": false,
    "pycharm": {
     "name": "#%%\n"
    }
   }
  },
  {
   "cell_type": "markdown",
   "source": [
    "# Interest rates and returns"
   ],
   "metadata": {
    "collapsed": false,
    "pycharm": {
     "name": "#%% md\n"
    }
   }
  },
  {
   "cell_type": "markdown",
   "source": [
    "Today you receive the offer to deposit &#36;90 in a savings account, getting back &#36;93.50 in 1 year.\n",
    "Today you receive the offer to deposit &#36;90 in a savings account, getting back &#36;93.50 in 3 years.\n",
    "\n",
    "What is the interest rate?\n",
    "\n",
    "$ r = (\\frac{FV}{PV}) ^ \\frac{1}{n} - 1 $"
   ],
   "metadata": {
    "collapsed": false,
    "pycharm": {
     "name": "#%% md\n"
    }
   }
  },
  {
   "cell_type": "code",
   "execution_count": 6,
   "outputs": [
    {
     "data": {
      "text/plain": "0.03888888888888897"
     },
     "execution_count": 6,
     "metadata": {},
     "output_type": "execute_result"
    }
   ],
   "source": [
    "# 1 year\n",
    "(93.50 / 90) ** (1 / 1) - 1"
   ],
   "metadata": {
    "collapsed": false,
    "pycharm": {
     "name": "#%%\n"
    }
   }
  },
  {
   "cell_type": "code",
   "execution_count": 7,
   "outputs": [
    {
     "data": {
      "text/plain": "0.012798463496144663"
     },
     "execution_count": 7,
     "metadata": {},
     "output_type": "execute_result"
    }
   ],
   "source": [
    "# 3 years\n",
    "(93.50 / 90) ** (1 / 3) - 1"
   ],
   "metadata": {
    "collapsed": false,
    "pycharm": {
     "name": "#%%\n"
    }
   }
  },
  {
   "cell_type": "markdown",
   "source": [
    "## Stock returns (price return)"
   ],
   "metadata": {
    "collapsed": false,
    "pycharm": {
     "name": "#%% md\n"
    }
   }
  },
  {
   "cell_type": "markdown",
   "source": [
    "1 year ago you invested &#36;50 in a stock that is now worth &#36;56.50.\n",
    "\n",
    "$ r = \\frac{P_{t + 1}}{P_t} - 1 $\n",
    "\n",
    "where\n",
    "$ {P_t} $: Price @ timestamp t\n",
    "$ {P_{t + 1} $: Price @ t + 1\n",
    "r: Period return (price return)\n",
    "\n",
    "Return on your investment in a stock typically has 2 parts:\n",
    "- any price increase\n",
    "- any dividends\n",
    "\n",
    "So now `r` would be:\n",
    "\n",
    "$ r = \\frac{P_{t + 1} + D_{t + 1}}{P_t} - 1 = \\frac{P_{t + 1}}{P_t} - 1 + \\frac{D_{t + 1}}{P_t} $\n",
    "\n",
    "where\n",
    "$ D_{t + 1} $: Dividend payment @ t + 1\n",
    "r (is now): Period return (total return)\n",
    "\n",
    "and on the right hand side of the formula:\n",
    "$ \\frac{P_{t + 1}}{P_t} - 1 $ is the (original) price return\n",
    "and\n",
    "$ \\frac{D_{t + 1}}{P_t} $ is the dividend yield\n",
    "added together gives the total return"
   ],
   "metadata": {
    "collapsed": false,
    "pycharm": {
     "name": "#%% md\n"
    }
   }
  },
  {
   "cell_type": "code",
   "execution_count": 8,
   "outputs": [
    {
     "data": {
      "text/plain": "0.1299999999999999"
     },
     "execution_count": 8,
     "metadata": {},
     "output_type": "execute_result"
    }
   ],
   "source": [
    "# 1 year ago you invested $50 in a stock that is now worth $56.50\n",
    "56.50 / 50 - 1"
   ],
   "metadata": {
    "collapsed": false,
    "pycharm": {
     "name": "#%%\n"
    }
   }
  },
  {
   "cell_type": "code",
   "execution_count": 9,
   "outputs": [
    {
     "data": {
      "text/plain": "0.16999999999999993"
     },
     "execution_count": 9,
     "metadata": {},
     "output_type": "execute_result"
    }
   ],
   "source": [
    "# 1 year ago you invested $50 in a stock that paid a dividend of $2 and is now worth $56.50\n",
    "(56.50 + 2.00) / 50 - 1"
   ],
   "metadata": {
    "collapsed": false,
    "pycharm": {
     "name": "#%%\n"
    }
   }
  },
  {
   "cell_type": "markdown",
   "source": [
    "# Using variables (where variables are \"memory references\")"
   ],
   "metadata": {
    "collapsed": false,
    "pycharm": {
     "name": "#%% md\n"
    }
   }
  },
  {
   "cell_type": "code",
   "execution_count": 10,
   "outputs": [],
   "source": [
    "# Future value: Invest $100 for 3 years at interest rate of 3%\n",
    "fv = 100 * (1 + 0.03) ** 3"
   ],
   "metadata": {
    "collapsed": false,
    "pycharm": {
     "name": "#%%\n"
    }
   }
  },
  {
   "cell_type": "code",
   "execution_count": 11,
   "outputs": [
    {
     "data": {
      "text/plain": "109.2727"
     },
     "execution_count": 11,
     "metadata": {},
     "output_type": "execute_result"
    }
   ],
   "source": [
    "fv"
   ],
   "metadata": {
    "collapsed": false,
    "pycharm": {
     "name": "#%%\n"
    }
   }
  },
  {
   "cell_type": "code",
   "execution_count": 12,
   "outputs": [],
   "source": [
    "pv = 100\n",
    "r = 0.03\n",
    "n = 3"
   ],
   "metadata": {
    "collapsed": false,
    "pycharm": {
     "name": "#%%\n"
    }
   }
  },
  {
   "cell_type": "code",
   "execution_count": 13,
   "outputs": [],
   "source": [
    "fv = pv * (1 + r) ** n"
   ],
   "metadata": {
    "collapsed": false,
    "pycharm": {
     "name": "#%%\n"
    }
   }
  },
  {
   "cell_type": "code",
   "execution_count": 14,
   "outputs": [
    {
     "data": {
      "text/plain": "109.2727"
     },
     "execution_count": 14,
     "metadata": {},
     "output_type": "execute_result"
    }
   ],
   "source": [
    "fv"
   ],
   "metadata": {
    "collapsed": false,
    "pycharm": {
     "name": "#%%\n"
    }
   }
  },
  {
   "cell_type": "markdown",
   "source": [
    "# print"
   ],
   "metadata": {
    "collapsed": false,
    "pycharm": {
     "name": "#%% md\n"
    }
   }
  },
  {
   "cell_type": "markdown",
   "source": [],
   "metadata": {
    "collapsed": false,
    "pycharm": {
     "name": "#%% md\n"
    }
   }
  },
  {
   "cell_type": "code",
   "execution_count": 15,
   "outputs": [
    {
     "name": "stdout",
     "output_type": "stream",
     "text": [
      "0.1200000000000001\n"
     ]
    }
   ],
   "source": [
    "print(56 / 50 - 1)"
   ],
   "metadata": {
    "collapsed": false,
    "pycharm": {
     "name": "#%%\n"
    }
   }
  },
  {
   "cell_type": "code",
   "execution_count": 16,
   "outputs": [
    {
     "name": "stdout",
     "output_type": "stream",
     "text": [
      "0.1299999999999999 0.16999999999999993\n"
     ]
    }
   ],
   "source": [
    "print(56.50 / 50 - 1, (56.50 + 2) / 50 - 1)"
   ],
   "metadata": {
    "collapsed": false,
    "pycharm": {
     "name": "#%%\n"
    }
   }
  },
  {
   "cell_type": "code",
   "execution_count": 17,
   "outputs": [
    {
     "name": "stdout",
     "output_type": "stream",
     "text": [
      "0.1299999999999999, 0.16999999999999993\n"
     ]
    }
   ],
   "source": [
    "print(56.50 / 50 - 1, (56.50 + 2) / 50 - 1, sep = \", \")"
   ],
   "metadata": {
    "collapsed": false,
    "pycharm": {
     "name": "#%%\n"
    }
   }
  },
  {
   "cell_type": "code",
   "execution_count": 18,
   "outputs": [
    {
     "name": "stdout",
     "output_type": "stream",
     "text": [
      "0.1299999999999999\n",
      "0.16999999999999993\n"
     ]
    }
   ],
   "source": [
    "print(56.50 / 50 - 1, (56.50 + 2) / 50 - 1, sep = \"\\n\")"
   ],
   "metadata": {
    "collapsed": false,
    "pycharm": {
     "name": "#%%\n"
    }
   }
  },
  {
   "cell_type": "markdown",
   "source": [
    "# Future Value (and Present Value) with many cashflows"
   ],
   "metadata": {
    "collapsed": false,
    "pycharm": {
     "name": "#%% md\n"
    }
   }
  },
  {
   "cell_type": "markdown",
   "source": [
    "Today you have &#36;100 in your savings account and you save another:\n",
    "- &#36;10 in t1\n",
    "- &#36;20 in t2\n",
    "- &#36;50 in t3\n",
    "- &#36;30 in t4\n",
    "- &#36;25 in t5\n",
    "(each cf (cashflow) at period's end)\n",
    "\n",
    "Calculate the Future Value of your savings account after 5 years given an interest rate of 3% p.a.\n",
    "\n",
    "$ FV_N = \\sum_{t=0}^{N} CF_t * (1 + r)^{N - t} $\n",
    "\n",
    "where\n",
    "$ FV_N $: Future Value (at N)\n",
    "$ CF_t $: Cashflow @ timestamp t\n",
    "N: Total number of periods\n",
    "r: Interest rate (per period)\n",
    "t: timestamp (0, 1... N)"
   ],
   "metadata": {
    "collapsed": false,
    "pycharm": {
     "name": "#%% md\n"
    }
   }
  },
  {
   "cell_type": "code",
   "execution_count": 19,
   "outputs": [],
   "source": [
    "fv = 100 * (1 + 0.03) ** (5 - 0) + 10 * (1 + 0.03) ** (5 - 1) + 20 * (1 + 0.03) ** (5 - 2) + 50 * (1 + 0.03) ** (5 - 3) + 30 * (1 + 0.03) ** (5 - 4) + 25"
   ],
   "metadata": {
    "collapsed": false,
    "pycharm": {
     "name": "#%%\n"
    }
   }
  },
  {
   "cell_type": "code",
   "execution_count": 20,
   "outputs": [
    {
     "data": {
      "text/plain": "257.98203553"
     },
     "execution_count": 20,
     "metadata": {},
     "output_type": "execute_result"
    }
   ],
   "source": [
    "fv"
   ],
   "metadata": {
    "collapsed": false,
    "pycharm": {
     "name": "#%%\n"
    }
   }
  },
  {
   "cell_type": "markdown",
   "source": [
    "Let's improve the above awkward calculation."
   ],
   "metadata": {
    "collapsed": false,
    "pycharm": {
     "name": "#%% md\n"
    }
   }
  },
  {
   "cell_type": "code",
   "execution_count": 21,
   "outputs": [],
   "source": [
    "cfs = [100, 10, 20, 50, 30, 25]"
   ],
   "metadata": {
    "collapsed": false,
    "pycharm": {
     "name": "#%%\n"
    }
   }
  },
  {
   "cell_type": "markdown",
   "source": [
    "Normally we would index the above from left to right with indexes 0, 1 etc.\n",
    "However, we can index from right to left starting with -1 with the following:\n",
    "[100, 10, 20, 50, 30, 25]\n",
    " -6   -5  -4  -3  -2  -1\n",
    " e.g."
   ],
   "metadata": {
    "collapsed": false,
    "pycharm": {
     "name": "#%% md\n"
    }
   }
  },
  {
   "cell_type": "markdown",
   "source": [],
   "metadata": {
    "collapsed": false,
    "pycharm": {
     "name": "#%% md\n"
    }
   }
  },
  {
   "cell_type": "code",
   "execution_count": 22,
   "outputs": [
    {
     "data": {
      "text/plain": "30"
     },
     "execution_count": 22,
     "metadata": {},
     "output_type": "execute_result"
    }
   ],
   "source": [
    "cfs[-2] # Will be 30"
   ],
   "metadata": {
    "collapsed": false,
    "pycharm": {
     "name": "#%%\n"
    }
   }
  },
  {
   "cell_type": "markdown",
   "source": [
    "Let's recalculate the FV of our (multiple) cashflows by using a second list with the timestamps of the cashflows (a simple list of 0 to 5)"
   ],
   "metadata": {
    "collapsed": false,
    "pycharm": {
     "name": "#%% md\n"
    }
   }
  },
  {
   "cell_type": "code",
   "execution_count": 23,
   "outputs": [],
   "source": [
    "n = [0, 1, 2, 3, 4, 5]\n",
    "\n",
    "f = 1 + 0.03\n",
    "\n",
    "fv = cfs[0] * f ** n[-1] + cfs[1] * f ** n[-2] + cfs[2] * f ** n[-3] + cfs[3] * f ** n[-4] + cfs[4] * f ** n[-5] + 25"
   ],
   "metadata": {
    "collapsed": false,
    "pycharm": {
     "name": "#%%\n"
    }
   }
  },
  {
   "cell_type": "code",
   "execution_count": 24,
   "outputs": [
    {
     "data": {
      "text/plain": "257.98203553"
     },
     "execution_count": 24,
     "metadata": {},
     "output_type": "execute_result"
    }
   ],
   "source": [
    "fv"
   ],
   "metadata": {
    "collapsed": false,
    "pycharm": {
     "name": "#%%\n"
    }
   }
  },
  {
   "cell_type": "markdown",
   "source": [
    "And improve again:"
   ],
   "metadata": {
    "collapsed": false,
    "pycharm": {
     "name": "#%% md\n"
    }
   }
  },
  {
   "cell_type": "code",
   "execution_count": 25,
   "outputs": [
    {
     "data": {
      "text/plain": "257.98203553"
     },
     "execution_count": 25,
     "metadata": {},
     "output_type": "execute_result"
    }
   ],
   "source": [
    "sum([(cf * f ** i) for (cf, i) in list(zip(cfs, reversed(n)))])"
   ],
   "metadata": {
    "collapsed": false,
    "pycharm": {
     "name": "#%%\n"
    }
   }
  },
  {
   "cell_type": "code",
   "execution_count": 30,
   "outputs": [
    {
     "data": {
      "text/plain": "257.98203552999996"
     },
     "execution_count": 30,
     "metadata": {},
     "output_type": "execute_result"
    }
   ],
   "source": [
    "# Or\n",
    "sum([(cf * f ** i) for (i, cf) in list(enumerate(reversed(cfs)))])"
   ],
   "metadata": {
    "collapsed": false,
    "pycharm": {
     "name": "#%%\n"
    }
   }
  },
  {
   "cell_type": "markdown",
   "source": [
    "And we'll do the PV equivalent of the above.\n",
    "\n",
    "Today you agree on a payment plan that guarantees payouts of:\n",
    "- &#36;50 in t1\n",
    "- &#36;60 in t2\n",
    "- &#36;70 in t3\n",
    "- &#36;80 in t4\n",
    "- &#36;100 in t5 (each cf at period's end)\n",
    "\n",
    "Calculate the Funding amount / PV that needs to be paid into the plan today, t0 - Assume interest rate of 4% p.a."
   ],
   "metadata": {
    "collapsed": false,
    "pycharm": {
     "name": "#%% md\n"
    }
   }
  },
  {
   "cell_type": "code",
   "execution_count": 34,
   "outputs": [
    {
     "data": {
      "text/plain": "316.3570869232654"
     },
     "execution_count": 34,
     "metadata": {},
     "output_type": "execute_result"
    }
   ],
   "source": [
    "cfs = [50, 60, 70, 80, 100]\n",
    "\n",
    "f = 1 + 0.04\n",
    "\n",
    "sum([(cf / f ** (1 + i)) for (i, cf) in list(enumerate(cfs))])"
   ],
   "metadata": {
    "collapsed": false,
    "pycharm": {
     "name": "#%%\n"
    }
   }
  },
  {
   "cell_type": "markdown",
   "source": [
    "So, upon an initial investment of &#36;316.36 we receive the above cash flows from the bank.\n",
    "i.e. if we have to pay &#36;316.36 at t0, this outgoing (for us) is a negative value, or\n",
    "$ I_0 $ = -&#36;316.36\n",
    "\n",
    "Formulating this:\n",
    "$ PV = -I_0 $\n",
    "or\n",
    "$ I_0 + PV = 0 = NPV $"
   ],
   "metadata": {
    "collapsed": false,
    "pycharm": {
     "name": "#%% md\n"
    }
   }
  },
  {
   "cell_type": "markdown",
   "source": [
    "A real world example:\n",
    "XYZ company evaluates to buy an additional machine that will increase future profits/cashflows by:\n",
    "- &#36;20 in t1\n",
    "- &#36;50 in t2\n",
    "- &#36;70 in t3\n",
    "- &#36;100 in t4\n",
    "- &#36;50 in t5 (each cf at period's end)\n",
    "\n",
    "The machine costs &#36;200 (investment in to).\n",
    "Calculate the project's NPV and evaluate whether XYZ should persue the project.\n",
    "XYZ's required rate of return (Cost of Capital) is 6% p.a.\n",
    "\n",
    "$ NPV = I_0 + \\sum_{t=1}^{N} \\frac{CF_t}{(1 + r)^t} $\n",
    "\n",
    "where\n",
    "NPV: Net Present Value\n",
    "$ I_0 $: Initial investment (negative)\n",
    "$ CF_t $: Cashflow @ timestamp t\n",
    "N: Total number of periods\n",
    "r: Required interest rate return\n",
    "t: timestamp (0, 1... N)\n",
    "\n",
    "Unlike the previous example, $ I_0 \\neq PV $ for a real world example."
   ],
   "metadata": {
    "collapsed": false,
    "pycharm": {
     "name": "#%% md\n"
    }
   }
  },
  {
   "cell_type": "markdown",
   "source": [
    "> Simple decision rule:\n",
    ">\n",
    "> Accept the project if NPV > 0\n",
    ">\n",
    "> Reject the project if NPV < 0"
   ],
   "metadata": {
    "collapsed": false,
    "pycharm": {
     "name": "#%% md\n"
    }
   }
  },
  {
   "cell_type": "markdown",
   "source": [
    "> Interpretation of NPV:\n",
    ">\n",
    "> Total company value is the sum of all projects' NPVs"
   ],
   "metadata": {
    "collapsed": false,
    "pycharm": {
     "name": "#%% md\n"
    }
   }
  },
  {
   "cell_type": "code",
   "execution_count": 1,
   "outputs": [
    {
     "data": {
      "text/plain": "38.71337130837991"
     },
     "execution_count": 1,
     "metadata": {},
     "output_type": "execute_result"
    }
   ],
   "source": [
    "cfs = [-200, 20, 50, 70, 100, 50]\n",
    "\n",
    "f = 1 + 0.06\n",
    "\n",
    "sum([(cf / f ** i) for (i, cf) in list(enumerate(cfs))])"
   ],
   "metadata": {
    "collapsed": false,
    "pycharm": {
     "name": "#%%\n"
    }
   }
  },
  {
   "cell_type": "markdown",
   "source": [
    "As the calculated NPV is positive we conclude that this is a good deal.\n",
    "But would it still be a good deal if the purchase price was &#36;250?"
   ],
   "metadata": {
    "collapsed": false,
    "pycharm": {
     "name": "#%% md\n"
    }
   }
  },
  {
   "cell_type": "code",
   "execution_count": 6,
   "outputs": [
    {
     "data": {
      "text/plain": "-11.286628691620088"
     },
     "execution_count": 6,
     "metadata": {},
     "output_type": "execute_result"
    }
   ],
   "source": [
    "sum([(cf / f ** i) for (i, cf) in list(enumerate([-250] + cfs[1:]))])"
   ],
   "metadata": {
    "collapsed": false,
    "pycharm": {
     "name": "#%%\n"
    }
   }
  }
 ],
 "metadata": {
  "kernelspec": {
   "display_name": "Python 3",
   "language": "python",
   "name": "python3"
  },
  "language_info": {
   "codemirror_mode": {
    "name": "ipython",
    "version": 2
   },
   "file_extension": ".py",
   "mimetype": "text/x-python",
   "name": "python",
   "nbconvert_exporter": "python",
   "pygments_lexer": "ipython2",
   "version": "2.7.6"
  }
 },
 "nbformat": 4,
 "nbformat_minor": 0
}
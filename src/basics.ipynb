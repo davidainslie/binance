{
 "cells": [
  {
   "cell_type": "markdown",
   "source": [
    "# Time value of money (TVM)"
   ],
   "metadata": {
    "collapsed": false,
    "pycharm": {
     "name": "#%% md\n"
    }
   }
  },
  {
   "cell_type": "markdown",
   "source": [
    "Future value (FV) i.e. compounding\n",
    "\n",
    "You save &#36;100 for 1 year at an interest rate of 3%\n",
    "You save &#36;100 for 3 years at an interest rate of 3% p.a. (per annum)\n",
    "\n",
    "$ FV = PV(1 + r)^n $\n",
    "\n",
    "where\n",
    "FV: Future Value\n",
    "PV: Present Value (today)\n",
    "r: Interest Rate (per period)\n",
    "n: Number of periods"
   ],
   "metadata": {
    "collapsed": false,
    "pycharm": {
     "name": "#%% md\n"
    }
   }
  },
  {
   "cell_type": "code",
   "execution_count": 3,
   "outputs": [
    {
     "data": {
      "text/plain": "103.0"
     },
     "execution_count": 3,
     "metadata": {},
     "output_type": "execute_result"
    }
   ],
   "source": [
    "# 1 year\n",
    "100 * (1 + 0.03) ** 1"
   ],
   "metadata": {
    "collapsed": false,
    "pycharm": {
     "name": "#%%\n"
    }
   }
  },
  {
   "cell_type": "code",
   "execution_count": 6,
   "outputs": [
    {
     "data": {
      "text/plain": "109.2727"
     },
     "execution_count": 6,
     "metadata": {},
     "output_type": "execute_result"
    }
   ],
   "source": [
    "# 3 years\n",
    "100 * (1 + 0.03) ** 3"
   ],
   "metadata": {
    "collapsed": false,
    "pycharm": {
     "name": "#%%\n"
    }
   }
  },
  {
   "cell_type": "markdown",
   "source": [
    "Present value (PV) i.e. discounting\n",
    "\n",
    "How many &#36; to save `today` at an interest rate of 4.5% p.a. to get &#36;110 in 1 year?\n",
    "How many &#36; to save `today` at an interest rate of 4.5% p.a. to get &#36;110 in 3 years?\n",
    "\n",
    "$ PV = \\frac{FV}{(1 + r) ^ n} $\n",
    "\n",
    "i.e. we have to discount the future value."
   ],
   "metadata": {
    "collapsed": false,
    "pycharm": {
     "name": "#%% md\n"
    }
   }
  },
  {
   "cell_type": "code",
   "execution_count": 7,
   "outputs": [
    {
     "data": {
      "text/plain": "105.26315789473685"
     },
     "execution_count": 7,
     "metadata": {},
     "output_type": "execute_result"
    }
   ],
   "source": [
    "# 1 year discounted\n",
    "110 / (1 + 0.045) ** 1"
   ],
   "metadata": {
    "collapsed": false,
    "pycharm": {
     "name": "#%%\n"
    }
   }
  },
  {
   "cell_type": "code",
   "execution_count": 9,
   "outputs": [
    {
     "data": {
      "text/plain": "96.39262644604003"
     },
     "execution_count": 9,
     "metadata": {},
     "output_type": "execute_result"
    }
   ],
   "source": [
    "# 3 year discounted\n",
    "110 / (1 + 0.045) ** 3"
   ],
   "metadata": {
    "collapsed": false,
    "pycharm": {
     "name": "#%%\n"
    }
   }
  },
  {
   "cell_type": "markdown",
   "source": [
    "# Interest Rates and Returns"
   ],
   "metadata": {
    "collapsed": false,
    "pycharm": {
     "name": "#%% md\n"
    }
   }
  },
  {
   "cell_type": "markdown",
   "source": [
    "Today you receive the offer to deposit &#36;90 in a savings account, getting back &#36;93.50 in 1 year.\n",
    "Today you receive the offer to deposit &#36;90 in a savings account, getting back &#36;93.50 in 3 years.\n",
    "\n",
    "What is the interest rate?\n",
    "\n",
    "$ r = (\\frac{FV}{PV}) ^ \\frac{1}{n} - 1 $"
   ],
   "metadata": {
    "collapsed": false,
    "pycharm": {
     "name": "#%% md\n"
    }
   }
  },
  {
   "cell_type": "code",
   "execution_count": 1,
   "outputs": [
    {
     "data": {
      "text/plain": "0.03888888888888897"
     },
     "execution_count": 1,
     "metadata": {},
     "output_type": "execute_result"
    }
   ],
   "source": [
    "# 1 year\n",
    "(93.50 / 90) ** (1 / 1) - 1"
   ],
   "metadata": {
    "collapsed": false,
    "pycharm": {
     "name": "#%%\n"
    }
   }
  },
  {
   "cell_type": "code",
   "execution_count": 2,
   "outputs": [
    {
     "data": {
      "text/plain": "0.012798463496144663"
     },
     "execution_count": 2,
     "metadata": {},
     "output_type": "execute_result"
    }
   ],
   "source": [
    "# 3 years\n",
    "(93.50 / 90) ** (1 / 3) - 1"
   ],
   "metadata": {
    "collapsed": false,
    "pycharm": {
     "name": "#%%\n"
    }
   }
  },
  {
   "cell_type": "markdown",
   "source": [
    "## Stock returns (price return)"
   ],
   "metadata": {
    "collapsed": false,
    "pycharm": {
     "name": "#%% md\n"
    }
   }
  },
  {
   "cell_type": "markdown",
   "source": [
    "1 year ago you invested &#36;50 in a stock that is now work &#36;56.50.\n",
    "\n",
    "$ r = \\frac{P_{t + 1}}{P_t} - 1 $\n",
    "\n",
    "where\n",
    "$ {P_t} $: Price @ timestamp t\n",
    "$ {P_{t + 1} $: Price @ t + 1\n",
    "r: Period return (price return)\n",
    "\n",
    "Return on your investment in a stock typically has 2 parts:\n",
    "- any price increase\n",
    "- any dividends\n",
    "\n",
    "So now `r` would be:\n",
    "\n",
    "$ r = \\frac{P_{t + 1} + D_{t + 1}}{P_t} - 1 = \\frac{P_{t + 1}}{P_t} - 1 + \\frac{D_{t + 1}}{P_t} $\n",
    "\n",
    "where\n",
    "$ D_{t + 1} $: Dividend payment @ t + 1\n",
    "r (is now): Period return (total return)\n",
    "\n",
    "and on the right hand side of the formula:\n",
    "$ \\frac{P_{t + 1}}{P_t} - 1 $ is the (original) price return\n",
    "and\n",
    "$ \\frac{D_{t + 1}}{P_t} $ is the dividend yield\n",
    "added together gives the totoal return"
   ],
   "metadata": {
    "collapsed": false,
    "pycharm": {
     "name": "#%% md\n"
    }
   }
  },
  {
   "cell_type": "markdown",
   "source": [],
   "metadata": {
    "collapsed": false,
    "pycharm": {
     "name": "#%% md\n"
    }
   }
  }
 ],
 "metadata": {
  "kernelspec": {
   "display_name": "Python 3",
   "language": "python",
   "name": "python3"
  },
  "language_info": {
   "codemirror_mode": {
    "name": "ipython",
    "version": 2
   },
   "file_extension": ".py",
   "mimetype": "text/x-python",
   "name": "python",
   "nbconvert_exporter": "python",
   "pygments_lexer": "ipython2",
   "version": "2.7.6"
  }
 },
 "nbformat": 4,
 "nbformat_minor": 0
}
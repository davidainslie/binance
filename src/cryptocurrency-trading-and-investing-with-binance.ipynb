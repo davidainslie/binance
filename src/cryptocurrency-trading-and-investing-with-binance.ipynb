{
 "cells": [
  {
   "cell_type": "markdown",
   "source": [
    "# Cryptocurrency Trading and Investing with Binance"
   ],
   "metadata": {
    "collapsed": false
   }
  },
  {
   "cell_type": "markdown",
   "source": [
    "## Stop loss order\n",
    "\n",
    "Limit orders are placed to `grab` profit. You may want to set one of these against a `market` order,\n",
    "One order you will definitely want to place against a `market` order is a `stop loss` order.\n",
    "\n",
    "Let's say we bought Bitcoin at around 37k EUR - We can place a `stop loss` at say 35k EUR.\n",
    "We select the `Stop-limit` tab and enter a price of 35k EUR for the `stop`.\n",
    "However, the `stop` is just the trigger; once this price is reached, we need a `limit` order to be placed to actually sell the Bitcoin.\n",
    "\n",
    "And very important; for a `sell stop loss` we need the price to be slightly below the `stop` price.\n",
    "What if we don't, and we place the `limit` at the same price as the `stop`?\n",
    "Well, if prices are moving rapidly, the `limit` triggered by the `stop` of a same price of 35k EUR takes a finite amount of time to be placed.\n",
    "While the `limit` is being placed, the price may already be below the `stop` and so the `limit` will miss execution.\n",
    "\n",
    "![Stop loss](../docs/images/stop-loss.png)\n",
    "\n",
    "Moral of the story is set the `limit` order lower than the `stop` order (and vice versa when you have `sold` and wish to hedge against the price rising)."
   ],
   "metadata": {
    "collapsed": false
   }
  },
  {
   "cell_type": "markdown",
   "source": [
    "## Order book\n",
    "\n",
    "Limit buy and sell orders are added to the `order book`.\n",
    "![Order book](../docs/images/order-book.png)\n",
    "\n",
    "The more orders in the the order book, the more liquid the market.\n",
    "\n",
    "When you place a limit order in the order book, you are a `market maker`.\n",
    "When you place a market order, you are a `market taker`.\n",
    "\n",
    "When we place a limit order, we will see a `yellow dot` next to the interval of prices on the left of the order book.\n",
    "\n",
    "So, `market orders` are matched against the `order book`.\n",
    "\n",
    "When a market order is executed, there may be `slippage` - This is when our order cannot be completely fulfilled at the best `ask` or `bid` price because there is not enough liquidity at that price, so the enough of the best `ask` or `bid` is taken, and then the next best and so on, until the complete order is fulfilled.\n",
    "The `slippage` is the inclusion of these worse prices.\n",
    "\n",
    "Also note, that the difference between the `lowest ask price` and the `highest bid price` is known as the `bid-ask spread`.\n",
    "\n",
    "We must watch our trading costs. Along with `trading commisions` our trading costs will include `bid-ask spread` and `slippage`, so we want these to be as low as possible."
   ],
   "metadata": {
    "collapsed": false
   }
  }
 ],
 "metadata": {
  "kernelspec": {
   "display_name": "Python 3",
   "language": "python",
   "name": "python3"
  },
  "language_info": {
   "codemirror_mode": {
    "name": "ipython",
    "version": 2
   },
   "file_extension": ".py",
   "mimetype": "text/x-python",
   "name": "python",
   "nbconvert_exporter": "python",
   "pygments_lexer": "ipython2",
   "version": "2.7.6"
  }
 },
 "nbformat": 4,
 "nbformat_minor": 0
}

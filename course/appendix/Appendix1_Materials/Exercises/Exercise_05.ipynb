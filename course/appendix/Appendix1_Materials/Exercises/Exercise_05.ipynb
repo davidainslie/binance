{
 "cells": [
  {
   "cell_type": "markdown",
   "metadata": {
    "pycharm": {
     "name": "#%% md\n"
    }
   },
   "source": [
    "# Coding Exercises (Part 1)"
   ]
  },
  {
   "cell_type": "markdown",
   "metadata": {
    "pycharm": {
     "name": "#%% md\n"
    }
   },
   "source": [
    "Now, you will have the opportunity to practice what you have learned. <br>\n",
    "__Follow the instructions__ and insert your code! "
   ]
  },
  {
   "cell_type": "markdown",
   "metadata": {
    "pycharm": {
     "name": "#%% md\n"
    }
   },
   "source": [
    "The correct answer is provided below your coding cell. There you can check whether your code is correct."
   ]
  },
  {
   "cell_type": "markdown",
   "metadata": {
    "pycharm": {
     "name": "#%% md\n"
    }
   },
   "source": [
    "If you need some help or if you want to check your code, you can also have a look at the __solutions__."
   ]
  },
  {
   "cell_type": "markdown",
   "metadata": {
    "pycharm": {
     "name": "#%% md\n"
    }
   },
   "source": [
    "### Have Fun!"
   ]
  },
  {
   "cell_type": "markdown",
   "metadata": {
    "pycharm": {
     "name": "#%% md\n"
    }
   },
   "source": [
    "--------------------------------------------------------------------------------------------------------------"
   ]
  },
  {
   "cell_type": "markdown",
   "metadata": {
    "pycharm": {
     "name": "#%% md\n"
    }
   },
   "source": [
    "## Exercise 5: Conditional Statements & while loops"
   ]
  },
  {
   "cell_type": "markdown",
   "metadata": {
    "pycharm": {
     "name": "#%% md\n"
    }
   },
   "source": [
    "The ABC Company has a mature project with declining revenues and increasing costs. Net Cashflows are projected as follows:\n",
    "\n",
    "- 500 in year 1,\n",
    "- 350 in year 2, \n",
    "- 200 in year 3,\n",
    "- 50 in year 4,\n",
    "- -100 in year 5,\n",
    "- -200 in year 6"
   ]
  },
  {
   "cell_type": "markdown",
   "metadata": {
    "pycharm": {
     "name": "#%% md\n"
    }
   },
   "source": [
    "1. Separate __positive__ and __negative__ cashflows. __Create two new lists__!"
   ]
  },
  {
   "cell_type": "code",
   "execution_count": 3,
   "metadata": {
    "pycharm": {
     "name": "#%%\n"
    }
   },
   "outputs": [
    {
     "data": {
      "text/plain": "[500, 350, 200, 50, -100, -200]"
     },
     "execution_count": 3,
     "metadata": {},
     "output_type": "execute_result"
    }
   ],
   "source": [
    "# Run the cell\n",
    "cf = [500, 350, 200, 50, -100, -200]"
   ]
  },
  {
   "cell_type": "code",
   "execution_count": 22,
   "metadata": {
    "pycharm": {
     "name": "#%%\n"
    }
   },
   "outputs": [
    {
     "name": "stdout",
     "output_type": "stream",
     "text": [
      "[-100, -200]\n",
      "[500, 350, 200, 50]\n"
     ]
    }
   ],
   "source": [
    "def foldl(f, acc, xs):\n",
    "  if not xs:\n",
    "    return acc\n",
    "  else:\n",
    "    return foldl(f, f(acc, xs[0]), xs[1 :])\n",
    "\n",
    "negatives, positives = foldl(lambda acc, x: (acc[0] + [x], acc[1]) if x < 0 else (acc[0], acc[1] + [x]), ([], []), cf)\n",
    "\n",
    "print(negatives)\n",
    "print(positives)\n",
    "\n",
    "# Asked to \"partition\" by mutation, but we'll do it a FP way (as above).\n",
    "cf_pos =[]\n",
    "cf_neg =[]\n",
    "\n",
    "# for i in cf: # complete the code!"
   ]
  },
  {
   "cell_type": "code",
   "execution_count": 69,
   "metadata": {
    "pycharm": {
     "name": "#%%\n"
    }
   },
   "outputs": [
    {
     "name": "stdout",
     "output_type": "stream",
     "text": [
      "(5, -100)\n"
     ]
    },
    {
     "data": {
      "text/plain": "'Year 5 the first unprofitable year'"
     },
     "execution_count": 69,
     "metadata": {},
     "output_type": "execute_result"
    }
   ],
   "source": [
    "from itertools import dropwhile\n",
    "\n",
    "# firstUnprofitableYear = (list(dropwhile(lambda xs: xs[1] > 0, list(enumerate(cf)))) or [None])[0]\n",
    "firstUnprofitableYear = next(dropwhile(lambda xs: xs[1] > 0, list(enumerate(cf, 1))), None)\n",
    "print(firstUnprofitableYear)\n",
    "f\"Year {firstUnprofitableYear[0]} the first unprofitable year\" if firstUnprofitableYear is not None else None\n"
   ]
  },
  {
   "cell_type": "markdown",
   "metadata": {
    "pycharm": {
     "name": "#%% md\n"
    }
   },
   "source": [
    "2. Get the __first unprofitable year__. Your Code should return the statement __\"Year ... is the first unprofitable Year!\"__ "
   ]
  },
  {
   "cell_type": "code",
   "execution_count": 68,
   "metadata": {
    "pycharm": {
     "name": "#%%\n"
    }
   },
   "outputs": [
    {
     "name": "stdout",
     "output_type": "stream",
     "text": [
      "(4, 50)\n"
     ]
    },
    {
     "data": {
      "text/plain": "'Year 4 is the last profitable year'"
     },
     "execution_count": 68,
     "metadata": {},
     "output_type": "execute_result"
    }
   ],
   "source": [
    "from itertools import takewhile\n",
    "\n",
    "lastUnprofitableYear = next(reversed(list(takewhile(lambda x: x[1] > 0, list(enumerate(cf, 1))))), None)\n",
    "print(lastUnprofitableYear)\n",
    "f\"Year {lastUnprofitableYear[0]} is the last profitable year\" if lastUnprofitableYear is not None else None"
   ]
  },
  {
   "cell_type": "code",
   "execution_count": null,
   "metadata": {
    "pycharm": {
     "name": "#%%\n"
    }
   },
   "outputs": [],
   "source": []
  },
  {
   "cell_type": "markdown",
   "metadata": {
    "pycharm": {
     "name": "#%% md\n"
    }
   },
   "source": [
    "3. Get the __last profitable year__. Your Code should return the statement __\"Year ... is the last profitable Year!\"__ "
   ]
  },
  {
   "cell_type": "code",
   "execution_count": null,
   "metadata": {
    "pycharm": {
     "name": "#%%\n"
    }
   },
   "outputs": [],
   "source": []
  },
  {
   "cell_type": "code",
   "execution_count": null,
   "metadata": {
    "pycharm": {
     "name": "#%%\n"
    }
   },
   "outputs": [],
   "source": []
  },
  {
   "cell_type": "markdown",
   "metadata": {
    "pycharm": {
     "name": "#%% md\n"
    }
   },
   "source": [
    "The __modulo operator %__ returns the __remainder__ of the division between two numbers. For instance, 5 % 3 returns 2. "
   ]
  },
  {
   "cell_type": "code",
   "execution_count": 70,
   "metadata": {
    "pycharm": {
     "name": "#%%\n"
    }
   },
   "outputs": [
    {
     "data": {
      "text/plain": "2"
     },
     "execution_count": 70,
     "metadata": {},
     "output_type": "execute_result"
    }
   ],
   "source": [
    "# run the cell\n",
    "5 % 3"
   ]
  },
  {
   "cell_type": "code",
   "execution_count": 71,
   "metadata": {
    "pycharm": {
     "name": "#%%\n"
    }
   },
   "outputs": [
    {
     "data": {
      "text/plain": "4"
     },
     "execution_count": 71,
     "metadata": {},
     "output_type": "execute_result"
    }
   ],
   "source": [
    "# run the cell\n",
    "14 % 5"
   ]
  },
  {
   "cell_type": "markdown",
   "metadata": {
    "pycharm": {
     "name": "#%% md\n"
    }
   },
   "source": [
    "If a is divisible by b __without remainder__, a % b __returns 0__. "
   ]
  },
  {
   "cell_type": "code",
   "execution_count": 72,
   "metadata": {
    "pycharm": {
     "name": "#%%\n"
    }
   },
   "outputs": [
    {
     "data": {
      "text/plain": "0"
     },
     "execution_count": 72,
     "metadata": {},
     "output_type": "execute_result"
    }
   ],
   "source": [
    "# run the cell\n",
    "a = 9\n",
    "b = 3\n",
    "a % b"
   ]
  },
  {
   "cell_type": "markdown",
   "metadata": {
    "pycharm": {
     "name": "#%% md\n"
    }
   },
   "source": [
    "4. Return the __first number n__ that is __divisible by 362 and 216__ (without remainder).<br>\n",
    "Your code shall return the following statement: __\"... is the first number divisible by 362 and 216!\"__"
   ]
  },
  {
   "cell_type": "code",
   "execution_count": 1,
   "metadata": {
    "pycharm": {
     "name": "#%%\n"
    }
   },
   "outputs": [
    {
     "name": "stdout",
     "output_type": "stream",
     "text": [
      "39096\n"
     ]
    }
   ],
   "source": [
    "from tail_recursive import tail_recursive\n",
    "\n",
    "a = 362\n",
    "b = 216\n",
    "\n",
    "n = 1\n",
    "\n",
    "# while True: # Complete the code! Actually, I want to avoid using \"while\"\n",
    "\n",
    "@tail_recursive\n",
    "def go(n) -> int:\n",
    "  if n % a == 0 and n % b == 0:\n",
    "    return n\n",
    "  else:\n",
    "    return go.tail_call(n + 1)\n",
    "\n",
    "print(go(n))\n",
    "    "
   ]
  },
  {
   "cell_type": "markdown",
   "metadata": {
    "pycharm": {
     "name": "#%% md\n"
    }
   },
   "source": [
    "(result: 39096)"
   ]
  },
  {
   "cell_type": "code",
   "execution_count": null,
   "metadata": {
    "pycharm": {
     "name": "#%%\n"
    }
   },
   "outputs": [],
   "source": []
  },
  {
   "cell_type": "code",
   "execution_count": null,
   "metadata": {
    "pycharm": {
     "name": "#%%\n"
    }
   },
   "outputs": [],
   "source": []
  },
  {
   "cell_type": "markdown",
   "metadata": {
    "pycharm": {
     "name": "#%% md\n"
    }
   },
   "source": [
    "# Well Done!"
   ]
  },
  {
   "cell_type": "markdown",
   "metadata": {
    "pycharm": {
     "name": "#%% md\n"
    }
   },
   "source": [
    "---------------------------------------------------------------------------------------------------------------------"
   ]
  },
  {
   "cell_type": "markdown",
   "metadata": {
    "pycharm": {
     "name": "#%% md\n"
    }
   },
   "source": [
    "# Solutions (Stop here if you want to code on your own!)"
   ]
  },
  {
   "cell_type": "markdown",
   "metadata": {
    "pycharm": {
     "name": "#%% md\n"
    }
   },
   "source": [
    "# ++++++++++++++++++++++++++++++++++++++++++++++++++++++++++++++"
   ]
  },
  {
   "cell_type": "markdown",
   "metadata": {
    "pycharm": {
     "name": "#%% md\n"
    }
   },
   "source": [
    "The ABC Company has a mature project with declining revenues and increasing costs. Net Cashflows are projected as follows:\n",
    "\n",
    "- 500 in year 1,\n",
    "- 350 in year 2, \n",
    "- 200 in year 3,\n",
    "- 50 in year 4,\n",
    "- -100 in year 5,\n",
    "- -200 in year 6"
   ]
  },
  {
   "cell_type": "markdown",
   "metadata": {
    "pycharm": {
     "name": "#%% md\n"
    }
   },
   "source": [
    "1. Separate __positive__ and __negative__ cashflows. __Create two new lists__!"
   ]
  },
  {
   "cell_type": "code",
   "execution_count": 52,
   "metadata": {
    "pycharm": {
     "name": "#%%\n"
    }
   },
   "outputs": [],
   "source": [
    "#run the cell\n",
    "cf = [500, 350, 200, 50, -100, -200]"
   ]
  },
  {
   "cell_type": "code",
   "execution_count": 53,
   "metadata": {
    "pycharm": {
     "name": "#%%\n"
    }
   },
   "outputs": [
    {
     "name": "stdout",
     "output_type": "stream",
     "text": [
      "[500, 350, 200, 50] [-100, -200]\n"
     ]
    }
   ],
   "source": [
    "cf_pos =[]\n",
    "cf_neg =[]\n",
    "\n",
    "for i in cf:\n",
    "    if i > 0:\n",
    "        cf_pos.append(i)\n",
    "    elif i < 0:\n",
    "        cf_neg.append(i)\n",
    "print(cf_pos, cf_neg)"
   ]
  },
  {
   "cell_type": "code",
   "execution_count": null,
   "metadata": {
    "pycharm": {
     "name": "#%%\n"
    }
   },
   "outputs": [],
   "source": []
  },
  {
   "cell_type": "markdown",
   "metadata": {
    "pycharm": {
     "name": "#%% md\n"
    }
   },
   "source": [
    "2. Get the __first unprofitable year__. Your Code should return the statement __\"Year ... is the first unprofitable Year!\"__ "
   ]
  },
  {
   "cell_type": "code",
   "execution_count": 54,
   "metadata": {
    "pycharm": {
     "name": "#%%\n"
    }
   },
   "outputs": [
    {
     "name": "stdout",
     "output_type": "stream",
     "text": [
      "Year 5 is the first unprofitable year!\n"
     ]
    }
   ],
   "source": [
    "n = 1\n",
    "for i in cf:\n",
    "    if i < 0:\n",
    "        print(\"Year {} is the first unprofitable year!\".format(n))\n",
    "        break\n",
    "    n += 1"
   ]
  },
  {
   "cell_type": "markdown",
   "metadata": {
    "pycharm": {
     "name": "#%% md\n"
    }
   },
   "source": [
    "3. Get the __last profitable year__. Your Code should return the statement __\"Year ... is the last profitable Year!\"__ "
   ]
  },
  {
   "cell_type": "code",
   "execution_count": 67,
   "metadata": {
    "pycharm": {
     "name": "#%%\n"
    }
   },
   "outputs": [
    {
     "name": "stdout",
     "output_type": "stream",
     "text": [
      "Year 4 is the last profitable year!\n"
     ]
    }
   ],
   "source": [
    "n = 1\n",
    "for i in cf:\n",
    "    if i < 0:\n",
    "        print(\"Year {} is the last profitable year!\".format(n - 1))\n",
    "        break\n",
    "    n += 1"
   ]
  },
  {
   "cell_type": "code",
   "execution_count": null,
   "metadata": {
    "pycharm": {
     "name": "#%%\n"
    }
   },
   "outputs": [],
   "source": []
  },
  {
   "cell_type": "markdown",
   "metadata": {
    "pycharm": {
     "name": "#%% md\n"
    }
   },
   "source": [
    "The __modulo operator %__ returns the __remainder__ of the division between two numbers. For instance, 5 % 3 returns 2. "
   ]
  },
  {
   "cell_type": "code",
   "execution_count": null,
   "metadata": {
    "pycharm": {
     "name": "#%%\n"
    }
   },
   "outputs": [],
   "source": [
    "# run the cell\n",
    "5 % 3"
   ]
  },
  {
   "cell_type": "code",
   "execution_count": null,
   "metadata": {
    "pycharm": {
     "name": "#%%\n"
    }
   },
   "outputs": [],
   "source": [
    "# run the cell\n",
    "14 % 5"
   ]
  },
  {
   "cell_type": "markdown",
   "metadata": {
    "pycharm": {
     "name": "#%% md\n"
    }
   },
   "source": [
    "If a is divisible by b __without remainder__, a % b __returns 0__. "
   ]
  },
  {
   "cell_type": "code",
   "execution_count": null,
   "metadata": {
    "pycharm": {
     "name": "#%%\n"
    }
   },
   "outputs": [],
   "source": [
    "# run the cell\n",
    "a = 9\n",
    "b = 3\n",
    "a % b"
   ]
  },
  {
   "cell_type": "markdown",
   "metadata": {
    "pycharm": {
     "name": "#%% md\n"
    }
   },
   "source": [
    "4. Return the __first number n__ that is __divisible by 362 and 216__ (without remainder).<br>\n",
    "Your code shall return the following statement: __\"... is the first number divisible by 362 and 216!\"__"
   ]
  },
  {
   "cell_type": "code",
   "execution_count": null,
   "metadata": {
    "pycharm": {
     "name": "#%%\n"
    }
   },
   "outputs": [],
   "source": [
    "a = 362\n",
    "b = 216\n",
    "\n",
    "n = 1\n",
    "while True:\n",
    "    if (n%a == 0) and (n%b == 0):\n",
    "        print(\"{} is the first number divisible by {} and {}!\".format(n, a, b))\n",
    "        break\n",
    "    n+=1"
   ]
  },
  {
   "cell_type": "markdown",
   "metadata": {
    "pycharm": {
     "name": "#%% md\n"
    }
   },
   "source": [
    "(result: 39096)"
   ]
  },
  {
   "cell_type": "code",
   "execution_count": null,
   "metadata": {
    "pycharm": {
     "name": "#%%\n"
    }
   },
   "outputs": [],
   "source": []
  }
 ],
 "metadata": {
  "kernelspec": {
   "display_name": "Python 3",
   "language": "python",
   "name": "python3"
  },
  "language_info": {
   "codemirror_mode": {
    "name": "ipython",
    "version": 3
   },
   "file_extension": ".py",
   "mimetype": "text/x-python",
   "name": "python",
   "nbconvert_exporter": "python",
   "pygments_lexer": "ipython3",
   "version": "3.7.4"
  }
 },
 "nbformat": 4,
 "nbformat_minor": 2
}